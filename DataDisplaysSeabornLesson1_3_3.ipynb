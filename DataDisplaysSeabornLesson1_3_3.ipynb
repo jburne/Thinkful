{
 "cells": [
  {
   "cell_type": "markdown",
   "metadata": {},
   "source": [
    "## Displaying Data with Seaborn\n",
    "### Thinkful Lesson 1.3.3"
   ]
  },
  {
   "cell_type": "code",
   "execution_count": 1,
   "metadata": {},
   "outputs": [],
   "source": [
    "import numpy as np\n",
    "import pandas as pd\n",
    "import matplotlib.pyplot as plt\n",
    "import seaborn as sns\n",
    "%matplotlib inline"
   ]
  },
  {
   "cell_type": "markdown",
   "metadata": {},
   "source": [
    "I decided to complete this lesson with data files provided for introductory Statistics text, The Practice of Statistics by Yates/Moore/McCabe.  The first is high school graduation rates by State and by region."
   ]
  },
  {
   "cell_type": "code",
   "execution_count": 2,
   "metadata": {},
   "outputs": [],
   "source": [
    "grad_rate = pd.read_csv('~/Downloads/gradRate.csv')"
   ]
  },
  {
   "cell_type": "code",
   "execution_count": 3,
   "metadata": {},
   "outputs": [
    {
     "name": "stdout",
     "output_type": "stream",
     "text": [
      "             STATE  PCTGRAD REGION\n",
      "0          ALABAMA     72.0      S\n",
      "1           ALASKA     68.0      W\n",
      "2          ARIZONA     78.0      W\n",
      "3         ARKANSAS     81.0      S\n",
      "4       CALIFORNIA     76.0      W\n",
      "5         COLORADO     74.0      W\n",
      "6      CONNECTICUT     83.0     NE\n",
      "7         DELAWARE     78.0      S\n",
      "8               DC     59.0      S\n",
      "9          FLORIDA     71.0      S\n",
      "10         GEORGIA     67.0      S\n",
      "11          HAWAII     80.0      W\n",
      "12           IDAHO      NaN      W\n",
      "13        ILLINOIS     84.0     MW\n",
      "14         INDIANA     86.0     MW\n",
      "15            IOWA     88.0     MW\n",
      "16          KANSAS     83.0     MW\n",
      "17        KENTUCKY      NaN      S\n",
      "18       LOUISIANA     71.0      S\n",
      "19           MAINE     84.0     NE\n",
      "20        MARYLAND     83.0      S\n",
      "21   MASSACHUSETTS     83.0     NE\n",
      "22        MICHIGAN     74.0     MW\n",
      "23       MINNESOTA     77.0     MW\n",
      "24     MISSISSIPPI     75.0      S\n",
      "25        MISSOURI     81.0     MW\n",
      "26         MONTANA     82.0      W\n",
      "27        NEBRASKA     86.0     MW\n",
      "28          NEVADA     62.0      W\n",
      "29   NEW_HAMPSHIRE     86.0     NE\n",
      "30      NEW_JERSEY     83.0     NE\n",
      "31      NEW_MEXICO     63.0      W\n",
      "32        NEW_YORK     77.0     NE\n",
      "33  NORTH_CAROLINA     78.0      S\n",
      "34    NORTH_DAKOTA     86.0     MW\n",
      "35            OHIO     80.0     MW\n",
      "36        OKLAHOMA      NaN      S\n",
      "37          OREGON     68.0      W\n",
      "38    PENNSYLVANIA     83.0     NE\n",
      "39    RHODE_ISLAND     77.0     NE\n",
      "40  SOUTH_CAROLINA     74.0      S\n",
      "41    SOUTH_DAKOTA     83.0     MW\n",
      "42       TENNESSEE     86.0      S\n",
      "43           TEXAS     86.0      S\n",
      "44            UTAH     76.0      W\n",
      "45         VERMONT     87.0     NE\n",
      "46        VIRGINIA     82.0      S\n",
      "47      WASHINGTON     76.0      W\n",
      "48   WEST_VIRGINIA     76.0      S\n",
      "49       WISCONSIN     87.0     MW\n",
      "50         WYOMING     80.0      W\n"
     ]
    }
   ],
   "source": [
    "print(grad_rate)"
   ]
  },
  {
   "cell_type": "code",
   "execution_count": 9,
   "metadata": {},
   "outputs": [
    {
     "data": {
      "image/png": "[encoded data removed]",
      "text/plain": [
       "<Figure size 432x288 with 1 Axes>"
      ]
     },
     "metadata": {
      "needs_background": "light"
     },
     "output_type": "display_data"
    }
   ],
   "source": [
    "ax = sns.boxplot(x = 'REGION', y = 'PCTGRAD', data = grad_rate)\n",
    "plt.title('HS Graduation Rates by Region')\n",
    "plt.show()"
   ]
  },
  {
   "cell_type": "markdown",
   "metadata": {},
   "source": [
    "The next data set I explored was a comparison of laundry soaps. Data was type (Liquid, Powder, Gel) Rating (higher is better) and PricePerLoad."
   ]
  },
  {
   "cell_type": "code",
   "execution_count": 11,
   "metadata": {},
   "outputs": [],
   "source": [
    "soap = pd.read_csv('~/Thinkful/soap.csv')"
   ]
  },
  {
   "cell_type": "code",
   "execution_count": 12,
   "metadata": {},
   "outputs": [
    {
     "name": "stdout",
     "output_type": "stream",
     "text": [
      "    ID    Type  Rating  PricePerLoad\n",
      "0    1  Liquid      61            17\n",
      "1    2  Liquid      59            22\n",
      "2    3  Liquid      56            22\n",
      "3    4  Liquid      55            16\n",
      "4    5  Liquid      55            30\n",
      "5    6  Liquid      52            23\n",
      "6    7  Powder      51            11\n",
      "7    8  Powder      50            15\n",
      "8    9  Powder      50             9\n",
      "9   10  Liquid      48            16\n",
      "10  11  Powder      48            15\n",
      "11  12  Powder      48            18\n",
      "12  13     Gel      46            13\n",
      "13  14     Gel      46            13\n",
      "14  15  Powder      45            17\n",
      "15  16  Powder      36             8\n",
      "16  17  Powder      35             8\n",
      "17  18  Powder      34            12\n",
      "18  19  Powder      33             7\n",
      "19  20  Powder      32             6\n",
      "20  21  Powder      32             5\n",
      "21  22  Powder      29            14\n",
      "22  23  Powder      26            11\n",
      "23  24  Powder      26            13\n"
     ]
    }
   ],
   "source": [
    "print(soap)"
   ]
  },
  {
   "cell_type": "code",
   "execution_count": 14,
   "metadata": {},
   "outputs": [],
   "source": [
    "powder = soap.loc[(soap['Type']=='Powder'),'Rating']"
   ]
  },
  {
   "cell_type": "code",
   "execution_count": 15,
   "metadata": {},
   "outputs": [],
   "source": [
    "Liq_Gel = soap.loc[(soap['Type']!='Powder'),'Rating']"
   ]
  },
  {
   "cell_type": "markdown",
   "metadata": {},
   "source": [
    "NOTE:  Need to go over error below and talk about how to fix."
   ]
  },
  {
   "cell_type": "code",
   "execution_count": 23,
   "metadata": {},
   "outputs": [
    {
     "name": "stderr",
     "output_type": "stream",
     "text": [
      "/home/john/anaconda3/lib/python3.7/site-packages/scipy/stats/stats.py:1713: FutureWarning: Using a non-tuple sequence for multidimensional indexing is deprecated; use `arr[tuple(seq)]` instead of `arr[seq]`. In the future this will be interpreted as an array index, `arr[np.array(seq)]`, which will result either in an error or a different result.\n",
      "  return np.add.reduce(sorted[indexer] * weights, axis=axis) / sumval\n"
     ]
    },
    {
     "data": {
      "image/png": "[encoded data removed]",
      "text/plain": [
       "<Figure size 432x432 with 1 Axes>"
      ]
     },
     "metadata": {},
     "output_type": "display_data"
    }
   ],
   "source": [
    "sns.set(style='whitegrid')\n",
    "s = sns.catplot(x='Type',y='Rating',data=soap,\n",
    "                   height=6, kind=\"point\", palette=\"pastel\",ci=95,dodge=True,join=False)\n",
    "s.despine(left=True)\n",
    "s.set_ylabels(\"Rating\")\n",
    "s.set_xlabels(\"\")\n",
    "plt.title('Rating by Type')\n",
    "plt.show()\n",
    "\n"
   ]
  },
  {
   "cell_type": "markdown",
   "metadata": {},
   "source": [
    "Finally, let's just create a scatterplot to see if price and rating are at all correlated."
   ]
  },
  {
   "cell_type": "code",
   "execution_count": 31,
   "metadata": {},
   "outputs": [
    {
     "data": {
      "image/png": "[encoded data removed]",
      "text/plain": [
       "<Figure size 440.475x360 with 1 Axes>"
      ]
     },
     "metadata": {},
     "output_type": "display_data"
    }
   ],
   "source": [
    "soapSP = sns.lmplot(y = 'Rating',\n",
    "                    x = 'PricePerLoad',\n",
    "                    data=soap,\n",
    "                    fit_reg=False,\n",
    "                    hue='Type',\n",
    "                    ci = True)\n",
    "plt.show()"
   ]
  },
  {
   "cell_type": "markdown",
   "metadata": {},
   "source": [
    "Questions: How to get a regression line using ALL of the data?  These data are split by group at this point, so seaborn assumes you want regression lines for each data type.\n"
   ]
  }
 ],
 "metadata": {
  "kernelspec": {
   "display_name": "Python 3",
   "language": "python",
   "name": "python3"
  },
  "language_info": {
   "codemirror_mode": {
    "name": "ipython",
    "version": 3
   },
   "file_extension": ".py",
   "mimetype": "text/x-python",
   "name": "python",
   "nbconvert_exporter": "python",
   "pygments_lexer": "ipython3",
   "version": "3.7.1"
  }
 },
 "nbformat": 4,
 "nbformat_minor": 2
}
