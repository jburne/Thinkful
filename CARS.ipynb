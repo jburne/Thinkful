{
 "cells": [
  {
   "cell_type": "markdown",
   "metadata": {},
   "source": [
    "## Exploring Cash for Clunkers Data"
   ]
  },
  {
   "cell_type": "markdown",
   "metadata": {},
   "source": [
    "### Explanation of the program, from [Wikipedia](https://en.wikipedia.org/wiki/Car_Allowance_Rebate_System)\n",
    "The Car Allowance Rebate System (CARS), colloquially known as \"cash for clunkers\", was a 3 billion dollar U.S. federal scrappage program intended to provide economic incentives to U.S. residents to purchase a new, more fuel-efficient vehicle when trading in a less fuel-efficient vehicle. The program was promoted as providing stimulus to the economy by boosting auto sales, while putting safer, cleaner, and more fuel-efficient vehicles on the roadways.\n",
    "\n",
    "### Eligibility criteria\n",
    "- Vehicle must be less than 25 years old on the trade-in date.\n",
    "- Only the purchase or 5 year minimum lease of new vehicles qualify.\n",
    "- Generally, trade-in vehicles must get a weighted combined average rating of 18 or fewer miles per gallon (some very large pickup trucks and cargo vans have different requirements).\n",
    "- Trade-in vehicles must be registered and insured continuously for the full year preceding the trade-in.\n",
    "- Trade-in vehicles must be in driveable condition.\n",
    "- The new car bought under the plan must have a suggested retail price of no more than 45,000 dollars, and for passenger automobiles, the new vehicle must have a combined fuel economy value of at least 22 mpg‑US"
   ]
  },
  {
   "cell_type": "markdown",
   "metadata": {},
   "source": [
    "#### Data sources\n",
    "Data for this program, detailing both cars traded in and new cars purchased (or leased) are listed on www.data.gov Unfortunately, the links for those datasets are currently broken.  They were retrieved using [The Internet Wayback Machine](https://archive.org/web/) with a 2013 scan date."
   ]
  },
  {
   "cell_type": "code",
   "execution_count": 1,
   "metadata": {},
   "outputs": [],
   "source": [
    "import pandas as pd\n",
    "import numpy as np\n",
    "import matplotlib.pyplot as plt\n",
    "%matplotlib inline"
   ]
  },
  {
   "cell_type": "code",
   "execution_count": 2,
   "metadata": {},
   "outputs": [],
   "source": [
    "trade_in = pd.DataFrame\n",
    "trade_in = pd.read_csv('Desktop/trade-in-vehicles.csv')\n",
    "new_vehicle = pd.DataFrame\n",
    "new_vehicle = pd.read_csv('Desktop/new-vehicles.csv')"
   ]
  },
  {
   "cell_type": "markdown",
   "metadata": {},
   "source": [
    "### Initial Reflections on Datasets\n",
    "1. Biggest thing to notice in the Trade-In data is that this is provided by with a \"counts\" column.  I'll have to learn how to use this when making graphs as we haven't covered it yet.\n",
    "2. I'm not at all sure how the \"Vehicle-Category is defined as clearly some of the vehicles listed are not Trucks or even on a truck chassis.  Examples from the New Vehicle data: Chevy Aveo, Cobalt, Impala, HHR are all listed as \"Category 1 truck\". Clearly something is messed up.  Description of the data set was not provided in the Wayback site.\n",
    "3. The New Vehicle data is separated first by make, then by YEAR, finally by Model.  \n",
    "4. Much data is missing, or at least non-standard.\n",
    "5. Data is compiled by brand name, that is, GM is not individualized, but separated by Buick, Chevrolet, etc.  Same with Ford/Mercury.  If I grow interested in how _companies_ fared in the program, I'll have to aggregate this."
   ]
  },
  {
   "cell_type": "code",
   "execution_count": 3,
   "metadata": {},
   "outputs": [
    {
     "data": {
      "text/html": [
       "<div>\n",
       "<style scoped>\n",
       "    .dataframe tbody tr th:only-of-type {\n",
       "        vertical-align: middle;\n",
       "    }\n",
       "\n",
       "    .dataframe tbody tr th {\n",
       "        vertical-align: top;\n",
       "    }\n",
       "\n",
       "    .dataframe thead th {\n",
       "        text-align: right;\n",
       "    }\n",
       "</style>\n",
       "<table border=\"1\" class=\"dataframe\">\n",
       "  <thead>\n",
       "    <tr style=\"text-align: right;\">\n",
       "      <th></th>\n",
       "      <th>Trade_in_Vehicle_Category</th>\n",
       "      <th>Trade_in_make</th>\n",
       "      <th>Trade_in_Model</th>\n",
       "      <th>Trade_in_Year</th>\n",
       "      <th>Count</th>\n",
       "    </tr>\n",
       "  </thead>\n",
       "  <tbody>\n",
       "    <tr>\n",
       "      <th>0</th>\n",
       "      <td>1 - Category 1 Truck</td>\n",
       "      <td>AM General</td>\n",
       "      <td>DJ Po Vehicle 2WD</td>\n",
       "      <td>1984</td>\n",
       "      <td>1</td>\n",
       "    </tr>\n",
       "    <tr>\n",
       "      <th>1</th>\n",
       "      <td>1 - Category 1 Truck</td>\n",
       "      <td>AM General</td>\n",
       "      <td>FJ8c Post Office</td>\n",
       "      <td>1984</td>\n",
       "      <td>2</td>\n",
       "    </tr>\n",
       "    <tr>\n",
       "      <th>2</th>\n",
       "      <td>1 - Category 1 Truck</td>\n",
       "      <td>AM General</td>\n",
       "      <td>UNLISTED</td>\n",
       "      <td>1985</td>\n",
       "      <td>1</td>\n",
       "    </tr>\n",
       "    <tr>\n",
       "      <th>3</th>\n",
       "      <td>1 - Category 1 Truck</td>\n",
       "      <td>ASC Incorporat</td>\n",
       "      <td>UNLISTED</td>\n",
       "      <td>1987</td>\n",
       "      <td>1</td>\n",
       "    </tr>\n",
       "    <tr>\n",
       "      <th>4</th>\n",
       "      <td>1 - Category 1 Truck</td>\n",
       "      <td>Acura</td>\n",
       "      <td>3.2CL</td>\n",
       "      <td>2001</td>\n",
       "      <td>1</td>\n",
       "    </tr>\n",
       "  </tbody>\n",
       "</table>\n",
       "</div>"
      ],
      "text/plain": [
       "  Trade_in_Vehicle_Category   Trade_in_make     Trade_in_Model  Trade_in_Year  \\\n",
       "0      1 - Category 1 Truck      AM General  DJ Po Vehicle 2WD           1984   \n",
       "1      1 - Category 1 Truck      AM General   FJ8c Post Office           1984   \n",
       "2      1 - Category 1 Truck      AM General           UNLISTED           1985   \n",
       "3      1 - Category 1 Truck  ASC Incorporat           UNLISTED           1987   \n",
       "4      1 - Category 1 Truck           Acura              3.2CL           2001   \n",
       "\n",
       "   Count  \n",
       "0      1  \n",
       "1      2  \n",
       "2      1  \n",
       "3      1  \n",
       "4      1  "
      ]
     },
     "execution_count": 3,
     "metadata": {},
     "output_type": "execute_result"
    }
   ],
   "source": [
    "trade_in.head()"
   ]
  },
  {
   "cell_type": "markdown",
   "metadata": {},
   "source": [
    "__Note:__ Particularly for the Trade-in data, there are Makes and Models which I am unfamiliar with."
   ]
  },
  {
   "cell_type": "code",
   "execution_count": 4,
   "metadata": {},
   "outputs": [
    {
     "data": {
      "text/html": [
       "<div>\n",
       "<style scoped>\n",
       "    .dataframe tbody tr th:only-of-type {\n",
       "        vertical-align: middle;\n",
       "    }\n",
       "\n",
       "    .dataframe tbody tr th {\n",
       "        vertical-align: top;\n",
       "    }\n",
       "\n",
       "    .dataframe thead th {\n",
       "        text-align: right;\n",
       "    }\n",
       "</style>\n",
       "<table border=\"1\" class=\"dataframe\">\n",
       "  <thead>\n",
       "    <tr style=\"text-align: right;\">\n",
       "      <th></th>\n",
       "      <th>New_Vehicle_Category</th>\n",
       "      <th>New_Vehicle_Make</th>\n",
       "      <th>New_Vehicle_Model</th>\n",
       "      <th>New_Vehicle_Year</th>\n",
       "      <th>Count</th>\n",
       "    </tr>\n",
       "  </thead>\n",
       "  <tbody>\n",
       "    <tr>\n",
       "      <th>0</th>\n",
       "      <td>1 - Category 1 Truck</td>\n",
       "      <td>Acura</td>\n",
       "      <td>RDX 2WD</td>\n",
       "      <td>2010</td>\n",
       "      <td>15</td>\n",
       "    </tr>\n",
       "    <tr>\n",
       "      <th>1</th>\n",
       "      <td>1 - Category 1 Truck</td>\n",
       "      <td>Acura</td>\n",
       "      <td>RDX 4WD</td>\n",
       "      <td>2007</td>\n",
       "      <td>1</td>\n",
       "    </tr>\n",
       "    <tr>\n",
       "      <th>2</th>\n",
       "      <td>1 - Category 1 Truck</td>\n",
       "      <td>Acura</td>\n",
       "      <td>RDX 4WD</td>\n",
       "      <td>2008</td>\n",
       "      <td>2</td>\n",
       "    </tr>\n",
       "    <tr>\n",
       "      <th>3</th>\n",
       "      <td>1 - Category 1 Truck</td>\n",
       "      <td>Acura</td>\n",
       "      <td>RDX 4WD</td>\n",
       "      <td>2009</td>\n",
       "      <td>136</td>\n",
       "    </tr>\n",
       "    <tr>\n",
       "      <th>4</th>\n",
       "      <td>1 - Category 1 Truck</td>\n",
       "      <td>Acura</td>\n",
       "      <td>RDX 4WD</td>\n",
       "      <td>2010</td>\n",
       "      <td>30</td>\n",
       "    </tr>\n",
       "  </tbody>\n",
       "</table>\n",
       "</div>"
      ],
      "text/plain": [
       "   New_Vehicle_Category New_Vehicle_Make New_Vehicle_Model  New_Vehicle_Year  \\\n",
       "0  1 - Category 1 Truck            Acura           RDX 2WD              2010   \n",
       "1  1 - Category 1 Truck            Acura           RDX 4WD              2007   \n",
       "2  1 - Category 1 Truck            Acura           RDX 4WD              2008   \n",
       "3  1 - Category 1 Truck            Acura           RDX 4WD              2009   \n",
       "4  1 - Category 1 Truck            Acura           RDX 4WD              2010   \n",
       "\n",
       "   Count  \n",
       "0     15  \n",
       "1      1  \n",
       "2      2  \n",
       "3    136  \n",
       "4     30  "
      ]
     },
     "execution_count": 4,
     "metadata": {},
     "output_type": "execute_result"
    }
   ],
   "source": [
    "new_vehicle.head()"
   ]
  },
  {
   "cell_type": "markdown",
   "metadata": {},
   "source": [
    "### Interesting aside:\n",
    "One of the biggest effects of the program was it immediately increased the price of USED cars and trucks upon cessation of the program. [From Bureau of Labor Statistics](https://data.bls.gov/timeseries/CUUR0000SETA02?output_view=data) This is economics 101, the program made used cars scarce, it's not surprising their prices would rise."
   ]
  },
  {
   "attachments": {
    "image.png": {
     "image/png": "[encoded data removed]"
    }
   },
   "cell_type": "markdown",
   "metadata": {},
   "source": [
    "![image.png](attachment:image.png)"
   ]
  },
  {
   "cell_type": "markdown",
   "metadata": {},
   "source": [
    "### Ideas for data exploration\n",
    "1. I'd prefer to explore questions which haven't already be addressed by others.\n",
    "2. How would one identify most/least popular cars/trucks?\n",
    "3. What is the distribution of cars/trucks turned in?\n",
    "4. What is the distribution of cars/trucks purchased?\n",
    "5. Was there a significant different in the mix (by brand) of new cars purchased versus the typical market share? \n",
    "6. Was there a significant different in the mix (by body type) new cars purchased versus the typical market share? \n",
    "7. Can any of the above be explained by the rules of the program (different rebate amount for different MPG gain.)\n",
    "8. What are good ideas for graphs or displays which would be useful."
   ]
  },
  {
   "cell_type": "markdown",
   "metadata": {},
   "source": [
    "Notes from messing around.  \n",
    "1. If you want to use a data frame, you have to declare it as such before importing a data base.\n",
    "2. Below is how to select all of one Make.  But what about the following?\n",
    "  How could I select all cars who model name contains RDX?"
   ]
  },
  {
   "cell_type": "markdown",
   "metadata": {},
   "source": [
    "__What is the least popular car__ That is, what Make/Model/Year was turned in more than any other?"
   ]
  },
  {
   "cell_type": "code",
   "execution_count": 5,
   "metadata": {},
   "outputs": [
    {
     "data": {
      "text/html": [
       "<div>\n",
       "<style scoped>\n",
       "    .dataframe tbody tr th:only-of-type {\n",
       "        vertical-align: middle;\n",
       "    }\n",
       "\n",
       "    .dataframe tbody tr th {\n",
       "        vertical-align: top;\n",
       "    }\n",
       "\n",
       "    .dataframe thead th {\n",
       "        text-align: right;\n",
       "    }\n",
       "</style>\n",
       "<table border=\"1\" class=\"dataframe\">\n",
       "  <thead>\n",
       "    <tr style=\"text-align: right;\">\n",
       "      <th></th>\n",
       "      <th>Trade_in_Vehicle_Category</th>\n",
       "      <th>Trade_in_make</th>\n",
       "      <th>Trade_in_Model</th>\n",
       "      <th>Trade_in_Year</th>\n",
       "      <th>Count</th>\n",
       "    </tr>\n",
       "  </thead>\n",
       "  <tbody>\n",
       "    <tr>\n",
       "      <th>1275</th>\n",
       "      <td>1 - Category 1 Truck</td>\n",
       "      <td>Ford</td>\n",
       "      <td>Explorer 4WD</td>\n",
       "      <td>1997</td>\n",
       "      <td>5748</td>\n",
       "    </tr>\n",
       "  </tbody>\n",
       "</table>\n",
       "</div>"
      ],
      "text/plain": [
       "     Trade_in_Vehicle_Category Trade_in_make Trade_in_Model  Trade_in_Year  \\\n",
       "1275      1 - Category 1 Truck          Ford   Explorer 4WD           1997   \n",
       "\n",
       "      Count  \n",
       "1275   5748  "
      ]
     },
     "execution_count": 5,
     "metadata": {},
     "output_type": "execute_result"
    }
   ],
   "source": [
    "trade_in[trade_in['Count']==trade_in.Count.max()]"
   ]
  },
  {
   "cell_type": "markdown",
   "metadata": {},
   "source": [
    "__How did the Explorer do in new car sales?__"
   ]
  },
  {
   "cell_type": "code",
   "execution_count": 6,
   "metadata": {},
   "outputs": [
    {
     "data": {
      "text/html": [
       "<div>\n",
       "<style scoped>\n",
       "    .dataframe tbody tr th:only-of-type {\n",
       "        vertical-align: middle;\n",
       "    }\n",
       "\n",
       "    .dataframe tbody tr th {\n",
       "        vertical-align: top;\n",
       "    }\n",
       "\n",
       "    .dataframe thead th {\n",
       "        text-align: right;\n",
       "    }\n",
       "</style>\n",
       "<table border=\"1\" class=\"dataframe\">\n",
       "  <thead>\n",
       "    <tr style=\"text-align: right;\">\n",
       "      <th></th>\n",
       "      <th>New_Vehicle_Category</th>\n",
       "      <th>New_Vehicle_Make</th>\n",
       "      <th>New_Vehicle_Model</th>\n",
       "      <th>New_Vehicle_Year</th>\n",
       "      <th>Count</th>\n",
       "    </tr>\n",
       "  </thead>\n",
       "  <tbody>\n",
       "    <tr>\n",
       "      <th>1057</th>\n",
       "      <td>3 - Category 3 Truck</td>\n",
       "      <td>Ford</td>\n",
       "      <td>Explorer 4WD</td>\n",
       "      <td>2009</td>\n",
       "      <td>1</td>\n",
       "    </tr>\n",
       "    <tr>\n",
       "      <th>1267</th>\n",
       "      <td>P - Passenger Car</td>\n",
       "      <td>Ford</td>\n",
       "      <td>Explorer 4WD</td>\n",
       "      <td>2007</td>\n",
       "      <td>1</td>\n",
       "    </tr>\n",
       "  </tbody>\n",
       "</table>\n",
       "</div>"
      ],
      "text/plain": [
       "      New_Vehicle_Category New_Vehicle_Make New_Vehicle_Model  \\\n",
       "1057  3 - Category 3 Truck             Ford      Explorer 4WD   \n",
       "1267     P - Passenger Car             Ford      Explorer 4WD   \n",
       "\n",
       "      New_Vehicle_Year  Count  \n",
       "1057              2009      1  \n",
       "1267              2007      1  "
      ]
     },
     "execution_count": 6,
     "metadata": {},
     "output_type": "execute_result"
    }
   ],
   "source": [
    "new_vehicle[new_vehicle['New_Vehicle_Model']==\"Explorer 4WD\"]"
   ]
  },
  {
   "cell_type": "markdown",
   "metadata": {},
   "source": [
    "This is not surprising as they didn't pass the MPG requirement."
   ]
  },
  {
   "cell_type": "markdown",
   "metadata": {},
   "source": [
    "### How many new cars did each brand sell?"
   ]
  },
  {
   "cell_type": "markdown",
   "metadata": {},
   "source": [
    "This returns a Series, whereas the next cell returns a DataFrame.  If I am looking to create bar charts or other data displays, I think I would want a DataFrame."
   ]
  },
  {
   "cell_type": "code",
   "execution_count": 7,
   "metadata": {},
   "outputs": [
    {
     "data": {
      "text/plain": [
       "New_Vehicle_Make\n",
       "Acura             991\n",
       "Audi             1299\n",
       "BMW               759\n",
       "Buick            1138\n",
       "Cadillac           43\n",
       "Chevrolet       86264\n",
       "Chrysler         9013\n",
       "Dodge           24048\n",
       "Ford            89995\n",
       "GMC              9677\n",
       "Honda           87611\n",
       "Hummer             15\n",
       "Hyundai         48731\n",
       "Infiniti           20\n",
       "Isuzu               4\n",
       "Jeep            11183\n",
       "Kia             28920\n",
       "Lexus            3659\n",
       "Lincoln           608\n",
       "MINI             2787\n",
       "Mazda           16130\n",
       "Mercedes-Be       154\n",
       "Mercury          6620\n",
       "Mitsubishi       3534\n",
       "Nissan          58645\n",
       "Pontiac         16630\n",
       "Saab               68\n",
       "Saturn           5327\n",
       "Scion            7851\n",
       "Subaru          16762\n",
       "Suzuki           3684\n",
       "Toyota         120451\n",
       "Volkswagen      12390\n",
       "Volvo             944\n",
       "smart            1126\n",
       "Name: Count, dtype: int64"
      ]
     },
     "execution_count": 7,
     "metadata": {},
     "output_type": "execute_result"
    }
   ],
   "source": [
    "new_vehicle.groupby('New_Vehicle_Make').sum().Count"
   ]
  },
  {
   "cell_type": "code",
   "execution_count": 8,
   "metadata": {},
   "outputs": [
    {
     "data": {
      "text/html": [
       "<div>\n",
       "<style scoped>\n",
       "    .dataframe tbody tr th:only-of-type {\n",
       "        vertical-align: middle;\n",
       "    }\n",
       "\n",
       "    .dataframe tbody tr th {\n",
       "        vertical-align: top;\n",
       "    }\n",
       "\n",
       "    .dataframe thead th {\n",
       "        text-align: right;\n",
       "    }\n",
       "</style>\n",
       "<table border=\"1\" class=\"dataframe\">\n",
       "  <thead>\n",
       "    <tr style=\"text-align: right;\">\n",
       "      <th></th>\n",
       "      <th>Count</th>\n",
       "    </tr>\n",
       "    <tr>\n",
       "      <th>New_Vehicle_Make</th>\n",
       "      <th></th>\n",
       "    </tr>\n",
       "  </thead>\n",
       "  <tbody>\n",
       "    <tr>\n",
       "      <th>Acura</th>\n",
       "      <td>991</td>\n",
       "    </tr>\n",
       "    <tr>\n",
       "      <th>Audi</th>\n",
       "      <td>1299</td>\n",
       "    </tr>\n",
       "    <tr>\n",
       "      <th>BMW</th>\n",
       "      <td>759</td>\n",
       "    </tr>\n",
       "    <tr>\n",
       "      <th>Buick</th>\n",
       "      <td>1138</td>\n",
       "    </tr>\n",
       "    <tr>\n",
       "      <th>Cadillac</th>\n",
       "      <td>43</td>\n",
       "    </tr>\n",
       "    <tr>\n",
       "      <th>Chevrolet</th>\n",
       "      <td>86264</td>\n",
       "    </tr>\n",
       "    <tr>\n",
       "      <th>Chrysler</th>\n",
       "      <td>9013</td>\n",
       "    </tr>\n",
       "    <tr>\n",
       "      <th>Dodge</th>\n",
       "      <td>24048</td>\n",
       "    </tr>\n",
       "    <tr>\n",
       "      <th>Ford</th>\n",
       "      <td>89995</td>\n",
       "    </tr>\n",
       "    <tr>\n",
       "      <th>GMC</th>\n",
       "      <td>9677</td>\n",
       "    </tr>\n",
       "    <tr>\n",
       "      <th>Honda</th>\n",
       "      <td>87611</td>\n",
       "    </tr>\n",
       "    <tr>\n",
       "      <th>Hummer</th>\n",
       "      <td>15</td>\n",
       "    </tr>\n",
       "    <tr>\n",
       "      <th>Hyundai</th>\n",
       "      <td>48731</td>\n",
       "    </tr>\n",
       "    <tr>\n",
       "      <th>Infiniti</th>\n",
       "      <td>20</td>\n",
       "    </tr>\n",
       "    <tr>\n",
       "      <th>Isuzu</th>\n",
       "      <td>4</td>\n",
       "    </tr>\n",
       "    <tr>\n",
       "      <th>Jeep</th>\n",
       "      <td>11183</td>\n",
       "    </tr>\n",
       "    <tr>\n",
       "      <th>Kia</th>\n",
       "      <td>28920</td>\n",
       "    </tr>\n",
       "    <tr>\n",
       "      <th>Lexus</th>\n",
       "      <td>3659</td>\n",
       "    </tr>\n",
       "    <tr>\n",
       "      <th>Lincoln</th>\n",
       "      <td>608</td>\n",
       "    </tr>\n",
       "    <tr>\n",
       "      <th>MINI</th>\n",
       "      <td>2787</td>\n",
       "    </tr>\n",
       "    <tr>\n",
       "      <th>Mazda</th>\n",
       "      <td>16130</td>\n",
       "    </tr>\n",
       "    <tr>\n",
       "      <th>Mercedes-Be</th>\n",
       "      <td>154</td>\n",
       "    </tr>\n",
       "    <tr>\n",
       "      <th>Mercury</th>\n",
       "      <td>6620</td>\n",
       "    </tr>\n",
       "    <tr>\n",
       "      <th>Mitsubishi</th>\n",
       "      <td>3534</td>\n",
       "    </tr>\n",
       "    <tr>\n",
       "      <th>Nissan</th>\n",
       "      <td>58645</td>\n",
       "    </tr>\n",
       "    <tr>\n",
       "      <th>Pontiac</th>\n",
       "      <td>16630</td>\n",
       "    </tr>\n",
       "    <tr>\n",
       "      <th>Saab</th>\n",
       "      <td>68</td>\n",
       "    </tr>\n",
       "    <tr>\n",
       "      <th>Saturn</th>\n",
       "      <td>5327</td>\n",
       "    </tr>\n",
       "    <tr>\n",
       "      <th>Scion</th>\n",
       "      <td>7851</td>\n",
       "    </tr>\n",
       "    <tr>\n",
       "      <th>Subaru</th>\n",
       "      <td>16762</td>\n",
       "    </tr>\n",
       "    <tr>\n",
       "      <th>Suzuki</th>\n",
       "      <td>3684</td>\n",
       "    </tr>\n",
       "    <tr>\n",
       "      <th>Toyota</th>\n",
       "      <td>120451</td>\n",
       "    </tr>\n",
       "    <tr>\n",
       "      <th>Volkswagen</th>\n",
       "      <td>12390</td>\n",
       "    </tr>\n",
       "    <tr>\n",
       "      <th>Volvo</th>\n",
       "      <td>944</td>\n",
       "    </tr>\n",
       "    <tr>\n",
       "      <th>smart</th>\n",
       "      <td>1126</td>\n",
       "    </tr>\n",
       "  </tbody>\n",
       "</table>\n",
       "</div>"
      ],
      "text/plain": [
       "                   Count\n",
       "New_Vehicle_Make        \n",
       "Acura                991\n",
       "Audi                1299\n",
       "BMW                  759\n",
       "Buick               1138\n",
       "Cadillac              43\n",
       "Chevrolet          86264\n",
       "Chrysler            9013\n",
       "Dodge              24048\n",
       "Ford               89995\n",
       "GMC                 9677\n",
       "Honda              87611\n",
       "Hummer                15\n",
       "Hyundai            48731\n",
       "Infiniti              20\n",
       "Isuzu                  4\n",
       "Jeep               11183\n",
       "Kia                28920\n",
       "Lexus               3659\n",
       "Lincoln              608\n",
       "MINI                2787\n",
       "Mazda              16130\n",
       "Mercedes-Be          154\n",
       "Mercury             6620\n",
       "Mitsubishi          3534\n",
       "Nissan             58645\n",
       "Pontiac            16630\n",
       "Saab                  68\n",
       "Saturn              5327\n",
       "Scion               7851\n",
       "Subaru             16762\n",
       "Suzuki              3684\n",
       "Toyota            120451\n",
       "Volkswagen         12390\n",
       "Volvo                944\n",
       "smart               1126"
      ]
     },
     "execution_count": 8,
     "metadata": {},
     "output_type": "execute_result"
    }
   ],
   "source": [
    "new_vehicle.groupby('New_Vehicle_Make').sum()[['Count']]"
   ]
  },
  {
   "cell_type": "markdown",
   "metadata": {},
   "source": [
    "### Idea for graphic\n",
    "Simple plot pie charts for sales through Cash for Clunkers and the historic market share. Conclusions/explainations might include:\n",
    "1. Mix of company's vehicle fleet\n",
    "2. Previous discounting of cars from the company in question"
   ]
  },
  {
   "cell_type": "markdown",
   "metadata": {},
   "source": [
    "### How to gather all models with only minor differences\n",
    "This is necessary to, for example, collect all models named \"Silverado\", a common truck in the Chevy line.  There is a large number of such trucks, to be able to gather them all together was harder than I thought it would be. After a very difficult exploration, I learned how to compute the number of all the model cars which start with a particular substring. "
   ]
  },
  {
   "cell_type": "code",
   "execution_count": 9,
   "metadata": {},
   "outputs": [
    {
     "data": {
      "text/plain": [
       "15804"
      ]
     },
     "execution_count": 9,
     "metadata": {},
     "output_type": "execute_result"
    }
   ],
   "source": [
    "new_vehicle[new_vehicle.New_Vehicle_Model.str.startswith('Silver')].sum().Count"
   ]
  },
  {
   "cell_type": "markdown",
   "metadata": {},
   "source": [
    "So I thought I would create a function which could do this for ANY string"
   ]
  },
  {
   "cell_type": "code",
   "execution_count": 10,
   "metadata": {},
   "outputs": [],
   "source": [
    "cars={}"
   ]
  },
  {
   "cell_type": "code",
   "execution_count": 11,
   "metadata": {},
   "outputs": [
    {
     "data": {
      "text/plain": [
       "{}"
      ]
     },
     "execution_count": 11,
     "metadata": {},
     "output_type": "execute_result"
    }
   ],
   "source": [
    "cars"
   ]
  },
  {
   "cell_type": "code",
   "execution_count": 12,
   "metadata": {},
   "outputs": [],
   "source": [
    "def HowManyOf(myString,myD):\n",
    "    found = new_vehicle[new_vehicle.New_Vehicle_Model.str.startswith(myString)]\n",
    "    myD[myString] = found.sum().Count\n",
    "    return myD[myString]"
   ]
  },
  {
   "cell_type": "code",
   "execution_count": 13,
   "metadata": {},
   "outputs": [
    {
     "data": {
      "text/plain": [
       "114"
      ]
     },
     "execution_count": 13,
     "metadata": {},
     "output_type": "execute_result"
    }
   ],
   "source": [
    "HowManyOf(\"Explor\",cars)"
   ]
  },
  {
   "cell_type": "markdown",
   "metadata": {},
   "source": [
    "If, given a list of Beginning characters for models of cars, one could easily construct a dictionary connecting counts with those model appreviations."
   ]
  },
  {
   "cell_type": "code",
   "execution_count": 14,
   "metadata": {},
   "outputs": [],
   "source": [
    "for model in [\"RDX\",\"TSX\",\"A3\",\"A4\"]: \n",
    "    HowManyOf(model,cars)"
   ]
  },
  {
   "cell_type": "code",
   "execution_count": 15,
   "metadata": {},
   "outputs": [
    {
     "data": {
      "text/plain": [
       "828"
      ]
     },
     "execution_count": 15,
     "metadata": {},
     "output_type": "execute_result"
    }
   ],
   "source": [
    " cars['A4']"
   ]
  },
  {
   "cell_type": "markdown",
   "metadata": {},
   "source": [
    "#### GOALS\n",
    " - Automate the \"collapsing\" of all models with similar names (ignoring years and model differences) and place them into a new data frame.  If possible, include data from weighted average MPG figures. This means I will have to look up MPG data _before_ collapsing the data.  This is going to require I learn how to write a python function which uses panda. (see below)\n",
    " - Automatically replace Make with parent company.  Make sure that I'm correct about who owned which brand in 2009. Perhaps rather then changing Make, I'd be better off adding a new field of 'Parent'. I'm going to assume that someone has addressed this on-line\n",
    " \n",
    "__HELP__ \n"
   ]
  },
  {
   "cell_type": "markdown",
   "metadata": {},
   "source": [
    "#### Challenge: \n",
    "Find how many people bought a hybrid car. Did Cash for Clunkers sell a lot of \"leftover\" hybrids?"
   ]
  },
  {
   "cell_type": "code",
   "execution_count": 16,
   "metadata": {},
   "outputs": [],
   "source": [
    "hybrids=new_vehicle[new_vehicle.New_Vehicle_Model.str.contains(\"Hybrid\")]"
   ]
  },
  {
   "cell_type": "markdown",
   "metadata": {},
   "source": [
    "__Remember__ If you are looking to count by the contents in another column, it takes two brackets."
   ]
  },
  {
   "cell_type": "code",
   "execution_count": 17,
   "metadata": {},
   "outputs": [
    {
     "data": {
      "text/html": [
       "<div>\n",
       "<style scoped>\n",
       "    .dataframe tbody tr th:only-of-type {\n",
       "        vertical-align: middle;\n",
       "    }\n",
       "\n",
       "    .dataframe tbody tr th {\n",
       "        vertical-align: top;\n",
       "    }\n",
       "\n",
       "    .dataframe thead th {\n",
       "        text-align: right;\n",
       "    }\n",
       "</style>\n",
       "<table border=\"1\" class=\"dataframe\">\n",
       "  <thead>\n",
       "    <tr style=\"text-align: right;\">\n",
       "      <th></th>\n",
       "      <th>Count</th>\n",
       "    </tr>\n",
       "    <tr>\n",
       "      <th>New_Vehicle_Year</th>\n",
       "      <th></th>\n",
       "    </tr>\n",
       "  </thead>\n",
       "  <tbody>\n",
       "    <tr>\n",
       "      <th>2007</th>\n",
       "      <td>24</td>\n",
       "    </tr>\n",
       "    <tr>\n",
       "      <th>2008</th>\n",
       "      <td>176</td>\n",
       "    </tr>\n",
       "    <tr>\n",
       "      <th>2009</th>\n",
       "      <td>6864</td>\n",
       "    </tr>\n",
       "    <tr>\n",
       "      <th>2010</th>\n",
       "      <td>2874</td>\n",
       "    </tr>\n",
       "  </tbody>\n",
       "</table>\n",
       "</div>"
      ],
      "text/plain": [
       "                  Count\n",
       "New_Vehicle_Year       \n",
       "2007                 24\n",
       "2008                176\n",
       "2009               6864\n",
       "2010               2874"
      ]
     },
     "execution_count": 17,
     "metadata": {},
     "output_type": "execute_result"
    }
   ],
   "source": [
    "hybrids.groupby('New_Vehicle_Year').sum()[['Count']]"
   ]
  },
  {
   "cell_type": "markdown",
   "metadata": {},
   "source": [
    "It doesn't seem that a high percentage of hybrids were from previous model years."
   ]
  },
  {
   "cell_type": "markdown",
   "metadata": {},
   "source": [
    "Could this be done in one step without defining \"hybrids\"? Sure, why not?"
   ]
  },
  {
   "cell_type": "code",
   "execution_count": 18,
   "metadata": {},
   "outputs": [
    {
     "data": {
      "text/plain": [
       "New_Vehicle_Year\n",
       "2007      24\n",
       "2008     176\n",
       "2009    6864\n",
       "2010    2874\n",
       "Name: Count, dtype: int64"
      ]
     },
     "execution_count": 18,
     "metadata": {},
     "output_type": "execute_result"
    }
   ],
   "source": [
    "new_vehicle[new_vehicle.New_Vehicle_Model.str.contains(\"Hybrid\")].groupby('New_Vehicle_Year').sum()['Count']"
   ]
  },
  {
   "cell_type": "markdown",
   "metadata": {},
   "source": [
    "## How to create a python function to return a number from a pandas query\n",
    "QQ Well that didn't work.... wonder why not...<br>\n",
    "In any event, if I have a hope of importing MPG data automatically, I am going to have to learn how to do this."
   ]
  },
  {
   "cell_type": "code",
   "execution_count": 19,
   "metadata": {},
   "outputs": [
    {
     "data": {
      "text/plain": [
       "114"
      ]
     },
     "execution_count": 19,
     "metadata": {},
     "output_type": "execute_result"
    }
   ],
   "source": [
    "new_vehicle[new_vehicle.New_Vehicle_Model.str.startswith(\"Explor\")].sum().Count"
   ]
  },
  {
   "cell_type": "markdown",
   "metadata": {},
   "source": [
    "# This is the big sticking point...\n",
    "This attempt at defining such a function did not work.  Need to go over it.\n",
    "If I can't get such a function defined, I cannot see a way to automate the process of things like counting each model of car."
   ]
  },
  {
   "cell_type": "code",
   "execution_count": 20,
   "metadata": {},
   "outputs": [],
   "source": [
    "def HowManyOfWhat(myMatch, myFieldToMatch, myFieldToSum):\n",
    "    return(new_vehicle[new_vehicle.myFieldToMatch.str.startswith(myMatch)].sum().myFieldToSum)"
   ]
  },
  {
   "cell_type": "code",
   "execution_count": 21,
   "metadata": {},
   "outputs": [
    {
     "ename": "NameError",
     "evalue": "name 'New_Vehicle_Model' is not defined",
     "output_type": "error",
     "traceback": [
      "\u001b[0;31m---------------------------------------------------------------------------\u001b[0m",
      "\u001b[0;31mNameError\u001b[0m                                 Traceback (most recent call last)",
      "\u001b[0;32m<ipython-input-21-822ea8311a1c>\u001b[0m in \u001b[0;36m<module>\u001b[0;34m\u001b[0m\n\u001b[0;32m----> 1\u001b[0;31m \u001b[0mHowManyOfWhat\u001b[0m\u001b[0;34m(\u001b[0m\u001b[0;34m\"RDX\"\u001b[0m\u001b[0;34m,\u001b[0m\u001b[0mNew_Vehicle_Model\u001b[0m\u001b[0;34m,\u001b[0m\u001b[0mCount\u001b[0m\u001b[0;34m)\u001b[0m\u001b[0;34m\u001b[0m\u001b[0;34m\u001b[0m\u001b[0m\n\u001b[0m",
      "\u001b[0;31mNameError\u001b[0m: name 'New_Vehicle_Model' is not defined"
     ]
    }
   ],
   "source": [
    "HowManyOfWhat(\"RDX\",New_Vehicle_Model,Count)"
   ]
  },
  {
   "cell_type": "code",
   "execution_count": null,
   "metadata": {},
   "outputs": [],
   "source": []
  }
 ],
 "metadata": {
  "kernelspec": {
   "display_name": "Python 3",
   "language": "python",
   "name": "python3"
  },
  "language_info": {
   "codemirror_mode": {
    "name": "ipython",
    "version": 3
   },
   "file_extension": ".py",
   "mimetype": "text/x-python",
   "name": "python",
   "nbconvert_exporter": "python",
   "pygments_lexer": "ipython3",
   "version": "3.7.1"
  }
 },
 "nbformat": 4,
 "nbformat_minor": 2
}
