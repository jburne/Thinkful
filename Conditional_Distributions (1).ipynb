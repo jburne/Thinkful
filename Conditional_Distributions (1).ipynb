{
 "cells": [
  {
   "cell_type": "markdown",
   "metadata": {},
   "source": [
    "## Conditional Distribution in Data Sets\n",
    "Distributions can also be conditional. Consider an ecommerce site. For all of the customers, we have a distribution of the amount that they have spent on the website. It may look something like this:"
   ]
  },
  {
   "cell_type": "code",
   "execution_count": 2,
   "metadata": {},
   "outputs": [],
   "source": [
    "import numpy as np\n",
    "import pandas as pd\n",
    "import matplotlib.pyplot as plt\n",
    "%matplotlib inline"
   ]
  },
  {
   "cell_type": "code",
   "execution_count": 3,
   "metadata": {},
   "outputs": [
    {
     "data": {
      "image/png": "[encoded data removed]",
      "text/plain": [
       "<Figure size 432x288 with 1 Axes>"
      ]
     },
     "metadata": {
      "needs_background": "light"
     },
     "output_type": "display_data"
    }
   ],
   "source": [
    "# Creating a data frame to hold the simulated ecommerce data, and populating it with a\n",
    "# normally distributed variable with mean 75 and standard deviation 25.\n",
    "\n",
    "ecommerce = pd.DataFrame()\n",
    "ecommerce['spending'] = np.random.normal(75, 25, 1000)\n",
    "\n",
    "# Plot a histogram.\n",
    "plt.hist(ecommerce['spending'])\n",
    "plt.show()"
   ]
  },
  {
   "cell_type": "markdown",
   "metadata": {},
   "source": [
    "But let's say we're actually interested in a subset of that population, for instance visitors who visited the site more than twice. That data may look like this:"
   ]
  },
  {
   "cell_type": "code",
   "execution_count": 10,
   "metadata": {},
   "outputs": [
    {
     "data": {
      "image/png": "[encoded data removed]",
      "text/plain": [
       "<Figure size 432x288 with 1 Axes>"
      ]
     },
     "metadata": {
      "needs_background": "light"
     },
     "output_type": "display_data"
    }
   ],
   "source": [
    "# Adding a variable with counts of number of times visiting the site.\n",
    "ecommerce['visit_count'] = np.random.randint(1, 5, 1000)\n",
    "\n",
    "# Let's suppose that people who visit more buy more, and those who visit a lot buy a lot more.\n",
    "ecommerce['spending']= ecommerce['spending'] + 4*ecommerce[\"visit_count\"]**3\n",
    "\n",
    "# Selecting only the cases where the visit count is greater than two and plotting those.\n",
    "plt.hist(ecommerce[ecommerce['visit_count'] > 2]['spending'])\n",
    "plt.show()"
   ]
  },
  {
   "cell_type": "code",
   "execution_count": null,
   "metadata": {},
   "outputs": [],
   "source": []
  }
 ],
 "metadata": {
  "kernelspec": {
   "display_name": "Python 3",
   "language": "python",
   "name": "python3"
  },
  "language_info": {
   "codemirror_mode": {
    "name": "ipython",
    "version": 3
   },
   "file_extension": ".py",
   "mimetype": "text/x-python",
   "name": "python",
   "nbconvert_exporter": "python",
   "pygments_lexer": "ipython3",
   "version": "3.7.2"
  }
 },
 "nbformat": 4,
 "nbformat_minor": 2
}
