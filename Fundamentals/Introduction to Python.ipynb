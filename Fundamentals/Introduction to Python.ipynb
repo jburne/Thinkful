{
 "cells": [
  {
   "cell_type": "markdown",
   "metadata": {},
   "source": [
    "## Data Science\n",
    "\n",
    "_What is a Data Scientist?_: A data scientist has been jokingly defined as \"a person who is better at statistics than any software engineer and better at software engineering than any statistician.\" Perhaps more usefully, a data scientist is someone with the programming skills to acquire and manage large data sets, the statistical skills to extract value from those sets with the scientific method, and the business skills to effectively present that value to an audience."
   ]
  },
  {
   "cell_type": "markdown",
   "metadata": {},
   "source": [
    "#### What will this fundamentals course include?\n",
    "This introductory course covers basic programming fundamentals and statistics topics. You'll get an introduction to programming in Python, an overview of the math and stats behind the tools you'll use as a data scientist, and you'll begin planning for your career in data science."
   ]
  },
  {
   "cell_type": "markdown",
   "metadata": {},
   "source": [
    "#### Capstone project\n",
    "This fundamentals course culminates in a real-world final capstone project that will give you a view into the professional life of a data scientist."
   ]
  },
  {
   "cell_type": "markdown",
   "metadata": {},
   "source": [
    "## Lesson 1: Introduction to Python\n",
    "#### [Python Cheatsheet:](https://tf-assets-prod.s3.amazonaws.com/tf-curric/data-science/PYTHON-Basics.pdf)"
   ]
  },
  {
   "cell_type": "markdown",
   "metadata": {},
   "source": [
    "Python continues to be crowd developed by PEPs or Python Enhancement Proposals. PEP8 is the agreed upon style guide for Python code.\n",
    "\n",
    "We will be using jupyter notebooks as our IDE for this course.  The following code block suffices as our \"hello world\" example"
   ]
  },
  {
   "cell_type": "code",
   "execution_count": 1,
   "metadata": {},
   "outputs": [
    {
     "name": "stdout",
     "output_type": "stream",
     "text": [
      "Hello, world, I'm John\n"
     ]
    }
   ],
   "source": [
    "# Edit the line below to add your first name between the \"\"\n",
    "# characters.\n",
    "my_name = \"John\"\n",
    "\n",
    "greeting = \"Hello, world, I'm \"\n",
    "\n",
    "def say_hello(name):\n",
    "    if name == \"\":\n",
    "        print(\"You can't introduce yourself if you don't add your name!\")\n",
    "    else:\n",
    "        print(greeting + name)\n",
    "    \n",
    "# Click the \"play\" button to execute this code.\n",
    "say_hello(my_name)"
   ]
  },
  {
   "cell_type": "markdown",
   "metadata": {},
   "source": [
    "#### Using variables in Python\n",
    "__Concept 1: storing something long in a variable.__  This is really using a variable as a constant, but note that Python doesn't have a constant as a \"thing\" - just don't change it.  What Python DOES have is a style guide for constants which is to use ALL_CAPS with words separated by underscores."
   ]
  },
  {
   "cell_type": "code",
   "execution_count": 2,
   "metadata": {},
   "outputs": [
    {
     "name": "stdout",
     "output_type": "stream",
     "text": [
      "The Thinkful Slack community is a great place to get help or share your work.\n",
      "\n",
      "#general-discussion is where everyone can chat about whatever they like\n",
      "You can get there by going to:\n",
      "thinkful-students.slack.com/messages/general-discussion \n",
      "\n",
      "Data science specific conversation is good for #data-science, at:\n",
      "thinkful-students.slack.com/messages/data-science \n",
      "\n",
      "There's also a #careers channel dedicated to job-hunting:\n",
      "thinkful-students.slack.com/messages/careers \n",
      "\n",
      "Be sure to find your mentor on Slack and introduce yourself to the community.\n"
     ]
    }
   ],
   "source": [
    "# This URL is long. Let's write it just once and store it in a\n",
    "# variable to use later.\n",
    "base_url = \"thinkful-students.slack.com/messages/\"\n",
    "BASE_URL = \"thinkful-students.slack.com/messages/\"  #correct style is this.\n",
    "\n",
    "# We're going to use newlines (\"\\n\") to format things nicely.\n",
    "empty_line = \"\\n\"  #No good justification for this.\n",
    "\n",
    "print(\"The Thinkful Slack community is a great place to get help or share your work.\\n\")\n",
    "#print(empty_line)\n",
    "\n",
    "print(\"#general-discussion is where everyone can chat about whatever they like\")\n",
    "print(\"You can get there by going to:\")\n",
    "\n",
    "# Now we're going to start using our `base_url` variable multiple\n",
    "# times.\n",
    "print(BASE_URL + \"general-discussion \\n\")\n",
    "#print(empty_line)\n",
    "\n",
    "print(\"Data science specific conversation is good for #data-science, at:\")\n",
    "print(BASE_URL + 'data-science \\n')\n",
    "#print(empty_line)\n",
    "\n",
    "print(\"There's also a #careers channel dedicated to job-hunting:\")\n",
    "print(BASE_URL + \"careers \\n\")\n",
    "#print(empty_line)\n",
    "\n",
    "print(\"Be sure to find your mentor on Slack and introduce yourself to the community.\")\n",
    "\n",
    "# Be sure to click the \"run\" button at the top of this trinket if\n",
    "# you haven't yet."
   ]
  },
  {
   "cell_type": "markdown",
   "metadata": {},
   "source": [
    "__Concept 2:__ Keeping track of a changing _State_ in a program, whether it be an iterator, an index, an accumulator, etc."
   ]
  },
  {
   "cell_type": "code",
   "execution_count": 3,
   "metadata": {},
   "outputs": [
    {
     "name": "stdout",
     "output_type": "stream",
     "text": [
      "How many bottles of beer are on the wall?99\n",
      "There are 99 bottles of beer on the wall.\n",
      "Would you like to take any down?yes\n",
      "Ok, how many?99\n",
      "There are now 0 bottles on the wall\n"
     ]
    }
   ],
   "source": [
    "# Ask the user for input and store the result in a variable.\n",
    "# Note that bottle_count has been defined as an integer, so we would \n",
    "# cause an error if we didn't input one.\n",
    "bottle_count = int(input(\"How many bottles of beer are on the wall?\"))\n",
    "\n",
    "# The format method is a common way to insert a variable's value into \n",
    "# a printed string.\n",
    "while bottle_count > 0:\n",
    "    print(\"There are {} bottles of beer on the wall.\".format(bottle_count))\n",
    "\n",
    "    if input(\"Would you like to take any down?\") == \"yes\":\n",
    "        removed_bottles = int(input(\"Ok, how many?\"))\n",
    "        bottle_count = bottle_count - removed_bottles\n",
    "        print(\"There are now {} bottles on the wall\".format(bottle_count))\n",
    "    else:\n",
    "        print(\"Ok, there are still {} bottles on the wall.\".format(bottle_count))\n",
    "\n",
    "# Click \"Run\" above to run this program. If you break it just click\n",
    "# \"Run\" again or choose \"Reset\" from the menu at the top left."
   ]
  },
  {
   "cell_type": "markdown",
   "metadata": {},
   "source": [
    "As is typical, \"=\" and \"==\" are very different things in Python."
   ]
  },
  {
   "cell_type": "markdown",
   "metadata": {},
   "source": [
    "### Naming Rules and Conventions for Variables\n",
    "1. Variable names must starte with a letter or an underscore.\n",
    "2. The remainder of your variable name may include letters, numbers, and underscores, and\n",
    "3. The variable name cannot be a reserved word.\n",
    "    <br><br>\n",
    "4. _Style_: Constants are to be in all caps.\n",
    "5. _Style_: Use StudlyCaps for class names. \n",
    "6. _Style_: Variable, method, and function names should always be snake_case."
   ]
  },
  {
   "cell_type": "markdown",
   "metadata": {},
   "source": [
    "### Playing around with Data Types\n",
    "#### type str (strings)"
   ]
  },
  {
   "cell_type": "code",
   "execution_count": 4,
   "metadata": {},
   "outputs": [
    {
     "name": "stdout",
     "output_type": "stream",
     "text": [
      "<class 'str'>\n",
      "<class 'type'>\n"
     ]
    }
   ],
   "source": [
    "# Start by assigning a string to our variable.\n",
    "food = \"ham\"\n",
    "\n",
    "# Let's see what the built-in `type()`function does.\n",
    "# I'm expecting to see \"string\" as the variable type.\n",
    "type_of_food = type(food)\n",
    "print(type_of_food)\n",
    "\n",
    "# But what about now?\n",
    "type_of_type = type(type_of_food)\n",
    "print(type_of_type)\n"
   ]
  },
  {
   "cell_type": "markdown",
   "metadata": {},
   "source": [
    "OK, in retrospect both of these make sense.  The class name of string <br>\n",
    "variables is \"str\" and that class is of a type"
   ]
  },
  {
   "cell_type": "code",
   "execution_count": 5,
   "metadata": {},
   "outputs": [
    {
     "name": "stdout",
     "output_type": "stream",
     "text": [
      "The first letter is h\n",
      "<class 'str'>\n",
      "The second letter is a\n",
      "<class 'str'>\n"
     ]
    }
   ],
   "source": [
    "# We can access the characters of a string by index with bracket\n",
    "# notation, starting at index zero.\n",
    "first_letter = food[0]\n",
    "second_letter = food[1]\n",
    "print(\"The first letter is \" + first_letter)\n",
    "print(type (first_letter))\n",
    "print(\"The second letter is \" + second_letter)\n",
    "print(type (second_letter))\n"
   ]
  },
  {
   "cell_type": "markdown",
   "metadata": {},
   "source": [
    "__Note:__ Unlike other languages, there is not Char data type in Python."
   ]
  },
  {
   "cell_type": "markdown",
   "metadata": {},
   "source": [
    "#### type int and type float (and complex)"
   ]
  },
  {
   "cell_type": "code",
   "execution_count": 6,
   "metadata": {},
   "outputs": [],
   "source": [
    "# begin by loading the numpy package\n",
    "import numpy as np"
   ]
  },
  {
   "cell_type": "code",
   "execution_count": 7,
   "metadata": {},
   "outputs": [
    {
     "name": "stdout",
     "output_type": "stream",
     "text": [
      "3.141592653589793\n"
     ]
    }
   ],
   "source": [
    "# Define the constant PI\n",
    "# PI = 2*np.math.asin(1)\n",
    "# no real need, it is already defined in the math package.\n",
    "print(np.math.pi)"
   ]
  },
  {
   "cell_type": "markdown",
   "metadata": {},
   "source": [
    "Python seems to understand complex numbers just fine.\n",
    "\n",
    "Of note, exponentiation is ** instead of ^ as is more typical."
   ]
  },
  {
   "cell_type": "code",
   "execution_count": 8,
   "metadata": {},
   "outputs": [
    {
     "name": "stdout",
     "output_type": "stream",
     "text": [
      "(6.123233995736766e-17+1j)\n"
     ]
    }
   ],
   "source": [
    "print((-1)**.5)"
   ]
  },
  {
   "cell_type": "code",
   "execution_count": 9,
   "metadata": {},
   "outputs": [
    {
     "name": "stdout",
     "output_type": "stream",
     "text": [
      "(25+0j)\n"
     ]
    }
   ],
   "source": [
    "print((3+4j)*(3-4j))"
   ]
  },
  {
   "cell_type": "code",
   "execution_count": 10,
   "metadata": {},
   "outputs": [
    {
     "data": {
      "text/plain": [
       "complex"
      ]
     },
     "execution_count": 10,
     "metadata": {},
     "output_type": "execute_result"
    }
   ],
   "source": [
    "type(25+0j)"
   ]
  },
  {
   "cell_type": "code",
   "execution_count": 11,
   "metadata": {},
   "outputs": [
    {
     "data": {
      "text/plain": [
       "complex"
      ]
     },
     "execution_count": 11,
     "metadata": {},
     "output_type": "execute_result"
    }
   ],
   "source": [
    "type(2.3+5.7j)"
   ]
  },
  {
   "cell_type": "markdown",
   "metadata": {},
   "source": [
    "#### type Boolean \n",
    "The only things which equate to \"False\" are None, \"\", 0 and False"
   ]
  },
  {
   "cell_type": "code",
   "execution_count": 12,
   "metadata": {},
   "outputs": [
    {
     "name": "stdout",
     "output_type": "stream",
     "text": [
      "bummer\n",
      "Jack\n",
      "bummer\n",
      "bummer\n"
     ]
    }
   ],
   "source": [
    "username = None\n",
    "if (username):\n",
    "    print('Yippee')\n",
    "else:\n",
    "    print('bummer')\n",
    "\n",
    "username = \"Jack\"\n",
    "if (username):\n",
    "    print(username)\n",
    "else:\n",
    "    print('bummer')\n",
    "    \n",
    "username = 0\n",
    "if (username):\n",
    "    print(username)\n",
    "else:\n",
    "    print('bummer')\n",
    "    \n",
    "username = \"Jack\"\n",
    "if (username==\"Jill\"):\n",
    "    print(username)\n",
    "else:\n",
    "    print('bummer')"
   ]
  },
  {
   "cell_type": "markdown",
   "metadata": {},
   "source": [
    "#### Casting into other data types"
   ]
  },
  {
   "cell_type": "code",
   "execution_count": 13,
   "metadata": {},
   "outputs": [
    {
     "name": "stdout",
     "output_type": "stream",
     "text": [
      "42\n",
      "49.5\n",
      "False\n",
      "0\n",
      "1\n"
     ]
    }
   ],
   "source": [
    "print(str(42))\n",
    "print(float(\"42.5\") + 7)\n",
    "print(bool(\"\"))\n",
    "print(int(bool(\"\")))\n",
    "print(int(bool(\"Yippee\")))"
   ]
  },
  {
   "cell_type": "markdown",
   "metadata": {},
   "source": [
    "### Collections of Data\n",
    "#### Lists \n",
    "Lists are ordered collections of data. To create a list simply wrap other data, separated by commas, in square brackets [ and ]:"
   ]
  },
  {
   "cell_type": "code",
   "execution_count": 14,
   "metadata": {},
   "outputs": [],
   "source": [
    "inventory = [\"beans\", \"coin\", \"tome\"]\n",
    "tome_dimensions = [8.5, 11, 2]"
   ]
  },
  {
   "cell_type": "markdown",
   "metadata": {},
   "source": [
    "You can put any value into a list that you like, even another list. Just like the characters in a string, the elements in a list are ordered and can be accessed by index with bracket notation."
   ]
  },
  {
   "cell_type": "code",
   "execution_count": 15,
   "metadata": {},
   "outputs": [
    {
     "name": "stdout",
     "output_type": "stream",
     "text": [
      "beans\n",
      "['beans', 'coin', 'tome']\n"
     ]
    }
   ],
   "source": [
    "# Start by assigning some lists to variables.\n",
    "inventory = [\"beans\", \"coin\", \"tome\"]\n",
    "tome_dimensions = [8.5, 11, 2]\n",
    "\n",
    "# Lists in lists...\n",
    "random_stuff = [True, 3.14, [\"pie\", \"pizza\", \"automobile\"], inventory]\n",
    "battleship_board = [[1, 1, 0], [1, 0, 1], [0, 0, 1]]\n",
    "\n",
    "# Just like with strings you can access list elements by index\n",
    "# with bracket notation. We start counting at zero:\n",
    "print(inventory[0])\n",
    "print(random_stuff[3])"
   ]
  },
  {
   "cell_type": "code",
   "execution_count": 16,
   "metadata": {},
   "outputs": [
    {
     "name": "stdout",
     "output_type": "stream",
     "text": [
      "pie\n",
      "You have 3 items in your inventory\n",
      "['beans', 'coin', 'tome', 'magic sword']\n",
      "3.14\n"
     ]
    }
   ],
   "source": [
    "# With nested lists you can continue digging down with additional\n",
    "# indexes:\n",
    "print(random_stuff[2][0])\n",
    "\n",
    "# Lists have a particular length.\n",
    "inventory_size = len(inventory)\n",
    "print(\"You have {} items in your inventory\".format(inventory_size))\n",
    "\n",
    "# Lists are easy to modify. We'll cover this in more detail later.\n",
    "inventory.append(\"magic sword\")\n",
    "print(inventory)\n",
    "\n",
    "# Can you think of a way to print 3.14 solely by referencing the\n",
    "# variables above?\n",
    "print(random_stuff[1])"
   ]
  },
  {
   "cell_type": "markdown",
   "metadata": {},
   "source": [
    "#### Dictionaries\n",
    "Dictionaries are just like lists except they use keywords instead of index numbers.  They are also not considered ordered lists."
   ]
  },
  {
   "cell_type": "code",
   "execution_count": 17,
   "metadata": {},
   "outputs": [],
   "source": [
    "adventurer = {\"name\": \"grae\", \"profession\": \"magician\"}"
   ]
  },
  {
   "cell_type": "code",
   "execution_count": 18,
   "metadata": {},
   "outputs": [
    {
     "name": "stdout",
     "output_type": "stream",
     "text": [
      "magician\n"
     ]
    }
   ],
   "source": [
    "print(adventurer['profession'])"
   ]
  },
  {
   "cell_type": "code",
   "execution_count": 19,
   "metadata": {},
   "outputs": [],
   "source": [
    "mixed_up = {\"ages\": [6,7,10,12], \"IQ\": [103, 120, 96, 42]}"
   ]
  },
  {
   "cell_type": "code",
   "execution_count": 20,
   "metadata": {},
   "outputs": [
    {
     "name": "stdout",
     "output_type": "stream",
     "text": [
      "10\n"
     ]
    }
   ],
   "source": [
    "print(mixed_up[\"ages\"][2])"
   ]
  },
  {
   "cell_type": "code",
   "execution_count": 24,
   "metadata": {},
   "outputs": [
    {
     "name": "stdout",
     "output_type": "stream",
     "text": [
      "What is your name?JOhn\n",
      "Fantastic, thanks JOhn\n",
      "Cool. JOhn you are my favorite hero.\n"
     ]
    }
   ],
   "source": [
    "hero = {\n",
    "    \"name\": None,\n",
    "    \"species\": \"Human\",\n",
    "    \"strength\": 4,\n",
    "    \"magic\": 5,\n",
    "    \"profession\": None,\n",
    "}\n",
    "\n",
    "# Let's check the hero's name again. Just like lists, we use\n",
    "# bracket notation.\n",
    "if not hero[\"name\"]:\n",
    "    # We modify dictionary values just like we access them.\n",
    "    hero[\"name\"] = input(\"What is your name?\")\n",
    "    print(\"Fantastic, thanks {}\".format(hero[\"name\"]))\n",
    "    \n",
    "# Nice how if you use the Boolean property of any none empty as \"fales\n",
    "if not hero[\"name\"]:\n",
    "    # We modify dictionary values just like we access them.\n",
    "    hero[\"name\"] = input(\"What is your name?\")\n",
    "    print(\"Fantastic, thanks {}\".format(hero[\"name\"]))\n",
    "else:\n",
    "    print(\"Cool. {} you are my favorite hero.\".format(hero[\"name\"]))"
   ]
  },
  {
   "cell_type": "code",
   "execution_count": null,
   "metadata": {},
   "outputs": [],
   "source": []
  }
 ],
 "metadata": {
  "kernelspec": {
   "display_name": "Python 3",
   "language": "python",
   "name": "python3"
  },
  "language_info": {
   "codemirror_mode": {
    "name": "ipython",
    "version": 3
   },
   "file_extension": ".py",
   "mimetype": "text/x-python",
   "name": "python",
   "nbconvert_exporter": "python",
   "pygments_lexer": "ipython3",
   "version": "3.7.2"
  }
 },
 "nbformat": 4,
 "nbformat_minor": 2
}
