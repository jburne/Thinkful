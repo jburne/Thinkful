{
 "cells": [
  {
   "cell_type": "markdown",
   "metadata": {},
   "source": [
    "## Normal Distribution"
   ]
  },
  {
   "cell_type": "markdown",
   "metadata": {},
   "source": [
    "While it's not necessary to memorize this equation, I should be able to recognize it.\n",
    "\\begin{equation}\n",
    "f(x|\\mu,\\sigma^2)=\\frac1{\\sqrt{2\\sigma^2\\pi}}e^{-\\frac{(x-\\mu)^2}{2\\sigma^2}}\n",
    "\\end{equation} \n",
    "\n",
    "1. Symmetric\n",
    "2. Area under the curve is exactly 1.0\n",
    "3. 68%, 95%, 99.7% for 1, 2 and 3 stDev.\n"
   ]
  },
  {
   "cell_type": "code",
   "execution_count": 1,
   "metadata": {},
   "outputs": [],
   "source": [
    "import numpy as np\n",
    "import pandas as pd\n",
    "import matplotlib.pyplot as plt\n",
    "# Go over what this next line does.\n",
    "%matplotlib inline"
   ]
  },
  {
   "cell_type": "code",
   "execution_count": 3,
   "metadata": {},
   "outputs": [
    {
     "data": {
      "image/png": "[encoded data removed]",
      "text/plain": [
       "<Figure size 432x288 with 1 Axes>"
      ]
     },
     "metadata": {
      "needs_background": "light"
     },
     "output_type": "display_data"
    }
   ],
   "source": [
    "# Making a standard normally distributed variable with 1000 observations, a mean of 0, and \n",
    "# a standard deviation of 1, and putting it in a data frame.\n",
    "mean = 0 \n",
    "sd = 1\n",
    "n = 1000\n",
    "\n",
    "# why are we not using n for 1000?\n",
    "df = pd.DataFrame({'rand': np.random.normal(mean, sd, 1000)})\n",
    "\n",
    "# Plotting the variables in the data frame (here, just the variable \"rand\") as a histogram.\n",
    "df.hist()\n",
    "# Inline printing the histogram\n",
    "plt.show()"
   ]
  },
  {
   "cell_type": "markdown",
   "metadata": {},
   "source": [
    "The normal distribution is useful for data scientists because:\n",
    "\n",
    "1. It is easily summarized using just two statistics (mean and standard deviation).\n",
    "2. The area under the curve is 1, making it easy to calculate the probability of individual outcomes within the distribution.\n",
    "3. It describes many natural phenomena, such as blood pressure, height, weight, etc.\n",
    "4. In general, any variable that measures an outcome produced by many small effects acting additively and independently will have a close to normal distribution.\n",
    "5. Lots of common scores (percentiles, z-scores) and statistical tests (t-tests, ANOVAs, bell-curve grading) assume a normal distribution.\n",
    "\n",
    "__Question:__ Isn't the normal distribution important _because of_ the CLT?"
   ]
  },
  {
   "cell_type": "markdown",
   "metadata": {},
   "source": [
    "### Test for normality: NQP (normal quantile plot) also known as QQ plot."
   ]
  },
  {
   "cell_type": "code",
   "execution_count": 6,
   "metadata": {},
   "outputs": [
    {
     "data": {
      "image/png": "[encoded data removed]",
      "text/plain": [
       "<Figure size 432x288 with 1 Axes>"
      ]
     },
     "metadata": {
      "needs_background": "light"
     },
     "output_type": "display_data"
    }
   ],
   "source": [
    "# Making two variables.\n",
    "rand1 = np.random.normal(50, 300, 1000)\n",
    "rand2 = np.random.poisson(1, 1000)\n",
    "\n",
    "# Sorting the values in ascending order.\n",
    "rand1.sort()\n",
    "rand2.sort()\n",
    "\n",
    "# Making a standard normally distributed variable with 1000 observations,\n",
    "# a mean of 0, and standard deviation of 1 that we will use as our “comparison.”\n",
    "norm = np.random.normal(0, 1, 1000)\n",
    "\n",
    "# Sorting the values in ascending order.\n",
    "norm.sort()\n",
    "\n",
    "#Plot a histogram for rand1.\n",
    "plt.hist(rand1, bins=20, color='c')\n",
    "\n",
    "# Add a vertical line at the mean.\n",
    "plt.axvline(rand1.mean(), color='b', linestyle='solid', linewidth=2)\n",
    "\n",
    "# Add a vertical line at one, two and three standard deviations above the mean.\n",
    "plt.axvline(rand1.mean() + rand1.std(), color='b', linestyle='dashed', linewidth=2)\n",
    "plt.axvline(rand1.mean() + 2*rand1.std(), color='b', linestyle='dashed', linewidth=2)\n",
    "plt.axvline(rand1.mean() + 3*rand1.std(), color='b', linestyle='dashed', linewidth=2)\n",
    "\n",
    "# Add a vertical line at one, two and three standard deviations below the mean.\n",
    "plt.axvline(rand1.mean()-rand1.std(), color='b', linestyle='dashed', linewidth=2) \n",
    "plt.axvline(rand1.mean() - 2*rand1.std(), color='b', linestyle='dashed', linewidth=2)\n",
    "plt.axvline(rand1.mean() - 3*rand1.std(), color='b', linestyle='dashed', linewidth=2)\n",
    "\n",
    "# Print the histogram.\n",
    "plt.show()"
   ]
  },
  {
   "cell_type": "markdown",
   "metadata": {},
   "source": [
    "68/95/99.7 rule seems to be good.  Symmetry is there.  First glance is that it seems 'normal'.\n",
    "\n",
    "But the NQP is the gold standard."
   ]
  },
  {
   "cell_type": "code",
   "execution_count": 7,
   "metadata": {},
   "outputs": [
    {
     "data": {
      "image/png": "[encoded data removed]",
      "text/plain": [
       "<Figure size 432x288 with 1 Axes>"
      ]
     },
     "metadata": {
      "needs_background": "light"
     },
     "output_type": "display_data"
    }
   ],
   "source": [
    "# Plotting the variable rand1 against norm in qqplots.\n",
    "plt.plot(norm, rand1, \"o\") \n",
    "plt.show() "
   ]
  },
  {
   "cell_type": "markdown",
   "metadata": {},
   "source": [
    "Except for a handful of points at the lower end, this is very linear."
   ]
  },
  {
   "cell_type": "code",
   "execution_count": 9,
   "metadata": {},
   "outputs": [
    {
     "data": {
      "image/png": "[encoded data removed]",
      "text/plain": [
       "<Figure size 432x288 with 1 Axes>"
      ]
     },
     "metadata": {
      "needs_background": "light"
     },
     "output_type": "display_data"
    }
   ],
   "source": [
    "#Plot a histogram for rand2.\n",
    "plt.hist(rand2, bins=20, color='c')\n",
    "\n",
    "# Add a vertical line at the mean.\n",
    "plt.axvline(rand2.mean(), color='b', linestyle='solid', linewidth=2)\n",
    "\n",
    "# Add a vertical line at one standard deviation above the mean.\n",
    "plt.axvline(rand2.mean() + rand2.std(), color='b', linestyle='dashed', linewidth=2)\n",
    "\n",
    "# Add a vertical line at one standard deviation below the mean.\n",
    "plt.axvline(rand2.mean()-rand2.std(), color='b', linestyle='dashed', linewidth=2)\n",
    "\n",
    "# Print the histogram.\n",
    "plt.show()"
   ]
  },
  {
   "cell_type": "markdown",
   "metadata": {},
   "source": [
    "Clearly not symmetric. 68/95/99.7 rule not being followed."
   ]
  },
  {
   "cell_type": "code",
   "execution_count": 11,
   "metadata": {},
   "outputs": [
    {
     "data": {
      "image/png": "[encoded data removed]",
      "text/plain": [
       "<Figure size 432x288 with 1 Axes>"
      ]
     },
     "metadata": {
      "needs_background": "light"
     },
     "output_type": "display_data"
    }
   ],
   "source": [
    "plt.plot(norm, rand2, '*')\n",
    "plt.show()"
   ]
  },
  {
   "cell_type": "markdown",
   "metadata": {},
   "source": [
    "Clearly non-linear."
   ]
  },
  {
   "cell_type": "code",
   "execution_count": 17,
   "metadata": {},
   "outputs": [
    {
     "data": {
      "image/png": "[encoded data removed]",
      "text/plain": [
       "<Figure size 432x288 with 1 Axes>"
      ]
     },
     "metadata": {
      "needs_background": "light"
     },
     "output_type": "display_data"
    }
   ],
   "source": [
    "# One last example which will become \"almost\" normal\n",
    "rand3 = np.random.binomial(10, .05, 1000)\n",
    "rand3.sort()\n",
    "plt.plot(norm, rand3, \"*\")\n",
    "plt.show()"
   ]
  },
  {
   "cell_type": "code",
   "execution_count": 18,
   "metadata": {},
   "outputs": [
    {
     "data": {
      "image/png": "[encoded data removed]",
      "text/plain": [
       "<Figure size 432x288 with 1 Axes>"
      ]
     },
     "metadata": {
      "needs_background": "light"
     },
     "output_type": "display_data"
    }
   ],
   "source": [
    "# As the sampling size of the binomial grows, it tends to normal, \n",
    "# even for highly skewed distribution\n",
    "rand3 = np.random.binomial(250, .05, 1000)\n",
    "rand3.sort()\n",
    "plt.plot(norm, rand3, \"*\")\n",
    "plt.show()"
   ]
  },
  {
   "cell_type": "code",
   "execution_count": 19,
   "metadata": {},
   "outputs": [
    {
     "data": {
      "image/png": "[encoded data removed]",
      "text/plain": [
       "<Figure size 432x288 with 1 Axes>"
      ]
     },
     "metadata": {
      "needs_background": "light"
     },
     "output_type": "display_data"
    }
   ],
   "source": [
    "# As the sampling size of the binomial grows, it tends to normal, \n",
    "# even for highly skewed distribution\n",
    "rand3 = np.random.binomial(1000, .05, 1000)\n",
    "rand3.sort()\n",
    "plt.plot(norm, rand3, \"*\")\n",
    "plt.show()"
   ]
  },
  {
   "cell_type": "markdown",
   "metadata": {},
   "source": [
    "### Bernoulli, also called Binomial"
   ]
  },
  {
   "cell_type": "code",
   "execution_count": 20,
   "metadata": {},
   "outputs": [
    {
     "data": {
      "image/png": "[encoded data removed]",
      "text/plain": [
       "<Figure size 432x288 with 1 Axes>"
      ]
     },
     "metadata": {
      "needs_background": "light"
     },
     "output_type": "display_data"
    }
   ],
   "source": [
    "# Generate a bernoulli distribution with p =0.5.\n",
    "bernoulli= np.random.binomial(1, .5, 1000)\n",
    "\n",
    "#Plot a histogram.\n",
    "plt.hist(bernoulli)\n",
    "\n",
    "# Print the histogram\n",
    "plt.show()"
   ]
  },
  {
   "cell_type": "code",
   "execution_count": 21,
   "metadata": {},
   "outputs": [
    {
     "data": {
      "image/png": "[encoded data removed]",
      "text/plain": [
       "<Figure size 432x288 with 1 Axes>"
      ]
     },
     "metadata": {
      "needs_background": "light"
     },
     "output_type": "display_data"
    }
   ],
   "source": [
    "# Generate a bernoulli distribution with p =0.5.\n",
    "bernoulli= np.random.binomial(50, .5, 1000)\n",
    "\n",
    "#Plot a histogram.\n",
    "plt.hist(bernoulli)\n",
    "\n",
    "# Print the histogram\n",
    "plt.show()"
   ]
  },
  {
   "cell_type": "markdown",
   "metadata": {},
   "source": [
    "### Gamma\n",
    "The **gamma distribution** represents the time until an event (such as lifespan until death), when the event starts out unlikely (few people die in youth), becomes more likely (more people die in old age), then becomes less likely again (few people die in extreme old age because most have already died).  Summarized by a shape parameter ($\\alpha$) and an inverse-scale parameter ($\\beta$). The probability density function is:\n",
    "\n",
    "\\begin{equation}\n",
    "f(x|\\alpha,\\beta)=\\frac{\\beta^\\alpha x^{\\alpha-1} e^{-x\\beta}} {\\Gamma(\\alpha)} \\text {for } x \\ge 0 \\text { and } \\alpha,\\beta \\ge0\n",
    "\\end{equation} \n",
    "\n",
    "\\begin{equation}\n",
    "\\mu = \\alpha * \\theta\n",
    "\\end{equation}\n",
    "\n",
    "\\begin{equation}\n",
    "\\sigma^2 = \\alpha * \\theta^2\n",
    "\\end{equation}\n",
    "\n"
   ]
  },
  {
   "cell_type": "code",
   "execution_count": 23,
   "metadata": {},
   "outputs": [
    {
     "data": {
      "image/png": "[encoded data removed]",
      "text/plain": [
       "<Figure size 432x288 with 1 Axes>"
      ]
     },
     "metadata": {
      "needs_background": "light"
     },
     "output_type": "display_data"
    }
   ],
   "source": [
    "# Generate a gamma distribution with shape =5 and scale = 1\n",
    "gamma = np.random.gamma(5,1, 1000)\n",
    "\n",
    "# Plot a histogram.\n",
    "plt.hist(gamma)\n",
    "\n",
    "# Print the histogram.\n",
    "plt.show()"
   ]
  },
  {
   "cell_type": "markdown",
   "metadata": {},
   "source": [
    "### Poisson or Waiting dist\n",
    "The **poisson distribution** represents the number of times a given event (such as a phone call to a radio show) will occur during a given time interval.  Data can range from 0 (no phone calls during the time period) to approaching infinity (the phone never stopped ringing during the time period).  Summarized by $\\lambda$ (“lambda”), the rate that events occur during a given time period.  The probability mass function is:\n",
    "\n",
    "\\begin{equation}\n",
    "f(k|\\lambda)=\\frac{\\lambda^k e^{-\\lambda}}{k!}\n",
    "\\end{equation} \n",
    "\n",
    "The smaller lambda is, the more skewed the Poisson distribution.  Very close to normal for large lambda.  See the curve two cells down."
   ]
  },
  {
   "cell_type": "code",
   "execution_count": 31,
   "metadata": {},
   "outputs": [
    {
     "data": {
      "image/png": "[encoded data removed]",
      "text/plain": [
       "<Figure size 432x288 with 1 Axes>"
      ]
     },
     "metadata": {
      "needs_background": "light"
     },
     "output_type": "display_data"
    }
   ],
   "source": [
    "# Generate a Poisson distribution with lambda = 3\n",
    "poisson = np.random.poisson(3, 1000)\n",
    "\n",
    "# Plot a histogram.\n",
    "plt.hist(poisson)\n",
    "\n",
    "# Print the histogram.\n",
    "plt.show()"
   ]
  },
  {
   "cell_type": "code",
   "execution_count": 32,
   "metadata": {},
   "outputs": [
    {
     "data": {
      "image/png": "[encoded data removed]",
      "text/plain": [
       "<Figure size 432x288 with 1 Axes>"
      ]
     },
     "metadata": {
      "needs_background": "light"
     },
     "output_type": "display_data"
    }
   ],
   "source": [
    "# Generate a Poisson distribution with lambda = 50\n",
    "poisson2 = np.random.poisson(50, 1000)\n",
    "\n",
    "# Sort\n",
    "poisson2.sort()\n",
    "\n",
    "# \n",
    "plt.plot(norm,poisson2,\"*\")\n",
    "plt.show()"
   ]
  },
  {
   "cell_type": "code",
   "execution_count": null,
   "metadata": {},
   "outputs": [],
   "source": []
  }
 ],
 "metadata": {
  "kernelspec": {
   "display_name": "Python 3",
   "language": "python",
   "name": "python3"
  },
  "language_info": {
   "codemirror_mode": {
    "name": "ipython",
    "version": 3
   },
   "file_extension": ".py",
   "mimetype": "text/x-python",
   "name": "python",
   "nbconvert_exporter": "python",
   "pygments_lexer": "ipython3",
   "version": "3.7.2"
  }
 },
 "nbformat": 4,
 "nbformat_minor": 2
}
