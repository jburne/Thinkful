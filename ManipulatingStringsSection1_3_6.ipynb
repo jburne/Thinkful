{
 "cells": [
  {
   "cell_type": "markdown",
   "metadata": {},
   "source": [
    "## Thinkful 1.3.5\n",
    "### Notes on Manipulating Strings: "
   ]
  },
  {
   "cell_type": "markdown",
   "metadata": {},
   "source": [
    "#### .is____ methods on strings\n",
    "\n",
    "#### str.isdigit(), str.isdecimal, and str.isnumeric\n",
    "\n",
    "These three are very close to the same function: \"decimal\" looks for digits 0-9 in ALL of the string, \"digit\" is like decimal but can also include special characters like exponentials, \"numeric\" includes special characters like fractions.\n",
    "\n",
    " -  str.isdigit(): \n",
    "     - Return true if all characters in the string are digits and there is at least one character, false otherwise. Digits include decimal characters and digits that need special handling, such as the compatibility superscript digits. This covers digits which cannot be used to form numbers in base 10, like the Kharosthi numbers. Formally, a digit is a character that has the property value Numeric_Type=Digit or Numeric_Type=Decimal.\n",
    "     \n",
    " -  str.isdecimal()\n",
    "     - Return true if all characters in the string are decimal characters and there is at least one character, false otherwise. Decimal characters are those that can be used to form numbers in base 10, e.g. U+0660, ARABIC-INDIC DIGIT ZERO. Formally a decimal character is a character in the Unicode General Category “Nd”.\n",
    "     \n",
    " -  str.isnumeric()\n",
    "     - Return true if all characters in the string are numeric characters, and there is at least one character, false otherwise. Numeric characters include digit characters, and all characters that have the Unicode numeric value property, e.g. U+2155, VULGAR FRACTION ONE FIFTH. Formally, numeric characters are those with the property value Numeric_Type=Digit, Numeric_Type=Decimal or Numeric_Type=Numeric.\n",
    "     \n",
    "\n",
    " -  str.isalpha()\n",
    "     - Return true if all characters in the string are alphabetic and there is at least one character, false otherwise. Alphabetic characters are those characters defined in the Unicode character database as “Letter”, i.e., those with general category property being one of “Lm”, “Lt”, “Lu”, “Ll”, or “Lo”. Note that this is different from the “Alphabetic” property defined in the Unicode Standard.\n",
    "     \n",
    " -  str.isspace()\n",
    "     - Return true if there are only whitespace characters in the string and there is at least one character, false otherwise. Whitespace characters are those characters defined in the Unicode character database as “Other” or “Separator” and those with bidirectional property being one of “WS”, “B”, or “S”.\n",
    "     \n",
    " -  str.isascii()\n",
    "     - Return true if the string is empty or all characters in the string are ASCII, false otherwise. ASCII characters have code points in the range U+0000-U+007F.\n",
    "     \n",
    " -  str.islower()/isupper()\n",
    "     - Return true if all _cased_ characters in the string are lowercase (uppercase) and there is at least one cased character, false otherwise.\n",
    "     \n",
    " -  str.isidentifier()\n",
    "     - Return true if the string is a valid identifier according to the language definition, section Identifiers and keywords.\n",
    "\n",
    " -  str.istitle()\n",
    "      - Return true if the string is a titlecased string and there is at least one character, for example uppercase characters may only follow uncased characters and lowercase characters only cased ones. Return false otherwise."
   ]
  },
  {
   "cell_type": "code",
   "execution_count": 1,
   "metadata": {},
   "outputs": [],
   "source": [
    "import pandas as pd\n",
    "import numpy as np"
   ]
  },
  {
   "cell_type": "code",
   "execution_count": 2,
   "metadata": {},
   "outputs": [],
   "source": [
    "money = pd.Series([400, 111, '$20', 57, 'Lots'])"
   ]
  },
  {
   "cell_type": "markdown",
   "metadata": {},
   "source": [
    "### Filtering a list versus Applying a filter TO a list."
   ]
  },
  {
   "cell_type": "markdown",
   "metadata": {},
   "source": [
    "In the following example the third and fifth string fail the test \".isdigit()\".  The third because of the leading $ and the fifth because all the characters are letters.\n",
    "\n",
    "NOTE: The results of filtering a list returns an iterator, so it needs to be delivered to a list to be useful."
   ]
  },
  {
   "cell_type": "code",
   "execution_count": 3,
   "metadata": {},
   "outputs": [
    {
     "name": "stdout",
     "output_type": "stream",
     "text": [
      "[400, 111, 57]\n"
     ]
    }
   ],
   "source": [
    "print(list(filter(lambda x: str(x).isdigit(), money)))"
   ]
  },
  {
   "cell_type": "markdown",
   "metadata": {},
   "source": [
    "In this case lambda function is being applied to the _strings_ because of the \"apply\" function.  it seems \"apply\" is the same as a standard \"map\" function?\n",
    "\n",
    "The lambda function is testing each letter one at a time and passing the decimal number through, stripping letters and symbols."
   ]
  },
  {
   "cell_type": "code",
   "execution_count": 4,
   "metadata": {},
   "outputs": [
    {
     "name": "stdout",
     "output_type": "stream",
     "text": [
      "0    400\n",
      "1    111\n",
      "2     20\n",
      "3     57\n",
      "4       \n",
      "dtype: object\n"
     ]
    }
   ],
   "source": [
    "print(money.apply(lambda x: ''.join(list(filter(str.isdigit, str(x))))))"
   ]
  },
  {
   "cell_type": "markdown",
   "metadata": {},
   "source": [
    "Note that we are still getting a value from the fifth string, but it's been reduced to the string ''\n",
    "\n",
    "I think this can get us in trouble easily."
   ]
  },
  {
   "cell_type": "code",
   "execution_count": 5,
   "metadata": {},
   "outputs": [],
   "source": [
    "myMoney = pd.Series(['$400', 11.51, '$20.50', 'Heinz 57', 'Value2You'])\n"
   ]
  },
  {
   "cell_type": "code",
   "execution_count": 6,
   "metadata": {},
   "outputs": [
    {
     "name": "stdout",
     "output_type": "stream",
     "text": [
      "0     400\n",
      "1    1151\n",
      "2    2050\n",
      "3      57\n",
      "4       2\n",
      "dtype: object\n"
     ]
    }
   ],
   "source": [
    "print(myMoney.apply(lambda x: ''.join(list(filter(str.isdigit, str(x))))))"
   ]
  },
  {
   "cell_type": "markdown",
   "metadata": {},
   "source": [
    "__Thought Question__: how to KEEP decimals? or \"$\"\n",
    "_https://stackoverflow.com/questions/320929/currency-formatting-in-python_"
   ]
  },
  {
   "cell_type": "markdown",
   "metadata": {},
   "source": [
    "### Splitting strings apart"
   ]
  },
  {
   "cell_type": "markdown",
   "metadata": {},
   "source": [
    "The .split() string method takes one argument, the character or substring to split on, and returns a list of the pieces of the string it's called on, using the separator as a delimiter for each piece. Conveniently, Pandas gives us its own version of this built-in method with Series.str.split() that you can use directly on series objects without needing .apply()."
   ]
  },
  {
   "cell_type": "code",
   "execution_count": 7,
   "metadata": {},
   "outputs": [],
   "source": [
    "words = pd.Series([\n",
    "    'MollyMalone$molmal@gmail.com',\n",
    "    'JeffreyJones$jefjo@hotmail.com',\n",
    "    'DeadParrot$fjords@gmail.com'\n",
    "])"
   ]
  },
  {
   "cell_type": "markdown",
   "metadata": {},
   "source": [
    "This appears to be Names separated from emails by \\\\$ sign.  Thus we'll want to split the strings by \\\\$.\n",
    "\n",
    "Let's explore what the \",expand=True\" parameter does by seeing what happens without it. It seems without it we get a SERIES not a DATAFRAME."
   ]
  },
  {
   "cell_type": "code",
   "execution_count": 8,
   "metadata": {},
   "outputs": [],
   "source": [
    "word_split = words.str.split('$')"
   ]
  },
  {
   "cell_type": "code",
   "execution_count": 9,
   "metadata": {},
   "outputs": [
    {
     "name": "stdout",
     "output_type": "stream",
     "text": [
      "0      [MollyMalone, molmal@gmail.com]\n",
      "1    [JeffreyJones, jefjo@hotmail.com]\n",
      "2       [DeadParrot, fjords@gmail.com]\n",
      "dtype: object\n"
     ]
    }
   ],
   "source": [
    "print(word_split)"
   ]
  },
  {
   "cell_type": "code",
   "execution_count": 10,
   "metadata": {},
   "outputs": [],
   "source": [
    "names = word_split[0]"
   ]
  },
  {
   "cell_type": "code",
   "execution_count": 11,
   "metadata": {},
   "outputs": [
    {
     "name": "stdout",
     "output_type": "stream",
     "text": [
      "['MollyMalone', 'molmal@gmail.com']\n"
     ]
    }
   ],
   "source": [
    "print(names)\n"
   ]
  },
  {
   "cell_type": "markdown",
   "metadata": {},
   "source": [
    "The problem, of course, is that the first \"thing\" in a SERIES is that first row.  The first \"thing\" in a DATAFRAME is a column."
   ]
  },
  {
   "cell_type": "code",
   "execution_count": 12,
   "metadata": {},
   "outputs": [],
   "source": [
    "word_split = words.str.split('$', expand=True)"
   ]
  },
  {
   "cell_type": "code",
   "execution_count": 13,
   "metadata": {},
   "outputs": [
    {
     "name": "stdout",
     "output_type": "stream",
     "text": [
      "              0                  1\n",
      "0   MollyMalone   molmal@gmail.com\n",
      "1  JeffreyJones  jefjo@hotmail.com\n",
      "2    DeadParrot   fjords@gmail.com\n"
     ]
    }
   ],
   "source": [
    "print(word_split)"
   ]
  },
  {
   "cell_type": "code",
   "execution_count": 14,
   "metadata": {},
   "outputs": [],
   "source": [
    "names = word_split[0]"
   ]
  },
  {
   "cell_type": "code",
   "execution_count": 15,
   "metadata": {},
   "outputs": [
    {
     "name": "stdout",
     "output_type": "stream",
     "text": [
      "0     MollyMalone\n",
      "1    JeffreyJones\n",
      "2      DeadParrot\n",
      "Name: 0, dtype: object\n"
     ]
    }
   ],
   "source": [
    "print(names)\n"
   ]
  },
  {
   "cell_type": "code",
   "execution_count": 16,
   "metadata": {},
   "outputs": [
    {
     "name": "stdout",
     "output_type": "stream",
     "text": [
      "  0       1      2\n",
      "0      olly  alone\n",
      "1    effrey   ones\n",
      "2       ead  arrot\n"
     ]
    }
   ],
   "source": [
    "# problem with splitting on something we don't want to be \"disappeared\"\n",
    "print(names.str.split('[A-Z]', expand=True))"
   ]
  },
  {
   "cell_type": "markdown",
   "metadata": {},
   "source": [
    "Here the names split just fine on the Capital letters, but as \"split\" drops the character being split upon, we lose those letters.  Bummer."
   ]
  },
  {
   "cell_type": "code",
   "execution_count": 17,
   "metadata": {},
   "outputs": [],
   "source": [
    "# .findall() method is part of the re package and searches for a \n",
    "#  given pattern and returns each instance as an item in a list\n",
    "\n",
    "import re\n",
    "FirstLast = names.apply(lambda x: re.findall('[A-Z][a-z]*', x))"
   ]
  },
  {
   "cell_type": "markdown",
   "metadata": {},
   "source": [
    "QUESTION:  I was wondering why the curriculum made TWO calls of names.apply:  one for the first names and one for the last.  I thought one could make a single call to FirstLast"
   ]
  },
  {
   "cell_type": "code",
   "execution_count": 18,
   "metadata": {},
   "outputs": [
    {
     "name": "stdout",
     "output_type": "stream",
     "text": [
      "0     [Molly, Malone]\n",
      "1    [Jeffrey, Jones]\n",
      "2      [Dead, Parrot]\n",
      "Name: 0, dtype: object\n"
     ]
    }
   ],
   "source": [
    "print(FirstLast)"
   ]
  },
  {
   "cell_type": "markdown",
   "metadata": {},
   "source": [
    "This is a Series of Lists.  I think there are two ways of making it a data Frame. (1) Turn those lists into Series"
   ]
  },
  {
   "cell_type": "code",
   "execution_count": 19,
   "metadata": {},
   "outputs": [],
   "source": [
    "FirstLastDF1 = FirstLast.apply(lambda x: pd.Series(x))"
   ]
  },
  {
   "cell_type": "code",
   "execution_count": 20,
   "metadata": {},
   "outputs": [
    {
     "name": "stdout",
     "output_type": "stream",
     "text": [
      "         0       1\n",
      "0    Molly  Malone\n",
      "1  Jeffrey   Jones\n",
      "2     Dead  Parrot\n"
     ]
    }
   ],
   "source": [
    "print(FirstLastDF1)"
   ]
  },
  {
   "cell_type": "markdown",
   "metadata": {},
   "source": [
    "Or two, use the method pd.DataFrame.from_records()  This method expects a list of lists, so cast the series to become a list."
   ]
  },
  {
   "cell_type": "code",
   "execution_count": 21,
   "metadata": {},
   "outputs": [],
   "source": [
    "FirstLastDF2 = pd.DataFrame.from_records(list(FirstLast))"
   ]
  },
  {
   "cell_type": "code",
   "execution_count": 22,
   "metadata": {},
   "outputs": [
    {
     "name": "stdout",
     "output_type": "stream",
     "text": [
      "         0       1\n",
      "0    Molly  Malone\n",
      "1  Jeffrey   Jones\n",
      "2     Dead  Parrot\n"
     ]
    }
   ],
   "source": [
    "print(FirstLastDF2)"
   ]
  },
  {
   "cell_type": "markdown",
   "metadata": {},
   "source": [
    "Challenge: What if some names had a middle name as well?"
   ]
  },
  {
   "cell_type": "code",
   "execution_count": 23,
   "metadata": {},
   "outputs": [],
   "source": [
    "myNames = pd.Series([\n",
    "    'MollyMalone',\n",
    "    'JeffreyGJones',\n",
    "    'DeadExParrot'\n",
    "])"
   ]
  },
  {
   "cell_type": "code",
   "execution_count": 35,
   "metadata": {},
   "outputs": [],
   "source": [
    "mysplitnames = myNames.apply(lambda x: re.findall('[A-Z][a-z]*',x))"
   ]
  },
  {
   "cell_type": "code",
   "execution_count": 36,
   "metadata": {},
   "outputs": [
    {
     "name": "stdout",
     "output_type": "stream",
     "text": [
      "0        [Molly, Malone]\n",
      "1    [Jeffrey, G, Jones]\n",
      "2     [Dead, Ex, Parrot]\n",
      "dtype: object\n"
     ]
    }
   ],
   "source": [
    "print(mysplitnames)"
   ]
  },
  {
   "cell_type": "markdown",
   "metadata": {},
   "source": [
    "This splits just fine, but now we have the issue that some of the names have length 3 versus length 2 and in order to be DataFrame, they must have common length.  One could insert \"None\" for the middle name for those with only two names.\n",
    "\n",
    "Note that the \"pd.apply()\" method changes the pd, but RETURNS the result of the function.  In this case of the names already with a middle name, lambda is returning the same series."
   ]
  },
  {
   "cell_type": "code",
   "execution_count": 37,
   "metadata": {},
   "outputs": [
    {
     "data": {
      "text/plain": [
       "0                   None\n",
       "1    [Jeffrey, G, Jones]\n",
       "2     [Dead, Ex, Parrot]\n",
       "dtype: object"
      ]
     },
     "execution_count": 37,
     "metadata": {},
     "output_type": "execute_result"
    }
   ],
   "source": [
    "mysplitnames.apply(lambda x: x if (len(x)==3) else x.insert(1,None))\n"
   ]
  },
  {
   "cell_type": "markdown",
   "metadata": {},
   "source": [
    "As we can see, the pd has been changed appropriately."
   ]
  },
  {
   "cell_type": "code",
   "execution_count": 38,
   "metadata": {},
   "outputs": [
    {
     "name": "stdout",
     "output_type": "stream",
     "text": [
      "0    [Molly, None, Malone]\n",
      "1      [Jeffrey, G, Jones]\n",
      "2       [Dead, Ex, Parrot]\n",
      "dtype: object\n"
     ]
    }
   ],
   "source": [
    "print(mysplitnames)"
   ]
  },
  {
   "cell_type": "code",
   "execution_count": 39,
   "metadata": {},
   "outputs": [
    {
     "name": "stdout",
     "output_type": "stream",
     "text": [
      "['Molly', None, 'Malone'] \n",
      "\n",
      "['Jeffrey', 'G', 'Jones'] \n",
      "\n",
      "['Dead', 'Ex', 'Parrot']\n"
     ]
    }
   ],
   "source": [
    "firstname = mysplitnames[0]\n",
    "middlename = mysplitnames[1]\n",
    "lastname = mysplitnames[2]\n",
    "print(firstname, '\\n')\n",
    "print(middlename, '\\n')\n",
    "print(lastname)"
   ]
  },
  {
   "cell_type": "markdown",
   "metadata": {},
   "source": [
    "## Changing the content of strings\n",
    "#### Replace using Series.str.replace()"
   ]
  },
  {
   "cell_type": "code",
   "execution_count": 40,
   "metadata": {},
   "outputs": [],
   "source": [
    "emails = word_split[1]"
   ]
  },
  {
   "cell_type": "code",
   "execution_count": 41,
   "metadata": {},
   "outputs": [
    {
     "name": "stdout",
     "output_type": "stream",
     "text": [
      "0     molmal@gmail.com\n",
      "1    jefjo@hotmail.com\n",
      "2     fjords@gmail.com\n",
      "Name: 1, dtype: object \n",
      "\n",
      "0     molmal_at_gmail.com\n",
      "1    jefjo_at_hotmail.com\n",
      "2     fjords_at_gmail.com\n",
      "Name: 1, dtype: object \n",
      "\n"
     ]
    }
   ],
   "source": [
    "print(emails,'\\n')\n",
    "print(emails.str.replace('@', '_at_'), '\\n')"
   ]
  },
  {
   "cell_type": "markdown",
   "metadata": {},
   "source": [
    "#### Changing case to lower or upper"
   ]
  },
  {
   "cell_type": "code",
   "execution_count": 42,
   "metadata": {},
   "outputs": [
    {
     "name": "stdout",
     "output_type": "stream",
     "text": [
      "0     mollymalone\n",
      "1    jeffreyjones\n",
      "2      deadparrot\n",
      "Name: 0, dtype: object \n",
      "\n",
      "0     MOLLYMALONE\n",
      "1    JEFFREYJONES\n",
      "2      DEADPARROT\n",
      "Name: 0, dtype: object \n",
      "\n",
      "0     Mollymalone\n",
      "1    Jeffreyjones\n",
      "2      Deadparrot\n",
      "Name: 0, dtype: object \n",
      "\n"
     ]
    }
   ],
   "source": [
    "print(names.str.lower(),'\\n')\n",
    "print(names.str.upper(),'\\n')\n",
    "print(names.str.capitalize(),'\\n')"
   ]
  },
  {
   "cell_type": "markdown",
   "metadata": {},
   "source": [
    "## Problem set\n",
    "My file would not read until I opened with with LibreOffice and then saved it again as a .csv file.  For some reason that got it to load.  The \"index_col-False\" opens the file without using the first column as an index."
   ]
  },
  {
   "cell_type": "code",
   "execution_count": 43,
   "metadata": {},
   "outputs": [],
   "source": [
    "W_C = pd.read_csv('/home/john/Desktop/Thinkful/WC.csv', index_col=False)"
   ]
  },
  {
   "cell_type": "code",
   "execution_count": 44,
   "metadata": {},
   "outputs": [
    {
     "data": {
      "text/html": [
       "<div>\n",
       "<style scoped>\n",
       "    .dataframe tbody tr th:only-of-type {\n",
       "        vertical-align: middle;\n",
       "    }\n",
       "\n",
       "    .dataframe tbody tr th {\n",
       "        vertical-align: top;\n",
       "    }\n",
       "\n",
       "    .dataframe thead th {\n",
       "        text-align: right;\n",
       "    }\n",
       "</style>\n",
       "<table border=\"1\" class=\"dataframe\">\n",
       "  <thead>\n",
       "    <tr style=\"text-align: right;\">\n",
       "      <th></th>\n",
       "      <th>PMID/PMCID</th>\n",
       "      <th>Publisher</th>\n",
       "      <th>Journal title</th>\n",
       "      <th>Article title</th>\n",
       "      <th>COST (�) charged to Wellcome (inc VAT when charged)</th>\n",
       "      <th>Unnamed: 5</th>\n",
       "    </tr>\n",
       "  </thead>\n",
       "  <tbody>\n",
       "    <tr>\n",
       "      <th>0</th>\n",
       "      <td>NaN</td>\n",
       "      <td>CUP</td>\n",
       "      <td>Psychological Medicine</td>\n",
       "      <td>Reduced parahippocampal cortical thickness in ...</td>\n",
       "      <td>�0.00</td>\n",
       "      <td>NaN</td>\n",
       "    </tr>\n",
       "    <tr>\n",
       "      <th>1</th>\n",
       "      <td>PMC3679557</td>\n",
       "      <td>ACS</td>\n",
       "      <td>Biomacromolecules</td>\n",
       "      <td>Structural characterization of a Model Gram-ne...</td>\n",
       "      <td>�2381.04</td>\n",
       "      <td>NaN</td>\n",
       "    </tr>\n",
       "    <tr>\n",
       "      <th>2</th>\n",
       "      <td>23043264  PMC3506128</td>\n",
       "      <td>ACS</td>\n",
       "      <td>J Med Chem</td>\n",
       "      <td>Fumaroylamino-4,5-epoxymorphinans and related ...</td>\n",
       "      <td>�642.56</td>\n",
       "      <td>NaN</td>\n",
       "    </tr>\n",
       "    <tr>\n",
       "      <th>3</th>\n",
       "      <td>23438330 PMC3646402</td>\n",
       "      <td>ACS</td>\n",
       "      <td>J Med Chem</td>\n",
       "      <td>Orvinols with mixed kappa/mu opioid receptor a...</td>\n",
       "      <td>�669.64</td>\n",
       "      <td>NaN</td>\n",
       "    </tr>\n",
       "    <tr>\n",
       "      <th>4</th>\n",
       "      <td>23438216 PMC3601604</td>\n",
       "      <td>ACS</td>\n",
       "      <td>J Org Chem</td>\n",
       "      <td>Regioselective opening of myo-inositol orthoes...</td>\n",
       "      <td>�685.88</td>\n",
       "      <td>NaN</td>\n",
       "    </tr>\n",
       "  </tbody>\n",
       "</table>\n",
       "</div>"
      ],
      "text/plain": [
       "              PMID/PMCID Publisher           Journal title  \\\n",
       "0                    NaN       CUP  Psychological Medicine   \n",
       "1             PMC3679557       ACS       Biomacromolecules   \n",
       "2  23043264  PMC3506128        ACS              J Med Chem   \n",
       "3    23438330 PMC3646402       ACS              J Med Chem   \n",
       "4   23438216 PMC3601604        ACS              J Org Chem   \n",
       "\n",
       "                                       Article title  \\\n",
       "0  Reduced parahippocampal cortical thickness in ...   \n",
       "1  Structural characterization of a Model Gram-ne...   \n",
       "2  Fumaroylamino-4,5-epoxymorphinans and related ...   \n",
       "3  Orvinols with mixed kappa/mu opioid receptor a...   \n",
       "4  Regioselective opening of myo-inositol orthoes...   \n",
       "\n",
       "  COST (�) charged to Wellcome (inc VAT when charged) Unnamed: 5  \n",
       "0                                              �0.00         NaN  \n",
       "1                                           �2381.04         NaN  \n",
       "2                                            �642.56         NaN  \n",
       "3                                            �669.64         NaN  \n",
       "4                                            �685.88         NaN  "
      ]
     },
     "execution_count": 44,
     "metadata": {},
     "output_type": "execute_result"
    }
   ],
   "source": [
    "W_C.head()"
   ]
  },
  {
   "cell_type": "markdown",
   "metadata": {},
   "source": [
    "These column headings suck.  Let's change them."
   ]
  },
  {
   "cell_type": "code",
   "execution_count": 45,
   "metadata": {},
   "outputs": [],
   "source": [
    "W_C.columns = ['PMID','Publisher','Journal','Title','Cost','Oops']"
   ]
  },
  {
   "cell_type": "markdown",
   "metadata": {},
   "source": [
    "We seem to have a few entries where column 5 is being used.  Let's find them."
   ]
  },
  {
   "cell_type": "code",
   "execution_count": 46,
   "metadata": {},
   "outputs": [
    {
     "data": {
      "text/html": [
       "<div>\n",
       "<style scoped>\n",
       "    .dataframe tbody tr th:only-of-type {\n",
       "        vertical-align: middle;\n",
       "    }\n",
       "\n",
       "    .dataframe tbody tr th {\n",
       "        vertical-align: top;\n",
       "    }\n",
       "\n",
       "    .dataframe thead th {\n",
       "        text-align: right;\n",
       "    }\n",
       "</style>\n",
       "<table border=\"1\" class=\"dataframe\">\n",
       "  <thead>\n",
       "    <tr style=\"text-align: right;\">\n",
       "      <th></th>\n",
       "      <th>PMID</th>\n",
       "      <th>Publisher</th>\n",
       "      <th>Journal</th>\n",
       "      <th>Title</th>\n",
       "      <th>Cost</th>\n",
       "      <th>Oops</th>\n",
       "    </tr>\n",
       "  </thead>\n",
       "  <tbody>\n",
       "    <tr>\n",
       "      <th>403</th>\n",
       "      <td>NaN</td>\n",
       "      <td>Company of Biologists</td>\n",
       "      <td>Journal of Cell Science</td>\n",
       "      <td>Expression of OA1 limits the fusion of a subse...</td>\n",
       "      <td>a mechanism likely involved in the initial bi...</td>\n",
       "      <td>�2400.00</td>\n",
       "    </tr>\n",
       "    <tr>\n",
       "      <th>830</th>\n",
       "      <td>3708126</td>\n",
       "      <td>Elsevier</td>\n",
       "      <td>American Journal of Preventive Medicine</td>\n",
       "      <td>Sickle Cell Disease in Africa</td>\n",
       "      <td>a neglected cause of early childhood mortality</td>\n",
       "      <td>�1834.77</td>\n",
       "    </tr>\n",
       "    <tr>\n",
       "      <th>837</th>\n",
       "      <td>3778404</td>\n",
       "      <td>Elsevier</td>\n",
       "      <td>Social Science &amp; Medicine</td>\n",
       "      <td>Managing misaligned paternity findings in rese...</td>\n",
       "      <td>consulting communities to inform policy</td>\n",
       "      <td>�1834.77</td>\n",
       "    </tr>\n",
       "    <tr>\n",
       "      <th>1278</th>\n",
       "      <td>PMC3744396</td>\n",
       "      <td>PLOS</td>\n",
       "      <td>PLOS Computational Biology</td>\n",
       "      <td>Spike triggered hormone secretion in vasopress...</td>\n",
       "      <td>a model investigation of mechanism and hetero...</td>\n",
       "      <td>�1429.13</td>\n",
       "    </tr>\n",
       "    <tr>\n",
       "      <th>1697</th>\n",
       "      <td>PMC3347798</td>\n",
       "      <td>Society for Genermal Microbiology</td>\n",
       "      <td>Journal of General Virology</td>\n",
       "      <td>The natural history of early hepatitis C virus...</td>\n",
       "      <td>lessons from a global outbreak in human immun...</td>\n",
       "      <td>�1750.00</td>\n",
       "    </tr>\n",
       "    <tr>\n",
       "      <th>1854</th>\n",
       "      <td>NaN</td>\n",
       "      <td>The Endrocrine Society</td>\n",
       "      <td>Journal od Clinical Endocrinology</td>\n",
       "      <td>Corticotropin releasing hormone interacts with...</td>\n",
       "      <td>-1 to Regulate Prostaglandin H Synthase- 2 Exp...</td>\n",
       "      <td>�3602.41</td>\n",
       "    </tr>\n",
       "    <tr>\n",
       "      <th>1975</th>\n",
       "      <td>PMC3739940</td>\n",
       "      <td>Wiley</td>\n",
       "      <td>Movement Disorders</td>\n",
       "      <td>Somatic alpha-synuclein mutations in Parkinson...</td>\n",
       "      <td>s disease: hypothesis and preliminary data</td>\n",
       "      <td>�1005.00</td>\n",
       "    </tr>\n",
       "    <tr>\n",
       "      <th>1990</th>\n",
       "      <td>NaN</td>\n",
       "      <td>Wiley</td>\n",
       "      <td>Muscle and Nerve</td>\n",
       "      <td>HETEROGENEITY OF QUADRICEPS MUSCLE PHENOTYPE I...</td>\n",
       "      <td>IMPLICATIONS FOR STRATIFIED MEDICINE?</td>\n",
       "      <td>�2371.54</td>\n",
       "    </tr>\n",
       "  </tbody>\n",
       "</table>\n",
       "</div>"
      ],
      "text/plain": [
       "             PMID                          Publisher  \\\n",
       "403           NaN              Company of Biologists   \n",
       "830       3708126                          Elsevier    \n",
       "837       3778404                          Elsevier    \n",
       "1278   PMC3744396                               PLOS   \n",
       "1697   PMC3347798  Society for Genermal Microbiology   \n",
       "1854          NaN             The Endrocrine Society   \n",
       "1975  PMC3739940                               Wiley   \n",
       "1990          NaN                              Wiley   \n",
       "\n",
       "                                       Journal  \\\n",
       "403                    Journal of Cell Science   \n",
       "830   American Journal of Preventive Medicine    \n",
       "837                 Social Science & Medicine    \n",
       "1278                PLOS Computational Biology   \n",
       "1697               Journal of General Virology   \n",
       "1854         Journal od Clinical Endocrinology   \n",
       "1975                        Movement Disorders   \n",
       "1990                          Muscle and Nerve   \n",
       "\n",
       "                                                  Title  \\\n",
       "403   Expression of OA1 limits the fusion of a subse...   \n",
       "830                       Sickle Cell Disease in Africa   \n",
       "837   Managing misaligned paternity findings in rese...   \n",
       "1278  Spike triggered hormone secretion in vasopress...   \n",
       "1697  The natural history of early hepatitis C virus...   \n",
       "1854  Corticotropin releasing hormone interacts with...   \n",
       "1975  Somatic alpha-synuclein mutations in Parkinson...   \n",
       "1990  HETEROGENEITY OF QUADRICEPS MUSCLE PHENOTYPE I...   \n",
       "\n",
       "                                                   Cost      Oops  \n",
       "403    a mechanism likely involved in the initial bi...  �2400.00  \n",
       "830     a neglected cause of early childhood mortality   �1834.77  \n",
       "837            consulting communities to inform policy   �1834.77  \n",
       "1278   a model investigation of mechanism and hetero...  �1429.13  \n",
       "1697   lessons from a global outbreak in human immun...  �1750.00  \n",
       "1854  -1 to Regulate Prostaglandin H Synthase- 2 Exp...  �3602.41  \n",
       "1975         s disease: hypothesis and preliminary data  �1005.00  \n",
       "1990              IMPLICATIONS FOR STRATIFIED MEDICINE?  �2371.54  "
      ]
     },
     "execution_count": 46,
     "metadata": {},
     "output_type": "execute_result"
    }
   ],
   "source": [
    "W_C.loc[W_C['Oops'].notnull(),['PMID','Publisher','Journal','Title','Cost','Oops']]"
   ]
  },
  {
   "cell_type": "markdown",
   "metadata": {},
   "source": [
    "These errors seem to have been caused by the article Title being split between Title and Cost with the cost being moved to a 6th column. The next line will concatenate the two data columns back into the Title column where it belongs, then we move the Cost data to the 5th column."
   ]
  },
  {
   "cell_type": "code",
   "execution_count": 47,
   "metadata": {},
   "outputs": [],
   "source": [
    "W_C.loc[W_C['Oops'].notnull(),'Title']=W_C['Title']+W_C['Cost']"
   ]
  },
  {
   "cell_type": "code",
   "execution_count": 48,
   "metadata": {},
   "outputs": [],
   "source": [
    "W_C.loc[W_C['Oops'].notnull(),'Cost']=W_C['Oops']"
   ]
  },
  {
   "cell_type": "code",
   "execution_count": 49,
   "metadata": {},
   "outputs": [
    {
     "data": {
      "text/html": [
       "<div>\n",
       "<style scoped>\n",
       "    .dataframe tbody tr th:only-of-type {\n",
       "        vertical-align: middle;\n",
       "    }\n",
       "\n",
       "    .dataframe tbody tr th {\n",
       "        vertical-align: top;\n",
       "    }\n",
       "\n",
       "    .dataframe thead th {\n",
       "        text-align: right;\n",
       "    }\n",
       "</style>\n",
       "<table border=\"1\" class=\"dataframe\">\n",
       "  <thead>\n",
       "    <tr style=\"text-align: right;\">\n",
       "      <th></th>\n",
       "      <th>PMID</th>\n",
       "      <th>Publisher</th>\n",
       "      <th>Journal</th>\n",
       "      <th>Title</th>\n",
       "      <th>Cost</th>\n",
       "      <th>Oops</th>\n",
       "    </tr>\n",
       "  </thead>\n",
       "  <tbody>\n",
       "    <tr>\n",
       "      <th>403</th>\n",
       "      <td>NaN</td>\n",
       "      <td>Company of Biologists</td>\n",
       "      <td>Journal of Cell Science</td>\n",
       "      <td>Expression of OA1 limits the fusion of a subse...</td>\n",
       "      <td>�2400.00</td>\n",
       "      <td>�2400.00</td>\n",
       "    </tr>\n",
       "    <tr>\n",
       "      <th>830</th>\n",
       "      <td>3708126</td>\n",
       "      <td>Elsevier</td>\n",
       "      <td>American Journal of Preventive Medicine</td>\n",
       "      <td>Sickle Cell Disease in Africa a neglected caus...</td>\n",
       "      <td>�1834.77</td>\n",
       "      <td>�1834.77</td>\n",
       "    </tr>\n",
       "    <tr>\n",
       "      <th>837</th>\n",
       "      <td>3778404</td>\n",
       "      <td>Elsevier</td>\n",
       "      <td>Social Science &amp; Medicine</td>\n",
       "      <td>Managing misaligned paternity findings in rese...</td>\n",
       "      <td>�1834.77</td>\n",
       "      <td>�1834.77</td>\n",
       "    </tr>\n",
       "    <tr>\n",
       "      <th>1278</th>\n",
       "      <td>PMC3744396</td>\n",
       "      <td>PLOS</td>\n",
       "      <td>PLOS Computational Biology</td>\n",
       "      <td>Spike triggered hormone secretion in vasopress...</td>\n",
       "      <td>�1429.13</td>\n",
       "      <td>�1429.13</td>\n",
       "    </tr>\n",
       "    <tr>\n",
       "      <th>1697</th>\n",
       "      <td>PMC3347798</td>\n",
       "      <td>Society for Genermal Microbiology</td>\n",
       "      <td>Journal of General Virology</td>\n",
       "      <td>The natural history of early hepatitis C virus...</td>\n",
       "      <td>�1750.00</td>\n",
       "      <td>�1750.00</td>\n",
       "    </tr>\n",
       "    <tr>\n",
       "      <th>1854</th>\n",
       "      <td>NaN</td>\n",
       "      <td>The Endrocrine Society</td>\n",
       "      <td>Journal od Clinical Endocrinology</td>\n",
       "      <td>Corticotropin releasing hormone interacts with...</td>\n",
       "      <td>�3602.41</td>\n",
       "      <td>�3602.41</td>\n",
       "    </tr>\n",
       "    <tr>\n",
       "      <th>1975</th>\n",
       "      <td>PMC3739940</td>\n",
       "      <td>Wiley</td>\n",
       "      <td>Movement Disorders</td>\n",
       "      <td>Somatic alpha-synuclein mutations in Parkinson...</td>\n",
       "      <td>�1005.00</td>\n",
       "      <td>�1005.00</td>\n",
       "    </tr>\n",
       "    <tr>\n",
       "      <th>1990</th>\n",
       "      <td>NaN</td>\n",
       "      <td>Wiley</td>\n",
       "      <td>Muscle and Nerve</td>\n",
       "      <td>HETEROGENEITY OF QUADRICEPS MUSCLE PHENOTYPE I...</td>\n",
       "      <td>�2371.54</td>\n",
       "      <td>�2371.54</td>\n",
       "    </tr>\n",
       "  </tbody>\n",
       "</table>\n",
       "</div>"
      ],
      "text/plain": [
       "             PMID                          Publisher  \\\n",
       "403           NaN              Company of Biologists   \n",
       "830       3708126                          Elsevier    \n",
       "837       3778404                          Elsevier    \n",
       "1278   PMC3744396                               PLOS   \n",
       "1697   PMC3347798  Society for Genermal Microbiology   \n",
       "1854          NaN             The Endrocrine Society   \n",
       "1975  PMC3739940                               Wiley   \n",
       "1990          NaN                              Wiley   \n",
       "\n",
       "                                       Journal  \\\n",
       "403                    Journal of Cell Science   \n",
       "830   American Journal of Preventive Medicine    \n",
       "837                 Social Science & Medicine    \n",
       "1278                PLOS Computational Biology   \n",
       "1697               Journal of General Virology   \n",
       "1854         Journal od Clinical Endocrinology   \n",
       "1975                        Movement Disorders   \n",
       "1990                          Muscle and Nerve   \n",
       "\n",
       "                                                  Title      Cost      Oops  \n",
       "403   Expression of OA1 limits the fusion of a subse...  �2400.00  �2400.00  \n",
       "830   Sickle Cell Disease in Africa a neglected caus...  �1834.77  �1834.77  \n",
       "837   Managing misaligned paternity findings in rese...  �1834.77  �1834.77  \n",
       "1278  Spike triggered hormone secretion in vasopress...  �1429.13  �1429.13  \n",
       "1697  The natural history of early hepatitis C virus...  �1750.00  �1750.00  \n",
       "1854  Corticotropin releasing hormone interacts with...  �3602.41  �3602.41  \n",
       "1975  Somatic alpha-synuclein mutations in Parkinson...  �1005.00  �1005.00  \n",
       "1990  HETEROGENEITY OF QUADRICEPS MUSCLE PHENOTYPE I...  �2371.54  �2371.54  "
      ]
     },
     "execution_count": 49,
     "metadata": {},
     "output_type": "execute_result"
    }
   ],
   "source": [
    "W_C.loc[W_C['Oops'].notnull(),['PMID','Publisher','Journal','Title','Cost','Oops']]"
   ]
  },
  {
   "cell_type": "markdown",
   "metadata": {},
   "source": [
    "We can now drop the unnecessary column."
   ]
  },
  {
   "cell_type": "code",
   "execution_count": 50,
   "metadata": {},
   "outputs": [],
   "source": [
    "W_C = pd.read_csv('/home/john/Desktop/Thinkful/WC.csv', index_col=False)W_C=W_C.drop(columns=['Oops'])"
   ]
  },
  {
   "cell_type": "markdown",
   "metadata": {},
   "source": [
    "#### Cleaning up Unicode issues\n",
    "Some of the columns have characters which aren't part of standard ASCII. We need to excise them.\n",
    "\n",
    "However we need to be careful as some of the entries in Cost field are listed in UK pounds.  Now, the issue is by running the file through LibreOffice, the £ symbol has been turned into �.  Whether OTHER symbols were also turned into � I don't know. I do know that searching for  � and \\$ return the same rows -- Thus it's clear we can't use the file after it's run through LibreOffice."
   ]
  },
  {
   "cell_type": "code",
   "execution_count": 51,
   "metadata": {},
   "outputs": [
    {
     "data": {
      "text/html": [
       "<div>\n",
       "<style scoped>\n",
       "    .dataframe tbody tr th:only-of-type {\n",
       "        vertical-align: middle;\n",
       "    }\n",
       "\n",
       "    .dataframe tbody tr th {\n",
       "        vertical-align: top;\n",
       "    }\n",
       "\n",
       "    .dataframe thead th {\n",
       "        text-align: right;\n",
       "    }\n",
       "</style>\n",
       "<table border=\"1\" class=\"dataframe\">\n",
       "  <thead>\n",
       "    <tr style=\"text-align: right;\">\n",
       "      <th></th>\n",
       "      <th>PMID</th>\n",
       "      <th>Publisher</th>\n",
       "      <th>Journal</th>\n",
       "      <th>Title</th>\n",
       "      <th>Cost</th>\n",
       "    </tr>\n",
       "  </thead>\n",
       "  <tbody>\n",
       "  </tbody>\n",
       "</table>\n",
       "</div>"
      ],
      "text/plain": [
       "Empty DataFrame\n",
       "Columns: [PMID, Publisher, Journal, Title, Cost]\n",
       "Index: []"
      ]
     },
     "execution_count": 51,
     "metadata": {},
     "output_type": "execute_result"
    }
   ],
   "source": [
    "W_C.loc[W_C['Cost'].str.contains(\"£\")]"
   ]
  },
  {
   "cell_type": "code",
   "execution_count": 56,
   "metadata": {},
   "outputs": [
    {
     "data": {
      "text/html": [
       "<div>\n",
       "<style scoped>\n",
       "    .dataframe tbody tr th:only-of-type {\n",
       "        vertical-align: middle;\n",
       "    }\n",
       "\n",
       "    .dataframe tbody tr th {\n",
       "        vertical-align: top;\n",
       "    }\n",
       "\n",
       "    .dataframe thead th {\n",
       "        text-align: right;\n",
       "    }\n",
       "</style>\n",
       "<table border=\"1\" class=\"dataframe\">\n",
       "  <thead>\n",
       "    <tr style=\"text-align: right;\">\n",
       "      <th></th>\n",
       "      <th>PMID</th>\n",
       "      <th>Publisher</th>\n",
       "      <th>Journal</th>\n",
       "      <th>Title</th>\n",
       "      <th>Cost</th>\n",
       "    </tr>\n",
       "  </thead>\n",
       "  <tbody>\n",
       "    <tr>\n",
       "      <th>0</th>\n",
       "      <td>NaN</td>\n",
       "      <td>CUP</td>\n",
       "      <td>Psychological Medicine</td>\n",
       "      <td>Reduced parahippocampal cortical thickness in ...</td>\n",
       "      <td>�0.00</td>\n",
       "    </tr>\n",
       "    <tr>\n",
       "      <th>1</th>\n",
       "      <td>PMC3679557</td>\n",
       "      <td>ACS</td>\n",
       "      <td>Biomacromolecules</td>\n",
       "      <td>Structural characterization of a Model Gram-ne...</td>\n",
       "      <td>�2381.04</td>\n",
       "    </tr>\n",
       "    <tr>\n",
       "      <th>2</th>\n",
       "      <td>23043264  PMC3506128</td>\n",
       "      <td>ACS</td>\n",
       "      <td>J Med Chem</td>\n",
       "      <td>Fumaroylamino-4,5-epoxymorphinans and related ...</td>\n",
       "      <td>�642.56</td>\n",
       "    </tr>\n",
       "    <tr>\n",
       "      <th>3</th>\n",
       "      <td>23438330 PMC3646402</td>\n",
       "      <td>ACS</td>\n",
       "      <td>J Med Chem</td>\n",
       "      <td>Orvinols with mixed kappa/mu opioid receptor a...</td>\n",
       "      <td>�669.64</td>\n",
       "    </tr>\n",
       "    <tr>\n",
       "      <th>4</th>\n",
       "      <td>23438216 PMC3601604</td>\n",
       "      <td>ACS</td>\n",
       "      <td>J Org Chem</td>\n",
       "      <td>Regioselective opening of myo-inositol orthoes...</td>\n",
       "      <td>�685.88</td>\n",
       "    </tr>\n",
       "  </tbody>\n",
       "</table>\n",
       "</div>"
      ],
      "text/plain": [
       "                    PMID Publisher                 Journal  \\\n",
       "0                    NaN       CUP  Psychological Medicine   \n",
       "1             PMC3679557       ACS       Biomacromolecules   \n",
       "2  23043264  PMC3506128        ACS              J Med Chem   \n",
       "3    23438330 PMC3646402       ACS              J Med Chem   \n",
       "4   23438216 PMC3601604        ACS              J Org Chem   \n",
       "\n",
       "                                               Title      Cost  \n",
       "0  Reduced parahippocampal cortical thickness in ...     �0.00  \n",
       "1  Structural characterization of a Model Gram-ne...  �2381.04  \n",
       "2  Fumaroylamino-4,5-epoxymorphinans and related ...   �642.56  \n",
       "3  Orvinols with mixed kappa/mu opioid receptor a...   �669.64  \n",
       "4  Regioselective opening of myo-inositol orthoes...   �685.88  "
      ]
     },
     "execution_count": 56,
     "metadata": {},
     "output_type": "execute_result"
    }
   ],
   "source": [
    "W_C.loc[W_C['Cost'].str.contains(\"�\")].head()"
   ]
  },
  {
   "cell_type": "code",
   "execution_count": 55,
   "metadata": {},
   "outputs": [
    {
     "data": {
      "text/html": [
       "<div>\n",
       "<style scoped>\n",
       "    .dataframe tbody tr th:only-of-type {\n",
       "        vertical-align: middle;\n",
       "    }\n",
       "\n",
       "    .dataframe tbody tr th {\n",
       "        vertical-align: top;\n",
       "    }\n",
       "\n",
       "    .dataframe thead th {\n",
       "        text-align: right;\n",
       "    }\n",
       "</style>\n",
       "<table border=\"1\" class=\"dataframe\">\n",
       "  <thead>\n",
       "    <tr style=\"text-align: right;\">\n",
       "      <th></th>\n",
       "      <th>PMID</th>\n",
       "      <th>Publisher</th>\n",
       "      <th>Journal</th>\n",
       "      <th>Title</th>\n",
       "      <th>Cost</th>\n",
       "    </tr>\n",
       "  </thead>\n",
       "  <tbody>\n",
       "    <tr>\n",
       "      <th>0</th>\n",
       "      <td>NaN</td>\n",
       "      <td>CUP</td>\n",
       "      <td>Psychological Medicine</td>\n",
       "      <td>Reduced parahippocampal cortical thickness in ...</td>\n",
       "      <td>�0.00</td>\n",
       "    </tr>\n",
       "    <tr>\n",
       "      <th>1</th>\n",
       "      <td>PMC3679557</td>\n",
       "      <td>ACS</td>\n",
       "      <td>Biomacromolecules</td>\n",
       "      <td>Structural characterization of a Model Gram-ne...</td>\n",
       "      <td>�2381.04</td>\n",
       "    </tr>\n",
       "    <tr>\n",
       "      <th>2</th>\n",
       "      <td>23043264  PMC3506128</td>\n",
       "      <td>ACS</td>\n",
       "      <td>J Med Chem</td>\n",
       "      <td>Fumaroylamino-4,5-epoxymorphinans and related ...</td>\n",
       "      <td>�642.56</td>\n",
       "    </tr>\n",
       "    <tr>\n",
       "      <th>3</th>\n",
       "      <td>23438330 PMC3646402</td>\n",
       "      <td>ACS</td>\n",
       "      <td>J Med Chem</td>\n",
       "      <td>Orvinols with mixed kappa/mu opioid receptor a...</td>\n",
       "      <td>�669.64</td>\n",
       "    </tr>\n",
       "    <tr>\n",
       "      <th>4</th>\n",
       "      <td>23438216 PMC3601604</td>\n",
       "      <td>ACS</td>\n",
       "      <td>J Org Chem</td>\n",
       "      <td>Regioselective opening of myo-inositol orthoes...</td>\n",
       "      <td>�685.88</td>\n",
       "    </tr>\n",
       "  </tbody>\n",
       "</table>\n",
       "</div>"
      ],
      "text/plain": [
       "                    PMID Publisher                 Journal  \\\n",
       "0                    NaN       CUP  Psychological Medicine   \n",
       "1             PMC3679557       ACS       Biomacromolecules   \n",
       "2  23043264  PMC3506128        ACS              J Med Chem   \n",
       "3    23438330 PMC3646402       ACS              J Med Chem   \n",
       "4   23438216 PMC3601604        ACS              J Org Chem   \n",
       "\n",
       "                                               Title      Cost  \n",
       "0  Reduced parahippocampal cortical thickness in ...     �0.00  \n",
       "1  Structural characterization of a Model Gram-ne...  �2381.04  \n",
       "2  Fumaroylamino-4,5-epoxymorphinans and related ...   �642.56  \n",
       "3  Orvinols with mixed kappa/mu opioid receptor a...   �669.64  \n",
       "4  Regioselective opening of myo-inositol orthoes...   �685.88  "
      ]
     },
     "execution_count": 55,
     "metadata": {},
     "output_type": "execute_result"
    }
   ],
   "source": [
    "W_C.loc[W_C['Cost'].str.contains(\"$\")].head()"
   ]
  },
  {
   "cell_type": "markdown",
   "metadata": {},
   "source": [
    "#### Second attempt: try reading in the file straight-away.\n",
    "Continued to get issues with reading.  After exploring Stack Overflow I added, in succession,\n",
    "encoding='utf-8', encoding='utf-16', encoding='latin1', encoding='iso-8859-1', encoding='cp1252'\n"
   ]
  },
  {
   "cell_type": "code",
   "execution_count": 92,
   "metadata": {},
   "outputs": [],
   "source": [
    "WELL_C = pd.read_csv('/home/john/Downloads/WELLCOME_APCspend2013_forThinkful.csv', encoding='latin1',index_col=False)"
   ]
  },
  {
   "cell_type": "code",
   "execution_count": 93,
   "metadata": {},
   "outputs": [
    {
     "data": {
      "text/html": [
       "<div>\n",
       "<style scoped>\n",
       "    .dataframe tbody tr th:only-of-type {\n",
       "        vertical-align: middle;\n",
       "    }\n",
       "\n",
       "    .dataframe tbody tr th {\n",
       "        vertical-align: top;\n",
       "    }\n",
       "\n",
       "    .dataframe thead th {\n",
       "        text-align: right;\n",
       "    }\n",
       "</style>\n",
       "<table border=\"1\" class=\"dataframe\">\n",
       "  <thead>\n",
       "    <tr style=\"text-align: right;\">\n",
       "      <th></th>\n",
       "      <th>PMID/PMCID</th>\n",
       "      <th>Publisher</th>\n",
       "      <th>Journal title</th>\n",
       "      <th>Article title</th>\n",
       "      <th>COST (£) charged to Wellcome (inc VAT when charged)</th>\n",
       "    </tr>\n",
       "  </thead>\n",
       "  <tbody>\n",
       "    <tr>\n",
       "      <th>0</th>\n",
       "      <td>NaN</td>\n",
       "      <td>CUP</td>\n",
       "      <td>Psychological Medicine</td>\n",
       "      <td>Reduced parahippocampal cortical thickness in ...</td>\n",
       "      <td>£0.00</td>\n",
       "    </tr>\n",
       "    <tr>\n",
       "      <th>1</th>\n",
       "      <td>PMC3679557</td>\n",
       "      <td>ACS</td>\n",
       "      <td>Biomacromolecules</td>\n",
       "      <td>Structural characterization of a Model Gram-ne...</td>\n",
       "      <td>£2381.04</td>\n",
       "    </tr>\n",
       "    <tr>\n",
       "      <th>2</th>\n",
       "      <td>23043264  PMC3506128</td>\n",
       "      <td>ACS</td>\n",
       "      <td>J Med Chem</td>\n",
       "      <td>Fumaroylamino-4,5-epoxymorphinans and related ...</td>\n",
       "      <td>£642.56</td>\n",
       "    </tr>\n",
       "    <tr>\n",
       "      <th>3</th>\n",
       "      <td>23438330 PMC3646402</td>\n",
       "      <td>ACS</td>\n",
       "      <td>J Med Chem</td>\n",
       "      <td>Orvinols with mixed kappa/mu opioid receptor a...</td>\n",
       "      <td>£669.64</td>\n",
       "    </tr>\n",
       "    <tr>\n",
       "      <th>4</th>\n",
       "      <td>23438216 PMC3601604</td>\n",
       "      <td>ACS</td>\n",
       "      <td>J Org Chem</td>\n",
       "      <td>Regioselective opening of myo-inositol orthoes...</td>\n",
       "      <td>£685.88</td>\n",
       "    </tr>\n",
       "  </tbody>\n",
       "</table>\n",
       "</div>"
      ],
      "text/plain": [
       "              PMID/PMCID Publisher           Journal title  \\\n",
       "0                    NaN       CUP  Psychological Medicine   \n",
       "1             PMC3679557       ACS       Biomacromolecules   \n",
       "2  23043264  PMC3506128        ACS              J Med Chem   \n",
       "3    23438330 PMC3646402       ACS              J Med Chem   \n",
       "4   23438216 PMC3601604        ACS              J Org Chem   \n",
       "\n",
       "                                       Article title  \\\n",
       "0  Reduced parahippocampal cortical thickness in ...   \n",
       "1  Structural characterization of a Model Gram-ne...   \n",
       "2  Fumaroylamino-4,5-epoxymorphinans and related ...   \n",
       "3  Orvinols with mixed kappa/mu opioid receptor a...   \n",
       "4  Regioselective opening of myo-inositol orthoes...   \n",
       "\n",
       "  COST (£) charged to Wellcome (inc VAT when charged)  \n",
       "0                                              £0.00   \n",
       "1                                           £2381.04   \n",
       "2                                            £642.56   \n",
       "3                                            £669.64   \n",
       "4                                            £685.88   "
      ]
     },
     "execution_count": 93,
     "metadata": {},
     "output_type": "execute_result"
    }
   ],
   "source": [
    "WELL_C.head()"
   ]
  },
  {
   "cell_type": "markdown",
   "metadata": {},
   "source": [
    "This is a lovely surprise, by reading the file correctly, the article titles stayed where they were supposed to stay."
   ]
  },
  {
   "cell_type": "code",
   "execution_count": 94,
   "metadata": {},
   "outputs": [],
   "source": [
    "WELL_C.columns = ['PMID','Publisher','Journal','Title','Cost']"
   ]
  },
  {
   "cell_type": "code",
   "execution_count": 95,
   "metadata": {},
   "outputs": [],
   "source": [
    "ratioUKtoUSD = 1.31"
   ]
  },
  {
   "cell_type": "code",
   "execution_count": 96,
   "metadata": {},
   "outputs": [],
   "source": [
    "WELL_C['Cost'] = WELL_C.loc[WELL_C['Cost'].str.contains(\"£\"),'Cost'].str.replace('£','').astype(float)*ratioUKtoUSD"
   ]
  },
  {
   "cell_type": "code",
   "execution_count": 97,
   "metadata": {},
   "outputs": [
    {
     "data": {
      "text/html": [
       "<div>\n",
       "<style scoped>\n",
       "    .dataframe tbody tr th:only-of-type {\n",
       "        vertical-align: middle;\n",
       "    }\n",
       "\n",
       "    .dataframe tbody tr th {\n",
       "        vertical-align: top;\n",
       "    }\n",
       "\n",
       "    .dataframe thead th {\n",
       "        text-align: right;\n",
       "    }\n",
       "</style>\n",
       "<table border=\"1\" class=\"dataframe\">\n",
       "  <thead>\n",
       "    <tr style=\"text-align: right;\">\n",
       "      <th></th>\n",
       "      <th>PMID</th>\n",
       "      <th>Publisher</th>\n",
       "      <th>Journal</th>\n",
       "      <th>Title</th>\n",
       "      <th>Cost</th>\n",
       "    </tr>\n",
       "  </thead>\n",
       "  <tbody>\n",
       "    <tr>\n",
       "      <th>0</th>\n",
       "      <td>NaN</td>\n",
       "      <td>CUP</td>\n",
       "      <td>Psychological Medicine</td>\n",
       "      <td>Reduced parahippocampal cortical thickness in ...</td>\n",
       "      <td>0.0000</td>\n",
       "    </tr>\n",
       "    <tr>\n",
       "      <th>1</th>\n",
       "      <td>PMC3679557</td>\n",
       "      <td>ACS</td>\n",
       "      <td>Biomacromolecules</td>\n",
       "      <td>Structural characterization of a Model Gram-ne...</td>\n",
       "      <td>3119.1624</td>\n",
       "    </tr>\n",
       "    <tr>\n",
       "      <th>2</th>\n",
       "      <td>23043264  PMC3506128</td>\n",
       "      <td>ACS</td>\n",
       "      <td>J Med Chem</td>\n",
       "      <td>Fumaroylamino-4,5-epoxymorphinans and related ...</td>\n",
       "      <td>841.7536</td>\n",
       "    </tr>\n",
       "    <tr>\n",
       "      <th>3</th>\n",
       "      <td>23438330 PMC3646402</td>\n",
       "      <td>ACS</td>\n",
       "      <td>J Med Chem</td>\n",
       "      <td>Orvinols with mixed kappa/mu opioid receptor a...</td>\n",
       "      <td>877.2284</td>\n",
       "    </tr>\n",
       "    <tr>\n",
       "      <th>4</th>\n",
       "      <td>23438216 PMC3601604</td>\n",
       "      <td>ACS</td>\n",
       "      <td>J Org Chem</td>\n",
       "      <td>Regioselective opening of myo-inositol orthoes...</td>\n",
       "      <td>898.5028</td>\n",
       "    </tr>\n",
       "  </tbody>\n",
       "</table>\n",
       "</div>"
      ],
      "text/plain": [
       "                    PMID Publisher                 Journal  \\\n",
       "0                    NaN       CUP  Psychological Medicine   \n",
       "1             PMC3679557       ACS       Biomacromolecules   \n",
       "2  23043264  PMC3506128        ACS              J Med Chem   \n",
       "3    23438330 PMC3646402       ACS              J Med Chem   \n",
       "4   23438216 PMC3601604        ACS              J Org Chem   \n",
       "\n",
       "                                               Title       Cost  \n",
       "0  Reduced parahippocampal cortical thickness in ...     0.0000  \n",
       "1  Structural characterization of a Model Gram-ne...  3119.1624  \n",
       "2  Fumaroylamino-4,5-epoxymorphinans and related ...   841.7536  \n",
       "3  Orvinols with mixed kappa/mu opioid receptor a...   877.2284  \n",
       "4  Regioselective opening of myo-inositol orthoes...   898.5028  "
      ]
     },
     "execution_count": 97,
     "metadata": {},
     "output_type": "execute_result"
    }
   ],
   "source": [
    "WELL_C.head()"
   ]
  },
  {
   "cell_type": "markdown",
   "metadata": {},
   "source": [
    "Next, we need to remove the \\$ sign from the Cost entries.  This is made difficult because the column is now half floats and half strings. Thus as we check for '$', we have to treat all as strings."
   ]
  },
  {
   "cell_type": "code",
   "execution_count": 100,
   "metadata": {},
   "outputs": [],
   "source": [
    "WELL_C['Cost'] = WELL_C.loc[WELL_C['Cost'].astype(str).str.contains('$'),'Cost'].replace('$','')"
   ]
  },
  {
   "cell_type": "markdown",
   "metadata": {},
   "source": [
    "Whew.  Let's make sure all values in the column are floats."
   ]
  },
  {
   "cell_type": "code",
   "execution_count": 101,
   "metadata": {},
   "outputs": [],
   "source": [
    "WELL_C['Cost']=WELL_C['Cost'].astype(float)"
   ]
  },
  {
   "cell_type": "markdown",
   "metadata": {},
   "source": [
    "### Grouping by Journal Name\n",
    "We have to rest_index after any aggregation as the indexing is not existant until we do."
   ]
  },
  {
   "cell_type": "code",
   "execution_count": 102,
   "metadata": {},
   "outputs": [],
   "source": [
    "byJournal = WELL_C.groupby(['Journal']).agg('count').reset_index()\n"
   ]
  },
  {
   "cell_type": "code",
   "execution_count": 103,
   "metadata": {},
   "outputs": [
    {
     "data": {
      "text/html": [
       "<div>\n",
       "<style scoped>\n",
       "    .dataframe tbody tr th:only-of-type {\n",
       "        vertical-align: middle;\n",
       "    }\n",
       "\n",
       "    .dataframe tbody tr th {\n",
       "        vertical-align: top;\n",
       "    }\n",
       "\n",
       "    .dataframe thead th {\n",
       "        text-align: right;\n",
       "    }\n",
       "</style>\n",
       "<table border=\"1\" class=\"dataframe\">\n",
       "  <thead>\n",
       "    <tr style=\"text-align: right;\">\n",
       "      <th></th>\n",
       "      <th>Journal</th>\n",
       "      <th>PMID</th>\n",
       "      <th>Publisher</th>\n",
       "      <th>Title</th>\n",
       "      <th>Cost</th>\n",
       "    </tr>\n",
       "  </thead>\n",
       "  <tbody>\n",
       "    <tr>\n",
       "      <th>792</th>\n",
       "      <td>PLoS One</td>\n",
       "      <td>91</td>\n",
       "      <td>92</td>\n",
       "      <td>92</td>\n",
       "      <td>92</td>\n",
       "    </tr>\n",
       "    <tr>\n",
       "      <th>791</th>\n",
       "      <td>PLoS ONE</td>\n",
       "      <td>62</td>\n",
       "      <td>62</td>\n",
       "      <td>62</td>\n",
       "      <td>62</td>\n",
       "    </tr>\n",
       "    <tr>\n",
       "      <th>527</th>\n",
       "      <td>Journal of Biological Chemistry</td>\n",
       "      <td>47</td>\n",
       "      <td>48</td>\n",
       "      <td>48</td>\n",
       "      <td>48</td>\n",
       "    </tr>\n",
       "    <tr>\n",
       "      <th>753</th>\n",
       "      <td>Nucleic Acids Research</td>\n",
       "      <td>20</td>\n",
       "      <td>21</td>\n",
       "      <td>21</td>\n",
       "      <td>21</td>\n",
       "    </tr>\n",
       "    <tr>\n",
       "      <th>835</th>\n",
       "      <td>Proceedings of the National Academy of Sciences</td>\n",
       "      <td>19</td>\n",
       "      <td>19</td>\n",
       "      <td>19</td>\n",
       "      <td>19</td>\n",
       "    </tr>\n",
       "  </tbody>\n",
       "</table>\n",
       "</div>"
      ],
      "text/plain": [
       "                                             Journal  PMID  Publisher  Title  \\\n",
       "792                                         PLoS One    91         92     92   \n",
       "791                                         PLoS ONE    62         62     62   \n",
       "527                  Journal of Biological Chemistry    47         48     48   \n",
       "753                           Nucleic Acids Research    20         21     21   \n",
       "835  Proceedings of the National Academy of Sciences    19         19     19   \n",
       "\n",
       "     Cost  \n",
       "792    92  \n",
       "791    62  \n",
       "527    48  \n",
       "753    21  \n",
       "835    19  "
      ]
     },
     "execution_count": 103,
     "metadata": {},
     "output_type": "execute_result"
    }
   ],
   "source": [
    "byJournal.sort_values('Title',ascending=False).head(5)"
   ]
  },
  {
   "cell_type": "markdown",
   "metadata": {},
   "source": [
    "Obviously our top two Journals are the same thing.  Let's shift everything to lower case and get them to combine."
   ]
  },
  {
   "cell_type": "code",
   "execution_count": 111,
   "metadata": {},
   "outputs": [],
   "source": [
    "WELL_C['Journal']= WELL_C['Journal'].str.lower()"
   ]
  },
  {
   "cell_type": "code",
   "execution_count": 112,
   "metadata": {},
   "outputs": [],
   "source": [
    "byJournal = WELL_C.groupby(['Journal']).agg('count').reset_index()"
   ]
  },
  {
   "cell_type": "code",
   "execution_count": 113,
   "metadata": {},
   "outputs": [
    {
     "data": {
      "text/html": [
       "<div>\n",
       "<style scoped>\n",
       "    .dataframe tbody tr th:only-of-type {\n",
       "        vertical-align: middle;\n",
       "    }\n",
       "\n",
       "    .dataframe tbody tr th {\n",
       "        vertical-align: top;\n",
       "    }\n",
       "\n",
       "    .dataframe thead th {\n",
       "        text-align: right;\n",
       "    }\n",
       "</style>\n",
       "<table border=\"1\" class=\"dataframe\">\n",
       "  <thead>\n",
       "    <tr style=\"text-align: right;\">\n",
       "      <th></th>\n",
       "      <th>Journal</th>\n",
       "      <th>PMID</th>\n",
       "      <th>Publisher</th>\n",
       "      <th>Title</th>\n",
       "      <th>Cost</th>\n",
       "    </tr>\n",
       "  </thead>\n",
       "  <tbody>\n",
       "    <tr>\n",
       "      <th>772</th>\n",
       "      <td>plos one</td>\n",
       "      <td>188</td>\n",
       "      <td>190</td>\n",
       "      <td>190</td>\n",
       "      <td>190</td>\n",
       "    </tr>\n",
       "    <tr>\n",
       "      <th>510</th>\n",
       "      <td>journal of biological chemistry</td>\n",
       "      <td>52</td>\n",
       "      <td>53</td>\n",
       "      <td>53</td>\n",
       "      <td>53</td>\n",
       "    </tr>\n",
       "    <tr>\n",
       "      <th>700</th>\n",
       "      <td>neuroimage</td>\n",
       "      <td>28</td>\n",
       "      <td>29</td>\n",
       "      <td>29</td>\n",
       "      <td>29</td>\n",
       "    </tr>\n",
       "    <tr>\n",
       "      <th>766</th>\n",
       "      <td>plos genetics</td>\n",
       "      <td>23</td>\n",
       "      <td>24</td>\n",
       "      <td>24</td>\n",
       "      <td>24</td>\n",
       "    </tr>\n",
       "    <tr>\n",
       "      <th>773</th>\n",
       "      <td>plos pathogens</td>\n",
       "      <td>24</td>\n",
       "      <td>24</td>\n",
       "      <td>24</td>\n",
       "      <td>18</td>\n",
       "    </tr>\n",
       "  </tbody>\n",
       "</table>\n",
       "</div>"
      ],
      "text/plain": [
       "                             Journal  PMID  Publisher  Title  Cost\n",
       "772                         plos one   188        190    190   190\n",
       "510  journal of biological chemistry    52         53     53    53\n",
       "700                       neuroimage    28         29     29    29\n",
       "766                    plos genetics    23         24     24    24\n",
       "773                   plos pathogens    24         24     24    18"
      ]
     },
     "execution_count": 113,
     "metadata": {},
     "output_type": "execute_result"
    }
   ],
   "source": [
    "byJournal.sort_values('Title',ascending=False).head()\n"
   ]
  },
  {
   "cell_type": "markdown",
   "metadata": {},
   "source": [
    "Note at this point that there are several Journal titles with a title containing \"plos\". Presumably they are the same journal?\n",
    "\n",
    "NOTE:  Somewhere in this data, the Publisher column seemingly isn't a string. I should check for why not."
   ]
  },
  {
   "cell_type": "code",
   "execution_count": 114,
   "metadata": {},
   "outputs": [],
   "source": [
    "WELL_C.loc[WELL_C['Journal'].astype(str).str.contains(\"plos \"),'Journal']='plos'"
   ]
  },
  {
   "cell_type": "code",
   "execution_count": 115,
   "metadata": {},
   "outputs": [],
   "source": [
    "byJournal = WELL_C.groupby(['Journal']).agg('count').reset_index()"
   ]
  },
  {
   "cell_type": "code",
   "execution_count": 116,
   "metadata": {},
   "outputs": [
    {
     "data": {
      "text/html": [
       "<div>\n",
       "<style scoped>\n",
       "    .dataframe tbody tr th:only-of-type {\n",
       "        vertical-align: middle;\n",
       "    }\n",
       "\n",
       "    .dataframe tbody tr th {\n",
       "        vertical-align: top;\n",
       "    }\n",
       "\n",
       "    .dataframe thead th {\n",
       "        text-align: right;\n",
       "    }\n",
       "</style>\n",
       "<table border=\"1\" class=\"dataframe\">\n",
       "  <thead>\n",
       "    <tr style=\"text-align: right;\">\n",
       "      <th></th>\n",
       "      <th>Journal</th>\n",
       "      <th>PMID</th>\n",
       "      <th>Publisher</th>\n",
       "      <th>Title</th>\n",
       "      <th>Cost</th>\n",
       "    </tr>\n",
       "  </thead>\n",
       "  <tbody>\n",
       "    <tr>\n",
       "      <th>760</th>\n",
       "      <td>plos</td>\n",
       "      <td>276</td>\n",
       "      <td>289</td>\n",
       "      <td>289</td>\n",
       "      <td>283</td>\n",
       "    </tr>\n",
       "    <tr>\n",
       "      <th>510</th>\n",
       "      <td>journal of biological chemistry</td>\n",
       "      <td>52</td>\n",
       "      <td>53</td>\n",
       "      <td>53</td>\n",
       "      <td>53</td>\n",
       "    </tr>\n",
       "    <tr>\n",
       "      <th>700</th>\n",
       "      <td>neuroimage</td>\n",
       "      <td>28</td>\n",
       "      <td>29</td>\n",
       "      <td>29</td>\n",
       "      <td>29</td>\n",
       "    </tr>\n",
       "    <tr>\n",
       "      <th>725</th>\n",
       "      <td>nucleic acids research</td>\n",
       "      <td>22</td>\n",
       "      <td>23</td>\n",
       "      <td>23</td>\n",
       "      <td>23</td>\n",
       "    </tr>\n",
       "    <tr>\n",
       "      <th>775</th>\n",
       "      <td>proceedings of the national academy of sciences</td>\n",
       "      <td>20</td>\n",
       "      <td>20</td>\n",
       "      <td>20</td>\n",
       "      <td>20</td>\n",
       "    </tr>\n",
       "  </tbody>\n",
       "</table>\n",
       "</div>"
      ],
      "text/plain": [
       "                                             Journal  PMID  Publisher  Title  \\\n",
       "760                                             plos   276        289    289   \n",
       "510                  journal of biological chemistry    52         53     53   \n",
       "700                                       neuroimage    28         29     29   \n",
       "725                           nucleic acids research    22         23     23   \n",
       "775  proceedings of the national academy of sciences    20         20     20   \n",
       "\n",
       "     Cost  \n",
       "760   283  \n",
       "510    53  \n",
       "700    29  \n",
       "725    23  \n",
       "775    20  "
      ]
     },
     "execution_count": 116,
     "metadata": {},
     "output_type": "execute_result"
    }
   ],
   "source": [
    "byJournal.sort_values('Title',ascending=False).head()"
   ]
  },
  {
   "cell_type": "markdown",
   "metadata": {},
   "source": [
    "Let's go back to finding the Journals whose 'Journal' isn't a string."
   ]
  },
  {
   "cell_type": "code",
   "execution_count": 117,
   "metadata": {},
   "outputs": [
    {
     "data": {
      "text/html": [
       "<div>\n",
       "<style scoped>\n",
       "    .dataframe tbody tr th:only-of-type {\n",
       "        vertical-align: middle;\n",
       "    }\n",
       "\n",
       "    .dataframe tbody tr th {\n",
       "        vertical-align: top;\n",
       "    }\n",
       "\n",
       "    .dataframe thead th {\n",
       "        text-align: right;\n",
       "    }\n",
       "</style>\n",
       "<table border=\"1\" class=\"dataframe\">\n",
       "  <thead>\n",
       "    <tr style=\"text-align: right;\">\n",
       "      <th></th>\n",
       "      <th>PMID</th>\n",
       "      <th>Publisher</th>\n",
       "      <th>Journal</th>\n",
       "      <th>Title</th>\n",
       "      <th>Cost</th>\n",
       "    </tr>\n",
       "  </thead>\n",
       "  <tbody>\n",
       "    <tr>\n",
       "      <th>986</th>\n",
       "      <td>NaN</td>\n",
       "      <td>MacMillan</td>\n",
       "      <td>NaN</td>\n",
       "      <td>Fungal Disease in Britain and the United State...</td>\n",
       "      <td>17292.0</td>\n",
       "    </tr>\n",
       "  </tbody>\n",
       "</table>\n",
       "</div>"
      ],
      "text/plain": [
       "    PMID  Publisher Journal  \\\n",
       "986  NaN  MacMillan     NaN   \n",
       "\n",
       "                                                 Title     Cost  \n",
       "986  Fungal Disease in Britain and the United State...  17292.0  "
      ]
     },
     "execution_count": 117,
     "metadata": {},
     "output_type": "execute_result"
    }
   ],
   "source": [
    "WELL_C.loc[WELL_C['Journal'].isnull()]"
   ]
  },
  {
   "cell_type": "code",
   "execution_count": 118,
   "metadata": {},
   "outputs": [],
   "source": [
    "WELL_C.loc[WELL_C['Journal'].isnull(),'Journal']='Anonymous Fungal Disease Journal'"
   ]
  },
  {
   "cell_type": "markdown",
   "metadata": {},
   "source": [
    "There are several Journals containing the word \"national academy\".  Let's gather those together."
   ]
  },
  {
   "cell_type": "code",
   "execution_count": 119,
   "metadata": {},
   "outputs": [],
   "source": [
    "WELL_C.loc[WELL_C['Journal'].str.contains(\"national academy\"),'Journal']=\"PNAS\""
   ]
  },
  {
   "cell_type": "code",
   "execution_count": 120,
   "metadata": {},
   "outputs": [],
   "source": [
    "byJournal = WELL_C.groupby(['Journal']).agg('count').reset_index()"
   ]
  },
  {
   "cell_type": "code",
   "execution_count": 121,
   "metadata": {},
   "outputs": [
    {
     "data": {
      "text/html": [
       "<div>\n",
       "<style scoped>\n",
       "    .dataframe tbody tr th:only-of-type {\n",
       "        vertical-align: middle;\n",
       "    }\n",
       "\n",
       "    .dataframe tbody tr th {\n",
       "        vertical-align: top;\n",
       "    }\n",
       "\n",
       "    .dataframe thead th {\n",
       "        text-align: right;\n",
       "    }\n",
       "</style>\n",
       "<table border=\"1\" class=\"dataframe\">\n",
       "  <thead>\n",
       "    <tr style=\"text-align: right;\">\n",
       "      <th></th>\n",
       "      <th>Journal</th>\n",
       "      <th>PMID</th>\n",
       "      <th>Publisher</th>\n",
       "      <th>Title</th>\n",
       "      <th>Cost</th>\n",
       "    </tr>\n",
       "  </thead>\n",
       "  <tbody>\n",
       "    <tr>\n",
       "      <th>761</th>\n",
       "      <td>plos</td>\n",
       "      <td>276</td>\n",
       "      <td>289</td>\n",
       "      <td>289</td>\n",
       "      <td>283</td>\n",
       "    </tr>\n",
       "    <tr>\n",
       "      <th>512</th>\n",
       "      <td>journal of biological chemistry</td>\n",
       "      <td>52</td>\n",
       "      <td>53</td>\n",
       "      <td>53</td>\n",
       "      <td>53</td>\n",
       "    </tr>\n",
       "    <tr>\n",
       "      <th>1</th>\n",
       "      <td>PNAS</td>\n",
       "      <td>32</td>\n",
       "      <td>32</td>\n",
       "      <td>32</td>\n",
       "      <td>32</td>\n",
       "    </tr>\n",
       "    <tr>\n",
       "      <th>701</th>\n",
       "      <td>neuroimage</td>\n",
       "      <td>28</td>\n",
       "      <td>29</td>\n",
       "      <td>29</td>\n",
       "      <td>29</td>\n",
       "    </tr>\n",
       "    <tr>\n",
       "      <th>726</th>\n",
       "      <td>nucleic acids research</td>\n",
       "      <td>22</td>\n",
       "      <td>23</td>\n",
       "      <td>23</td>\n",
       "      <td>23</td>\n",
       "    </tr>\n",
       "  </tbody>\n",
       "</table>\n",
       "</div>"
      ],
      "text/plain": [
       "                             Journal  PMID  Publisher  Title  Cost\n",
       "761                             plos   276        289    289   283\n",
       "512  journal of biological chemistry    52         53     53    53\n",
       "1                               PNAS    32         32     32    32\n",
       "701                       neuroimage    28         29     29    29\n",
       "726           nucleic acids research    22         23     23    23"
      ]
     },
     "execution_count": 121,
     "metadata": {},
     "output_type": "execute_result"
    }
   ],
   "source": [
    "byJournal.sort_values('Title',ascending=False).head(5)"
   ]
  },
  {
   "cell_type": "code",
   "execution_count": 129,
   "metadata": {},
   "outputs": [],
   "source": [
    "topFive = byJournal.sort_values('Title',ascending=False)['Journal'].head(5)"
   ]
  },
  {
   "cell_type": "markdown",
   "metadata": {},
   "source": [
    "At this point I'm going to assume that these will still be the top 5 even if other entries are merged.  So at this point I'm going to perform the statistical calculations asked for in the assignment. \n",
    "\n",
    "Obviously 999999 is being used as a NaN marker."
   ]
  },
  {
   "cell_type": "code",
   "execution_count": 122,
   "metadata": {},
   "outputs": [
    {
     "data": {
      "text/plain": [
       "1563    1309998.69\n",
       "669     1309998.69\n",
       "560     1309998.69\n",
       "1565    1309998.69\n",
       "1675    1309998.69\n",
       "Name: Cost, dtype: float64"
      ]
     },
     "execution_count": 122,
     "metadata": {},
     "output_type": "execute_result"
    }
   ],
   "source": [
    "WELL_C['Cost'].sort_values( ascending=False).head()"
   ]
  },
  {
   "cell_type": "code",
   "execution_count": 123,
   "metadata": {},
   "outputs": [],
   "source": [
    "WELL_C['Cost']=WELL_C['Cost'].apply(lambda x: np.nan if x >100000 else x)"
   ]
  },
  {
   "cell_type": "code",
   "execution_count": 124,
   "metadata": {},
   "outputs": [
    {
     "data": {
      "text/plain": [
       "986     17292.0\n",
       "1619     7860.0\n",
       "800      7545.6\n",
       "648      6288.0\n",
       "552      6288.0\n",
       "Name: Cost, dtype: float64"
      ]
     },
     "execution_count": 124,
     "metadata": {},
     "output_type": "execute_result"
    }
   ],
   "source": [
    "WELL_C['Cost'].sort_values( ascending=False).head()"
   ]
  },
  {
   "cell_type": "code",
   "execution_count": 130,
   "metadata": {},
   "outputs": [
    {
     "data": {
      "text/plain": [
       "761    1454.369909\n",
       "512    1864.900885\n",
       "1      1127.834675\n",
       "701    2901.870441\n",
       "726    1531.674783\n",
       "Name: Journal, dtype: float64"
      ]
     },
     "execution_count": 130,
     "metadata": {},
     "output_type": "execute_result"
    }
   ],
   "source": [
    "topFive.apply(lambda x: WELL_C.loc[WELL_C['Journal']==x,'Cost'].mean())"
   ]
  },
  {
   "cell_type": "code",
   "execution_count": 134,
   "metadata": {},
   "outputs": [
    {
     "data": {
      "text/plain": [
       "761    459.520635\n",
       "512    539.660212\n",
       "1      651.342389\n",
       "701    349.316670\n",
       "726    595.171477\n",
       "Name: Journal, dtype: float64"
      ]
     },
     "execution_count": 134,
     "metadata": {},
     "output_type": "execute_result"
    }
   ],
   "source": [
    "topFive.apply(lambda x: WELL_C.loc[WELL_C['Journal']==x,'Cost'].std())"
   ]
  },
  {
   "cell_type": "code",
   "execution_count": 132,
   "metadata": {},
   "outputs": [
    {
     "data": {
      "text/plain": [
       "761    1332.09315\n",
       "512    1704.49340\n",
       "1       998.65230\n",
       "701    3047.62330\n",
       "726    1116.12000\n",
       "Name: Journal, dtype: float64"
      ]
     },
     "execution_count": 132,
     "metadata": {},
     "output_type": "execute_result"
    }
   ],
   "source": [
    "topFive.apply(lambda x: WELL_C.loc[WELL_C['Journal']==x,'Cost'].median())"
   ]
  },
  {
   "cell_type": "markdown",
   "metadata": {},
   "source": [
    "## Challenge Bonus\n",
    "Find the open access prices paid by subject area.\n",
    "Question here might be how to define subject area.  One easy method would be to \"define\" a subject area with a Series of terms where if ANY of those strings are in the title of an article then the article is within that subject area.  \n",
    " \n",
    "As an example: A subject area might be defined by ['infection', 'infectious', 'disease', 'disease', 'illness']\n",
    "\n",
    "Second example: ['diabetes', 'diabetic', 'insulin', 'Basal', 'glucose level', 'DKA', 'Glucagon']\n"
   ]
  },
  {
   "cell_type": "code",
   "execution_count": 145,
   "metadata": {},
   "outputs": [],
   "source": [
    "InfectiousDisease = pd.Series(['infection', 'infectious', 'disease', 'disease', 'illness'])"
   ]
  },
  {
   "cell_type": "code",
   "execution_count": 156,
   "metadata": {},
   "outputs": [],
   "source": [
    "Diabetes = pd.Series(['diabetes', 'diabetic', 'insulin', 'Basal', 'glucose level', 'DKA', 'Glucagon'])"
   ]
  },
  {
   "cell_type": "code",
   "execution_count": 157,
   "metadata": {},
   "outputs": [
    {
     "data": {
      "text/html": [
       "<div>\n",
       "<style scoped>\n",
       "    .dataframe tbody tr th:only-of-type {\n",
       "        vertical-align: middle;\n",
       "    }\n",
       "\n",
       "    .dataframe tbody tr th {\n",
       "        vertical-align: top;\n",
       "    }\n",
       "\n",
       "    .dataframe thead th {\n",
       "        text-align: right;\n",
       "    }\n",
       "</style>\n",
       "<table border=\"1\" class=\"dataframe\">\n",
       "  <thead>\n",
       "    <tr style=\"text-align: right;\">\n",
       "      <th></th>\n",
       "      <th>0</th>\n",
       "      <th>1</th>\n",
       "      <th>2</th>\n",
       "      <th>3</th>\n",
       "      <th>4</th>\n",
       "      <th>5</th>\n",
       "      <th>6</th>\n",
       "      <th>7</th>\n",
       "      <th>8</th>\n",
       "      <th>9</th>\n",
       "      <th>...</th>\n",
       "      <th>2117</th>\n",
       "      <th>2118</th>\n",
       "      <th>2119</th>\n",
       "      <th>2120</th>\n",
       "      <th>2121</th>\n",
       "      <th>2122</th>\n",
       "      <th>2123</th>\n",
       "      <th>2124</th>\n",
       "      <th>2125</th>\n",
       "      <th>2126</th>\n",
       "    </tr>\n",
       "  </thead>\n",
       "  <tbody>\n",
       "    <tr>\n",
       "      <th>0</th>\n",
       "      <td>False</td>\n",
       "      <td>False</td>\n",
       "      <td>False</td>\n",
       "      <td>False</td>\n",
       "      <td>False</td>\n",
       "      <td>False</td>\n",
       "      <td>False</td>\n",
       "      <td>False</td>\n",
       "      <td>False</td>\n",
       "      <td>False</td>\n",
       "      <td>...</td>\n",
       "      <td>False</td>\n",
       "      <td>False</td>\n",
       "      <td>False</td>\n",
       "      <td>False</td>\n",
       "      <td>False</td>\n",
       "      <td>False</td>\n",
       "      <td>True</td>\n",
       "      <td>True</td>\n",
       "      <td>False</td>\n",
       "      <td>False</td>\n",
       "    </tr>\n",
       "    <tr>\n",
       "      <th>1</th>\n",
       "      <td>False</td>\n",
       "      <td>False</td>\n",
       "      <td>False</td>\n",
       "      <td>False</td>\n",
       "      <td>False</td>\n",
       "      <td>False</td>\n",
       "      <td>False</td>\n",
       "      <td>False</td>\n",
       "      <td>False</td>\n",
       "      <td>False</td>\n",
       "      <td>...</td>\n",
       "      <td>False</td>\n",
       "      <td>False</td>\n",
       "      <td>False</td>\n",
       "      <td>False</td>\n",
       "      <td>False</td>\n",
       "      <td>False</td>\n",
       "      <td>False</td>\n",
       "      <td>False</td>\n",
       "      <td>False</td>\n",
       "      <td>False</td>\n",
       "    </tr>\n",
       "    <tr>\n",
       "      <th>2</th>\n",
       "      <td>False</td>\n",
       "      <td>False</td>\n",
       "      <td>False</td>\n",
       "      <td>False</td>\n",
       "      <td>False</td>\n",
       "      <td>False</td>\n",
       "      <td>False</td>\n",
       "      <td>False</td>\n",
       "      <td>False</td>\n",
       "      <td>False</td>\n",
       "      <td>...</td>\n",
       "      <td>False</td>\n",
       "      <td>False</td>\n",
       "      <td>False</td>\n",
       "      <td>False</td>\n",
       "      <td>False</td>\n",
       "      <td>False</td>\n",
       "      <td>False</td>\n",
       "      <td>False</td>\n",
       "      <td>False</td>\n",
       "      <td>False</td>\n",
       "    </tr>\n",
       "    <tr>\n",
       "      <th>3</th>\n",
       "      <td>False</td>\n",
       "      <td>False</td>\n",
       "      <td>False</td>\n",
       "      <td>False</td>\n",
       "      <td>False</td>\n",
       "      <td>False</td>\n",
       "      <td>False</td>\n",
       "      <td>False</td>\n",
       "      <td>False</td>\n",
       "      <td>False</td>\n",
       "      <td>...</td>\n",
       "      <td>False</td>\n",
       "      <td>False</td>\n",
       "      <td>False</td>\n",
       "      <td>False</td>\n",
       "      <td>False</td>\n",
       "      <td>False</td>\n",
       "      <td>False</td>\n",
       "      <td>False</td>\n",
       "      <td>False</td>\n",
       "      <td>False</td>\n",
       "    </tr>\n",
       "    <tr>\n",
       "      <th>4</th>\n",
       "      <td>False</td>\n",
       "      <td>False</td>\n",
       "      <td>False</td>\n",
       "      <td>False</td>\n",
       "      <td>False</td>\n",
       "      <td>False</td>\n",
       "      <td>False</td>\n",
       "      <td>False</td>\n",
       "      <td>False</td>\n",
       "      <td>False</td>\n",
       "      <td>...</td>\n",
       "      <td>False</td>\n",
       "      <td>False</td>\n",
       "      <td>False</td>\n",
       "      <td>False</td>\n",
       "      <td>False</td>\n",
       "      <td>False</td>\n",
       "      <td>False</td>\n",
       "      <td>False</td>\n",
       "      <td>False</td>\n",
       "      <td>False</td>\n",
       "    </tr>\n",
       "  </tbody>\n",
       "</table>\n",
       "<p>5 rows × 2127 columns</p>\n",
       "</div>"
      ],
      "text/plain": [
       "    0      1      2      3      4      5      6      7      8      9     \\\n",
       "0  False  False  False  False  False  False  False  False  False  False   \n",
       "1  False  False  False  False  False  False  False  False  False  False   \n",
       "2  False  False  False  False  False  False  False  False  False  False   \n",
       "3  False  False  False  False  False  False  False  False  False  False   \n",
       "4  False  False  False  False  False  False  False  False  False  False   \n",
       "\n",
       "   ...     2117   2118   2119   2120   2121   2122   2123   2124   2125   2126  \n",
       "0  ...    False  False  False  False  False  False   True   True  False  False  \n",
       "1  ...    False  False  False  False  False  False  False  False  False  False  \n",
       "2  ...    False  False  False  False  False  False  False  False  False  False  \n",
       "3  ...    False  False  False  False  False  False  False  False  False  False  \n",
       "4  ...    False  False  False  False  False  False  False  False  False  False  \n",
       "\n",
       "[5 rows x 2127 columns]"
      ]
     },
     "execution_count": 157,
     "metadata": {},
     "output_type": "execute_result"
    }
   ],
   "source": [
    "InfectiousDisease.apply(lambda x: WELL_C['Title'].str.contains(x))"
   ]
  },
  {
   "cell_type": "code",
   "execution_count": 158,
   "metadata": {},
   "outputs": [
    {
     "data": {
      "text/html": [
       "<div>\n",
       "<style scoped>\n",
       "    .dataframe tbody tr th:only-of-type {\n",
       "        vertical-align: middle;\n",
       "    }\n",
       "\n",
       "    .dataframe tbody tr th {\n",
       "        vertical-align: top;\n",
       "    }\n",
       "\n",
       "    .dataframe thead th {\n",
       "        text-align: right;\n",
       "    }\n",
       "</style>\n",
       "<table border=\"1\" class=\"dataframe\">\n",
       "  <thead>\n",
       "    <tr style=\"text-align: right;\">\n",
       "      <th></th>\n",
       "      <th>PMID</th>\n",
       "      <th>Publisher</th>\n",
       "      <th>Journal</th>\n",
       "      <th>Title</th>\n",
       "      <th>Cost</th>\n",
       "    </tr>\n",
       "  </thead>\n",
       "  <tbody>\n",
       "    <tr>\n",
       "      <th>102</th>\n",
       "      <td>NaN</td>\n",
       "      <td>American Society of Haematology</td>\n",
       "      <td>blood</td>\n",
       "      <td>SAP gene transfer restores cellular and humora...</td>\n",
       "      <td>1650.9406</td>\n",
       "    </tr>\n",
       "    <tr>\n",
       "      <th>176</th>\n",
       "      <td>22738332 PMC3381227</td>\n",
       "      <td>BioMed Central</td>\n",
       "      <td>biomed central</td>\n",
       "      <td>Long-term impact of systemic bacterial infecti...</td>\n",
       "      <td>1768.5000</td>\n",
       "    </tr>\n",
       "    <tr>\n",
       "      <th>186</th>\n",
       "      <td>PMC3616814</td>\n",
       "      <td>BioMed Central</td>\n",
       "      <td>bmc medicine</td>\n",
       "      <td>Associations between selected immune-mediated ...</td>\n",
       "      <td>2271.5400</td>\n",
       "    </tr>\n",
       "    <tr>\n",
       "      <th>224</th>\n",
       "      <td>PMCID:\\n    PMC3726453\\n\\n</td>\n",
       "      <td>BioMed Central</td>\n",
       "      <td>respiratory research</td>\n",
       "      <td>Neutrophil adhesion molecules in experimental ...</td>\n",
       "      <td>2491.6200</td>\n",
       "    </tr>\n",
       "    <tr>\n",
       "      <th>225</th>\n",
       "      <td>PMC3190389</td>\n",
       "      <td>BioMed Central</td>\n",
       "      <td>virology journal</td>\n",
       "      <td>Label-free quantitative proteomics reveals reg...</td>\n",
       "      <td>1627.0200</td>\n",
       "    </tr>\n",
       "    <tr>\n",
       "      <th>226</th>\n",
       "      <td>3681581</td>\n",
       "      <td>BioMed Central</td>\n",
       "      <td>bmc genomics</td>\n",
       "      <td>Transcriptional adaptation of pneumococci and ...</td>\n",
       "      <td>797.1612</td>\n",
       "    </tr>\n",
       "    <tr>\n",
       "      <th>243</th>\n",
       "      <td>PMC3716626</td>\n",
       "      <td>BioMed Central Ltd</td>\n",
       "      <td>veterinary research</td>\n",
       "      <td>Understanding foot-and-mouth disease virus tra...</td>\n",
       "      <td>13.0083</td>\n",
       "    </tr>\n",
       "    <tr>\n",
       "      <th>257</th>\n",
       "      <td>In Process</td>\n",
       "      <td>BMC</td>\n",
       "      <td>bmc medicine</td>\n",
       "      <td>HIV-associated tuberculosis: relationship betw...</td>\n",
       "      <td>2102.9430</td>\n",
       "    </tr>\n",
       "    <tr>\n",
       "      <th>280</th>\n",
       "      <td>NaN</td>\n",
       "      <td>BMJ</td>\n",
       "      <td>bmj</td>\n",
       "      <td>Completeness and diagnostic validity of record...</td>\n",
       "      <td>4716.0000</td>\n",
       "    </tr>\n",
       "    <tr>\n",
       "      <th>289</th>\n",
       "      <td>PMC3724198</td>\n",
       "      <td>BMJ</td>\n",
       "      <td>frontline gastroenterology</td>\n",
       "      <td>Measurement of faecal calprotectin and lactofe...</td>\n",
       "      <td>943.2000</td>\n",
       "    </tr>\n",
       "    <tr>\n",
       "      <th>297</th>\n",
       "      <td>NaN</td>\n",
       "      <td>BMJ</td>\n",
       "      <td>journal of neurology, neurosurgery &amp; psychiatry</td>\n",
       "      <td>A clinical and family history study of Parkins...</td>\n",
       "      <td>2672.4000</td>\n",
       "    </tr>\n",
       "    <tr>\n",
       "      <th>298</th>\n",
       "      <td>PMC3646288</td>\n",
       "      <td>BMJ</td>\n",
       "      <td>journal of neurology, neurosurgery &amp; psychiatry</td>\n",
       "      <td>The Val158Met COMT polymorphism is a modifier ...</td>\n",
       "      <td>2672.4000</td>\n",
       "    </tr>\n",
       "    <tr>\n",
       "      <th>301</th>\n",
       "      <td>PMC3586185</td>\n",
       "      <td>BMJ</td>\n",
       "      <td>bmj</td>\n",
       "      <td>Estimating the relative contribution of parasi...</td>\n",
       "      <td>1965.0000</td>\n",
       "    </tr>\n",
       "    <tr>\n",
       "      <th>311</th>\n",
       "      <td>Epub ahead of print pub Feb 2013, print in press</td>\n",
       "      <td>BMJ Group</td>\n",
       "      <td>heart</td>\n",
       "      <td>South Asians and coronary disease: Is there di...</td>\n",
       "      <td>2672.4000</td>\n",
       "    </tr>\n",
       "    <tr>\n",
       "      <th>317</th>\n",
       "      <td>PMCID:\\n    PMC3534261\\n</td>\n",
       "      <td>BMJ group</td>\n",
       "      <td>thorax</td>\n",
       "      <td>IL-25 drives remodeling in allergic airways di...</td>\n",
       "      <td>2672.4000</td>\n",
       "    </tr>\n",
       "    <tr>\n",
       "      <th>325</th>\n",
       "      <td>PMCID: PMC3646287</td>\n",
       "      <td>BMJ Publishing Group</td>\n",
       "      <td>journal of neurology, neurosurgery and psychiatry</td>\n",
       "      <td>The long-term safety and efficacy of bilateral...</td>\n",
       "      <td>2672.4000</td>\n",
       "    </tr>\n",
       "    <tr>\n",
       "      <th>328</th>\n",
       "      <td>PMC3786614</td>\n",
       "      <td>BMJ Publishing Group</td>\n",
       "      <td>veterinary record</td>\n",
       "      <td>Proactive dairy cattle disease control in the ...</td>\n",
       "      <td>2672.4000</td>\n",
       "    </tr>\n",
       "    <tr>\n",
       "      <th>344</th>\n",
       "      <td>PMC 3421817</td>\n",
       "      <td>Cadmus Journal Services</td>\n",
       "      <td>j clin microbiol</td>\n",
       "      <td>Resolution of a meningococcal disease outbreak...</td>\n",
       "      <td>1638.3646</td>\n",
       "    </tr>\n",
       "    <tr>\n",
       "      <th>346</th>\n",
       "      <td>PMC3697714</td>\n",
       "      <td>Cadmus Journal Services</td>\n",
       "      <td>journal of clinical microbiology</td>\n",
       "      <td>Development and evaluation of a next-generatio...</td>\n",
       "      <td>1689.0092</td>\n",
       "    </tr>\n",
       "    <tr>\n",
       "      <th>356</th>\n",
       "      <td>PMC 3487483</td>\n",
       "      <td>Cambridge University Press</td>\n",
       "      <td>epidemiology and infection</td>\n",
       "      <td>Molecular epidemiology of human campylobacter ...</td>\n",
       "      <td>2358.0000</td>\n",
       "    </tr>\n",
       "    <tr>\n",
       "      <th>358</th>\n",
       "      <td>PMC3219211</td>\n",
       "      <td>Cambridge University Press</td>\n",
       "      <td>expert reviews in molecular medicine</td>\n",
       "      <td>Pharmacological targets in the ubiquitin syste...</td>\n",
       "      <td>NaN</td>\n",
       "    </tr>\n",
       "    <tr>\n",
       "      <th>364</th>\n",
       "      <td>PMC3021922</td>\n",
       "      <td>Cambridge University Press</td>\n",
       "      <td>parasitology</td>\n",
       "      <td>Acquired immune heterogeneity and its sources ...</td>\n",
       "      <td>2358.0000</td>\n",
       "    </tr>\n",
       "    <tr>\n",
       "      <th>378</th>\n",
       "      <td>PMC3503237</td>\n",
       "      <td>COACTION</td>\n",
       "      <td>journal of the international aids society</td>\n",
       "      <td>Quantifying losses from the care pathway for p...</td>\n",
       "      <td>1795.5253</td>\n",
       "    </tr>\n",
       "    <tr>\n",
       "      <th>414</th>\n",
       "      <td>PMC3733066</td>\n",
       "      <td>CUP</td>\n",
       "      <td>public health nutrition</td>\n",
       "      <td>Maternal HIV infection and other factors assoc...</td>\n",
       "      <td>2664.5400</td>\n",
       "    </tr>\n",
       "    <tr>\n",
       "      <th>465</th>\n",
       "      <td>PMID: 23085491  PMC3714738</td>\n",
       "      <td>Elsevier</td>\n",
       "      <td>biochimica et bioohysica acta - molecular basi...</td>\n",
       "      <td>The hereditary spastic paraplegia protein stru...</td>\n",
       "      <td>3022.4713</td>\n",
       "    </tr>\n",
       "    <tr>\n",
       "      <th>467</th>\n",
       "      <td>NaN</td>\n",
       "      <td>Elsevier</td>\n",
       "      <td>biochimica et biophysica acta (bba) - molecula...</td>\n",
       "      <td>Mitophagy and Parkinson's disease: the PINK1-p...</td>\n",
       "      <td>3164.1347</td>\n",
       "    </tr>\n",
       "    <tr>\n",
       "      <th>487</th>\n",
       "      <td>PMCID:\\n    PMC3732391</td>\n",
       "      <td>Elsevier</td>\n",
       "      <td>cell</td>\n",
       "      <td>Genome sequencing reveals loci under artificia...</td>\n",
       "      <td>1789.5648</td>\n",
       "    </tr>\n",
       "    <tr>\n",
       "      <th>504</th>\n",
       "      <td>PMC3694302</td>\n",
       "      <td>Elsevier</td>\n",
       "      <td>clinical neurology and neurosurgery</td>\n",
       "      <td>Next generation sequencing for neurological di...</td>\n",
       "      <td>3217.1242</td>\n",
       "    </tr>\n",
       "    <tr>\n",
       "      <th>505</th>\n",
       "      <td>PMC3477630</td>\n",
       "      <td>Elsevier</td>\n",
       "      <td>clinical radiology</td>\n",
       "      <td>Chest radiographic patterns in 75 adolescents ...</td>\n",
       "      <td>2963.6130</td>\n",
       "    </tr>\n",
       "    <tr>\n",
       "      <th>550</th>\n",
       "      <td>22591621 PMC3427858</td>\n",
       "      <td>Elsevier</td>\n",
       "      <td>elsevier</td>\n",
       "      <td>Are slum dwellers at heightened risk of HIV in...</td>\n",
       "      <td>3029.1130</td>\n",
       "    </tr>\n",
       "    <tr>\n",
       "      <th>...</th>\n",
       "      <td>...</td>\n",
       "      <td>...</td>\n",
       "      <td>...</td>\n",
       "      <td>...</td>\n",
       "      <td>...</td>\n",
       "    </tr>\n",
       "    <tr>\n",
       "      <th>1694</th>\n",
       "      <td>PMCID:\\n    PMC3709561</td>\n",
       "      <td>Society for General Microbiology</td>\n",
       "      <td>microbiology</td>\n",
       "      <td>Overexpression of Escherichia coli udk mimics ...</td>\n",
       "      <td>2751.0000</td>\n",
       "    </tr>\n",
       "    <tr>\n",
       "      <th>1718</th>\n",
       "      <td>NaN</td>\n",
       "      <td>Springer</td>\n",
       "      <td>acta neuropathologica</td>\n",
       "      <td>Î±-Synucleinopathy associated with G51D SNCA m...</td>\n",
       "      <td>2468.0531</td>\n",
       "    </tr>\n",
       "    <tr>\n",
       "      <th>1757</th>\n",
       "      <td>PMID: 23644721 PMC3710569</td>\n",
       "      <td>Springer</td>\n",
       "      <td>immunogenetics</td>\n",
       "      <td>The peptide motif of the single dominantly-exp...</td>\n",
       "      <td>2897.0912</td>\n",
       "    </tr>\n",
       "    <tr>\n",
       "      <th>1768</th>\n",
       "      <td>PMCID: PMC3642358</td>\n",
       "      <td>Springer</td>\n",
       "      <td>journal of neurology</td>\n",
       "      <td>How often does music and rhythm improve patien...</td>\n",
       "      <td>2492.2226</td>\n",
       "    </tr>\n",
       "    <tr>\n",
       "      <th>1769</th>\n",
       "      <td>PMID:24150688</td>\n",
       "      <td>Springer</td>\n",
       "      <td>journal of neurology</td>\n",
       "      <td>Discrete gait characterisitcs are associated w...</td>\n",
       "      <td>2894.7856</td>\n",
       "    </tr>\n",
       "    <tr>\n",
       "      <th>1785</th>\n",
       "      <td>PMC3496546</td>\n",
       "      <td>Springer</td>\n",
       "      <td>seminars in immunopathology</td>\n",
       "      <td>Trichuris muris: a model of gastrointestinal p...</td>\n",
       "      <td>2481.9260</td>\n",
       "    </tr>\n",
       "    <tr>\n",
       "      <th>1822</th>\n",
       "      <td>23514390</td>\n",
       "      <td>Taylor &amp; Francis Journals</td>\n",
       "      <td>am j bioeth</td>\n",
       "      <td>The \"difficult patient\" conundrum in sickle ce...</td>\n",
       "      <td>2363.4889</td>\n",
       "    </tr>\n",
       "    <tr>\n",
       "      <th>1838</th>\n",
       "      <td>PMC3744072</td>\n",
       "      <td>The company of Biolgists</td>\n",
       "      <td>biology open</td>\n",
       "      <td>Analysis of the cartilage proteome from three ...</td>\n",
       "      <td>1367.6400</td>\n",
       "    </tr>\n",
       "    <tr>\n",
       "      <th>1884</th>\n",
       "      <td>PMC3638323\\n</td>\n",
       "      <td>Wiley</td>\n",
       "      <td>annals of neurology</td>\n",
       "      <td>Glucocerebrosidase deficiency in substantia ni...</td>\n",
       "      <td>2633.4144</td>\n",
       "    </tr>\n",
       "    <tr>\n",
       "      <th>1887</th>\n",
       "      <td>PMC3495297</td>\n",
       "      <td>Wiley</td>\n",
       "      <td>annals of the new york academy of sciences</td>\n",
       "      <td>What brain signals are suitable for feedback c...</td>\n",
       "      <td>3004.1837</td>\n",
       "    </tr>\n",
       "    <tr>\n",
       "      <th>1923</th>\n",
       "      <td>PMC3615169</td>\n",
       "      <td>Wiley</td>\n",
       "      <td>european journal of immunology</td>\n",
       "      <td>ICOS controls Foxp3+ regulatory T cell expansi...</td>\n",
       "      <td>2384.3179</td>\n",
       "    </tr>\n",
       "    <tr>\n",
       "      <th>1949</th>\n",
       "      <td>3272220</td>\n",
       "      <td>Wiley</td>\n",
       "      <td>human mutation</td>\n",
       "      <td>Pseudoachondroplasia and multiple epiphyseal d...</td>\n",
       "      <td>3027.3445</td>\n",
       "    </tr>\n",
       "    <tr>\n",
       "      <th>1952</th>\n",
       "      <td>PMC3532612</td>\n",
       "      <td>Wiley</td>\n",
       "      <td>inflammatory bowel diseases</td>\n",
       "      <td>Defective TNF release from Crohns disease mac...</td>\n",
       "      <td>2525.1036</td>\n",
       "    </tr>\n",
       "    <tr>\n",
       "      <th>1970</th>\n",
       "      <td>PMC3813975</td>\n",
       "      <td>Wiley</td>\n",
       "      <td>journal of the royal statistical society: seri...</td>\n",
       "      <td>A coupled hidden Markov model for disease inte...</td>\n",
       "      <td>3096.5256</td>\n",
       "    </tr>\n",
       "    <tr>\n",
       "      <th>1975</th>\n",
       "      <td>PMC3739940</td>\n",
       "      <td>Wiley</td>\n",
       "      <td>movement disorders</td>\n",
       "      <td>Somatic alpha-synuclein mutations in Parkinson...</td>\n",
       "      <td>1316.5500</td>\n",
       "    </tr>\n",
       "    <tr>\n",
       "      <th>1976</th>\n",
       "      <td>PMC3660780</td>\n",
       "      <td>Wiley</td>\n",
       "      <td>movement disorders</td>\n",
       "      <td>Is transcranial sonography useful to distingui...</td>\n",
       "      <td>1965.0000</td>\n",
       "    </tr>\n",
       "    <tr>\n",
       "      <th>1986</th>\n",
       "      <td>NaN</td>\n",
       "      <td>Wiley</td>\n",
       "      <td>movement disorders</td>\n",
       "      <td>Hyposmia and cognitive impairment in Gaucher d...</td>\n",
       "      <td>3138.5897</td>\n",
       "    </tr>\n",
       "    <tr>\n",
       "      <th>1988</th>\n",
       "      <td>PMC3739929</td>\n",
       "      <td>Wiley</td>\n",
       "      <td>movement disorders</td>\n",
       "      <td>Parkin disease and the Lewy body conundrum</td>\n",
       "      <td>1965.0000</td>\n",
       "    </tr>\n",
       "    <tr>\n",
       "      <th>1989</th>\n",
       "      <td>Pub online first July 2013</td>\n",
       "      <td>Wiley</td>\n",
       "      <td>movement disorders</td>\n",
       "      <td>Genotype and Phenotype in Parkinson's disease-...</td>\n",
       "      <td>1965.0000</td>\n",
       "    </tr>\n",
       "    <tr>\n",
       "      <th>1993</th>\n",
       "      <td>3757314</td>\n",
       "      <td>Wiley</td>\n",
       "      <td>parasite immunology</td>\n",
       "      <td>The retinoic acid producing capacity of gut de...</td>\n",
       "      <td>2530.4222</td>\n",
       "    </tr>\n",
       "    <tr>\n",
       "      <th>2009</th>\n",
       "      <td>PMC3853540</td>\n",
       "      <td>Wiley</td>\n",
       "      <td>brt jnl clinical pharmacology</td>\n",
       "      <td>The association between Parkinson's disease an...</td>\n",
       "      <td>2632.6415</td>\n",
       "    </tr>\n",
       "    <tr>\n",
       "      <th>2029</th>\n",
       "      <td>PMC3505369</td>\n",
       "      <td>Wiley Subscription Services</td>\n",
       "      <td>journal of internal medicine</td>\n",
       "      <td>Acute infection and venous thromboembolism</td>\n",
       "      <td>2454.7697</td>\n",
       "    </tr>\n",
       "    <tr>\n",
       "      <th>2043</th>\n",
       "      <td>23983183 PMC3798117</td>\n",
       "      <td>Wiley Subscription Services  Inc.</td>\n",
       "      <td>journal of medical virology</td>\n",
       "      <td>The Kinetics of the Neutralizing antibody resp...</td>\n",
       "      <td>2403.5487</td>\n",
       "    </tr>\n",
       "    <tr>\n",
       "      <th>2048</th>\n",
       "      <td>PMC3593166</td>\n",
       "      <td>Wiley Subscription Serviices Inc</td>\n",
       "      <td>stem cells</td>\n",
       "      <td>Derivation and functional analysis of patient-...</td>\n",
       "      <td>2009.1601</td>\n",
       "    </tr>\n",
       "    <tr>\n",
       "      <th>2074</th>\n",
       "      <td>PMC3569874</td>\n",
       "      <td>Wiley-Blackwell</td>\n",
       "      <td>genetic epidemiology</td>\n",
       "      <td>Genome-wide association analyis of imputed rar...</td>\n",
       "      <td>2995.6294</td>\n",
       "    </tr>\n",
       "    <tr>\n",
       "      <th>2080</th>\n",
       "      <td>PMID:23696415</td>\n",
       "      <td>Wiley-Blackwell</td>\n",
       "      <td>human mutation</td>\n",
       "      <td>Pathogenic mitochondrial tRNA point mutations:...</td>\n",
       "      <td>2602.8390</td>\n",
       "    </tr>\n",
       "    <tr>\n",
       "      <th>2092</th>\n",
       "      <td>Not yet available</td>\n",
       "      <td>Wiley-Blackwell</td>\n",
       "      <td>journal of viral hepatitis</td>\n",
       "      <td>Canine hepacivirus is not associated with chro...</td>\n",
       "      <td>3079.1419</td>\n",
       "    </tr>\n",
       "    <tr>\n",
       "      <th>2106</th>\n",
       "      <td>PMCID: PMC3600532</td>\n",
       "      <td>Wiley-Blackwell</td>\n",
       "      <td>zoonoses and public health</td>\n",
       "      <td>Ecology of zoonotic infectious diseases in bat...</td>\n",
       "      <td>2976.5165</td>\n",
       "    </tr>\n",
       "    <tr>\n",
       "      <th>2123</th>\n",
       "      <td>3748854</td>\n",
       "      <td>Wolters Kluwer Health</td>\n",
       "      <td>aids</td>\n",
       "      <td>Evaluation of an empiric risk screening score ...</td>\n",
       "      <td>2403.5487</td>\n",
       "    </tr>\n",
       "    <tr>\n",
       "      <th>2124</th>\n",
       "      <td>3785148</td>\n",
       "      <td>Wolters Kluwer Health</td>\n",
       "      <td>pediatr infect dis j</td>\n",
       "      <td>Topical umbilical cord care for prevention of ...</td>\n",
       "      <td>2403.5487</td>\n",
       "    </tr>\n",
       "  </tbody>\n",
       "</table>\n",
       "<p>135 rows × 5 columns</p>\n",
       "</div>"
      ],
      "text/plain": [
       "                                                  PMID  \\\n",
       "102                                                NaN   \n",
       "176                                22738332 PMC3381227   \n",
       "186                                         PMC3616814   \n",
       "224                         PMCID:\\n    PMC3726453\\n\\n   \n",
       "225                                         PMC3190389   \n",
       "226                                            3681581   \n",
       "243                                         PMC3716626   \n",
       "257                                         In Process   \n",
       "280                                                NaN   \n",
       "289                                         PMC3724198   \n",
       "297                                                NaN   \n",
       "298                                        PMC3646288    \n",
       "301                                         PMC3586185   \n",
       "311   Epub ahead of print pub Feb 2013, print in press   \n",
       "317                           PMCID:\\n    PMC3534261\\n   \n",
       "325                                  PMCID: PMC3646287   \n",
       "328                                         PMC3786614   \n",
       "344                                        PMC 3421817   \n",
       "346                                         PMC3697714   \n",
       "356                                        PMC 3487483   \n",
       "358                                         PMC3219211   \n",
       "364                                         PMC3021922   \n",
       "378                                         PMC3503237   \n",
       "414                                         PMC3733066   \n",
       "465                        PMID: 23085491  PMC3714738    \n",
       "467                                                NaN   \n",
       "487                             PMCID:\\n    PMC3732391   \n",
       "504                                         PMC3694302   \n",
       "505                                         PMC3477630   \n",
       "550                                22591621 PMC3427858   \n",
       "...                                                ...   \n",
       "1694                            PMCID:\\n    PMC3709561   \n",
       "1718                                               NaN   \n",
       "1757                        PMID: 23644721 PMC3710569    \n",
       "1768                                 PMCID: PMC3642358   \n",
       "1769                                     PMID:24150688   \n",
       "1785                                        PMC3496546   \n",
       "1822                                          23514390   \n",
       "1838                                        PMC3744072   \n",
       "1884                                      PMC3638323\\n   \n",
       "1887                                        PMC3495297   \n",
       "1923                                        PMC3615169   \n",
       "1949                                           3272220   \n",
       "1952                                        PMC3532612   \n",
       "1970                                       PMC3813975    \n",
       "1975                                       PMC3739940    \n",
       "1976                                        PMC3660780   \n",
       "1986                                               NaN   \n",
       "1988                                       PMC3739929    \n",
       "1989                        Pub online first July 2013   \n",
       "1993                                           3757314   \n",
       "2009                                        PMC3853540   \n",
       "2029                                        PMC3505369   \n",
       "2043                              23983183 PMC3798117    \n",
       "2048                                        PMC3593166   \n",
       "2074                                        PMC3569874   \n",
       "2080                                     PMID:23696415   \n",
       "2092                                 Not yet available   \n",
       "2106                                 PMCID: PMC3600532   \n",
       "2123                                           3748854   \n",
       "2124                                           3785148   \n",
       "\n",
       "                              Publisher  \\\n",
       "102     American Society of Haematology   \n",
       "176                      BioMed Central   \n",
       "186                      BioMed Central   \n",
       "224                      BioMed Central   \n",
       "225                      BioMed Central   \n",
       "226                     BioMed Central    \n",
       "243                  BioMed Central Ltd   \n",
       "257                                 BMC   \n",
       "280                                 BMJ   \n",
       "289                                 BMJ   \n",
       "297                                 BMJ   \n",
       "298                                 BMJ   \n",
       "301                                BMJ    \n",
       "311                           BMJ Group   \n",
       "317                           BMJ group   \n",
       "325                BMJ Publishing Group   \n",
       "328                BMJ Publishing Group   \n",
       "344             Cadmus Journal Services   \n",
       "346             Cadmus Journal Services   \n",
       "356          Cambridge University Press   \n",
       "358          Cambridge University Press   \n",
       "364          Cambridge University Press   \n",
       "378                            COACTION   \n",
       "414                                 CUP   \n",
       "465                            Elsevier   \n",
       "467                            Elsevier   \n",
       "487                            Elsevier   \n",
       "504                            Elsevier   \n",
       "505                            Elsevier   \n",
       "550                            Elsevier   \n",
       "...                                 ...   \n",
       "1694   Society for General Microbiology   \n",
       "1718                           Springer   \n",
       "1757                           Springer   \n",
       "1768                           Springer   \n",
       "1769                           Springer   \n",
       "1785                           Springer   \n",
       "1822         Taylor & Francis Journals    \n",
       "1838           The company of Biolgists   \n",
       "1884                              Wiley   \n",
       "1887                              Wiley   \n",
       "1923                              Wiley   \n",
       "1949                              Wiley   \n",
       "1952                              Wiley   \n",
       "1970                              Wiley   \n",
       "1975                              Wiley   \n",
       "1976                              Wiley   \n",
       "1986                              Wiley   \n",
       "1988                              Wiley   \n",
       "1989                              Wiley   \n",
       "1993                              Wiley   \n",
       "2009                             Wiley    \n",
       "2029        Wiley Subscription Services   \n",
       "2043  Wiley Subscription Services  Inc.   \n",
       "2048   Wiley Subscription Serviices Inc   \n",
       "2074                    Wiley-Blackwell   \n",
       "2080                    Wiley-Blackwell   \n",
       "2092                    Wiley-Blackwell   \n",
       "2106                    Wiley-Blackwell   \n",
       "2123             Wolters Kluwer Health    \n",
       "2124             Wolters Kluwer Health    \n",
       "\n",
       "                                                Journal  \\\n",
       "102                                               blood   \n",
       "176                                      biomed central   \n",
       "186                                        bmc medicine   \n",
       "224                                respiratory research   \n",
       "225                                    virology journal   \n",
       "226                                        bmc genomics   \n",
       "243                                 veterinary research   \n",
       "257                                        bmc medicine   \n",
       "280                                                 bmj   \n",
       "289                          frontline gastroenterology   \n",
       "297     journal of neurology, neurosurgery & psychiatry   \n",
       "298    journal of neurology, neurosurgery & psychiatry    \n",
       "301                                                 bmj   \n",
       "311                                               heart   \n",
       "317                                              thorax   \n",
       "325   journal of neurology, neurosurgery and psychiatry   \n",
       "328                                   veterinary record   \n",
       "344                                    j clin microbiol   \n",
       "346                    journal of clinical microbiology   \n",
       "356                          epidemiology and infection   \n",
       "358                expert reviews in molecular medicine   \n",
       "364                                        parasitology   \n",
       "378           journal of the international aids society   \n",
       "414                             public health nutrition   \n",
       "465   biochimica et bioohysica acta - molecular basi...   \n",
       "467   biochimica et biophysica acta (bba) - molecula...   \n",
       "487                                                cell   \n",
       "504                 clinical neurology and neurosurgery   \n",
       "505                                  clinical radiology   \n",
       "550                                            elsevier   \n",
       "...                                                 ...   \n",
       "1694                                       microbiology   \n",
       "1718                              acta neuropathologica   \n",
       "1757                                     immunogenetics   \n",
       "1768                               journal of neurology   \n",
       "1769                               journal of neurology   \n",
       "1785                        seminars in immunopathology   \n",
       "1822                                        am j bioeth   \n",
       "1838                                       biology open   \n",
       "1884                               annals of neurology    \n",
       "1887         annals of the new york academy of sciences   \n",
       "1923                     european journal of immunology   \n",
       "1949                                     human mutation   \n",
       "1952                        inflammatory bowel diseases   \n",
       "1970  journal of the royal statistical society: seri...   \n",
       "1975                                 movement disorders   \n",
       "1976                                 movement disorders   \n",
       "1986                                 movement disorders   \n",
       "1988                               movement disorders     \n",
       "1989                               movement disorders     \n",
       "1993                                parasite immunology   \n",
       "2009                      brt jnl clinical pharmacology   \n",
       "2029                       journal of internal medicine   \n",
       "2043                       journal of medical virology    \n",
       "2048                                         stem cells   \n",
       "2074                               genetic epidemiology   \n",
       "2080                                     human mutation   \n",
       "2092                         journal of viral hepatitis   \n",
       "2106                         zoonoses and public health   \n",
       "2123                                               aids   \n",
       "2124                               pediatr infect dis j   \n",
       "\n",
       "                                                  Title       Cost  \n",
       "102   SAP gene transfer restores cellular and humora...  1650.9406  \n",
       "176   Long-term impact of systemic bacterial infecti...  1768.5000  \n",
       "186   Associations between selected immune-mediated ...  2271.5400  \n",
       "224   Neutrophil adhesion molecules in experimental ...  2491.6200  \n",
       "225   Label-free quantitative proteomics reveals reg...  1627.0200  \n",
       "226   Transcriptional adaptation of pneumococci and ...   797.1612  \n",
       "243   Understanding foot-and-mouth disease virus tra...    13.0083  \n",
       "257   HIV-associated tuberculosis: relationship betw...  2102.9430  \n",
       "280   Completeness and diagnostic validity of record...  4716.0000  \n",
       "289   Measurement of faecal calprotectin and lactofe...   943.2000  \n",
       "297   A clinical and family history study of Parkins...  2672.4000  \n",
       "298   The Val158Met COMT polymorphism is a modifier ...  2672.4000  \n",
       "301   Estimating the relative contribution of parasi...  1965.0000  \n",
       "311   South Asians and coronary disease: Is there di...  2672.4000  \n",
       "317   IL-25 drives remodeling in allergic airways di...  2672.4000  \n",
       "325   The long-term safety and efficacy of bilateral...  2672.4000  \n",
       "328   Proactive dairy cattle disease control in the ...  2672.4000  \n",
       "344   Resolution of a meningococcal disease outbreak...  1638.3646  \n",
       "346   Development and evaluation of a next-generatio...  1689.0092  \n",
       "356   Molecular epidemiology of human campylobacter ...  2358.0000  \n",
       "358   Pharmacological targets in the ubiquitin syste...        NaN  \n",
       "364   Acquired immune heterogeneity and its sources ...  2358.0000  \n",
       "378   Quantifying losses from the care pathway for p...  1795.5253  \n",
       "414   Maternal HIV infection and other factors assoc...  2664.5400  \n",
       "465   The hereditary spastic paraplegia protein stru...  3022.4713  \n",
       "467   Mitophagy and Parkinson's disease: the PINK1-p...  3164.1347  \n",
       "487   Genome sequencing reveals loci under artificia...  1789.5648  \n",
       "504   Next generation sequencing for neurological di...  3217.1242  \n",
       "505   Chest radiographic patterns in 75 adolescents ...  2963.6130  \n",
       "550   Are slum dwellers at heightened risk of HIV in...  3029.1130  \n",
       "...                                                 ...        ...  \n",
       "1694  Overexpression of Escherichia coli udk mimics ...  2751.0000  \n",
       "1718  Î±-Synucleinopathy associated with G51D SNCA m...  2468.0531  \n",
       "1757  The peptide motif of the single dominantly-exp...  2897.0912  \n",
       "1768  How often does music and rhythm improve patien...  2492.2226  \n",
       "1769  Discrete gait characterisitcs are associated w...  2894.7856  \n",
       "1785  Trichuris muris: a model of gastrointestinal p...  2481.9260  \n",
       "1822  The \"difficult patient\" conundrum in sickle ce...  2363.4889  \n",
       "1838  Analysis of the cartilage proteome from three ...  1367.6400  \n",
       "1884  Glucocerebrosidase deficiency in substantia ni...  2633.4144  \n",
       "1887  What brain signals are suitable for feedback c...  3004.1837  \n",
       "1923  ICOS controls Foxp3+ regulatory T cell expansi...  2384.3179  \n",
       "1949  Pseudoachondroplasia and multiple epiphyseal d...  3027.3445  \n",
       "1952  Defective TNF release from Crohns disease mac...  2525.1036  \n",
       "1970  A coupled hidden Markov model for disease inte...  3096.5256  \n",
       "1975  Somatic alpha-synuclein mutations in Parkinson...  1316.5500  \n",
       "1976  Is transcranial sonography useful to distingui...  1965.0000  \n",
       "1986  Hyposmia and cognitive impairment in Gaucher d...  3138.5897  \n",
       "1988         Parkin disease and the Lewy body conundrum  1965.0000  \n",
       "1989  Genotype and Phenotype in Parkinson's disease-...  1965.0000  \n",
       "1993  The retinoic acid producing capacity of gut de...  2530.4222  \n",
       "2009  The association between Parkinson's disease an...  2632.6415  \n",
       "2029         Acute infection and venous thromboembolism  2454.7697  \n",
       "2043  The Kinetics of the Neutralizing antibody resp...  2403.5487  \n",
       "2048  Derivation and functional analysis of patient-...  2009.1601  \n",
       "2074  Genome-wide association analyis of imputed rar...  2995.6294  \n",
       "2080  Pathogenic mitochondrial tRNA point mutations:...  2602.8390  \n",
       "2092  Canine hepacivirus is not associated with chro...  3079.1419  \n",
       "2106  Ecology of zoonotic infectious diseases in bat...  2976.5165  \n",
       "2123  Evaluation of an empiric risk screening score ...  2403.5487  \n",
       "2124  Topical umbilical cord care for prevention of ...  2403.5487  \n",
       "\n",
       "[135 rows x 5 columns]"
      ]
     },
     "execution_count": 158,
     "metadata": {},
     "output_type": "execute_result"
    }
   ],
   "source": [
    "WELL_C.loc[InfectiousDisease.apply(lambda x: WELL_C['Title'].str.contains(x)).any()]"
   ]
  },
  {
   "cell_type": "code",
   "execution_count": 160,
   "metadata": {},
   "outputs": [
    {
     "data": {
      "text/html": [
       "<div>\n",
       "<style scoped>\n",
       "    .dataframe tbody tr th:only-of-type {\n",
       "        vertical-align: middle;\n",
       "    }\n",
       "\n",
       "    .dataframe tbody tr th {\n",
       "        vertical-align: top;\n",
       "    }\n",
       "\n",
       "    .dataframe thead th {\n",
       "        text-align: right;\n",
       "    }\n",
       "</style>\n",
       "<table border=\"1\" class=\"dataframe\">\n",
       "  <thead>\n",
       "    <tr style=\"text-align: right;\">\n",
       "      <th></th>\n",
       "      <th>PMID</th>\n",
       "      <th>Publisher</th>\n",
       "      <th>Journal</th>\n",
       "      <th>Title</th>\n",
       "      <th>Cost</th>\n",
       "    </tr>\n",
       "  </thead>\n",
       "  <tbody>\n",
       "    <tr>\n",
       "      <th>185</th>\n",
       "      <td>3570299</td>\n",
       "      <td>BioMed Central</td>\n",
       "      <td>bmc medical genetics</td>\n",
       "      <td>Maternal and offspring fasting glucose and typ...</td>\n",
       "      <td>2012.1600</td>\n",
       "    </tr>\n",
       "    <tr>\n",
       "      <th>262</th>\n",
       "      <td>PMC3735389</td>\n",
       "      <td>BMC</td>\n",
       "      <td>bmc public health</td>\n",
       "      <td>Association between legume intake and self-rep...</td>\n",
       "      <td>2012.1600</td>\n",
       "    </tr>\n",
       "    <tr>\n",
       "      <th>283</th>\n",
       "      <td>PMC3657677</td>\n",
       "      <td>BMJ</td>\n",
       "      <td>bmj open</td>\n",
       "      <td>Development of an economic evaluation of diagn...</td>\n",
       "      <td>2122.2000</td>\n",
       "    </tr>\n",
       "    <tr>\n",
       "      <th>369</th>\n",
       "      <td>PMC3458429</td>\n",
       "      <td>Cambridge University Press</td>\n",
       "      <td>public health nutrition</td>\n",
       "      <td>Prevalence and risk factors for self-reported ...</td>\n",
       "      <td>2664.5400</td>\n",
       "    </tr>\n",
       "    <tr>\n",
       "      <th>831</th>\n",
       "      <td>PMC3685808</td>\n",
       "      <td>Elsevier</td>\n",
       "      <td>cell metabolism</td>\n",
       "      <td>Improved insulin sensitivity despite increased...</td>\n",
       "      <td>5350.7081</td>\n",
       "    </tr>\n",
       "    <tr>\n",
       "      <th>852</th>\n",
       "      <td>PMC3599069\\n\\n</td>\n",
       "      <td>European Society of Endocrinolog</td>\n",
       "      <td>european journal of endocrinology</td>\n",
       "      <td>Clinical and Molecular Characterisation of 300...</td>\n",
       "      <td>1886.4000</td>\n",
       "    </tr>\n",
       "    <tr>\n",
       "      <th>1068</th>\n",
       "      <td>PMID: 23229735  PMC3734734</td>\n",
       "      <td>Nature Publishing Group</td>\n",
       "      <td>international journal of obesity</td>\n",
       "      <td>Catch-up growth following intra-uterine growth...</td>\n",
       "      <td>3930.0000</td>\n",
       "    </tr>\n",
       "    <tr>\n",
       "      <th>1341</th>\n",
       "      <td>PMC3457933\\n\\n</td>\n",
       "      <td>Public Library of Science</td>\n",
       "      <td>biology</td>\n",
       "      <td>Independent Regulation of Basal Neurotransmitt...</td>\n",
       "      <td>2406.3521</td>\n",
       "    </tr>\n",
       "    <tr>\n",
       "      <th>1353</th>\n",
       "      <td>NaN</td>\n",
       "      <td>Public Library of Science</td>\n",
       "      <td>plos</td>\n",
       "      <td>Sleep-wake sensitive mechanisms of adenosine r...</td>\n",
       "      <td>1325.4580</td>\n",
       "    </tr>\n",
       "    <tr>\n",
       "      <th>1503</th>\n",
       "      <td>PMC3547960\\n</td>\n",
       "      <td>Public Library of Science</td>\n",
       "      <td>plos</td>\n",
       "      <td>Association study of 25 type 2 diabetes relate...</td>\n",
       "      <td>1102.5615</td>\n",
       "    </tr>\n",
       "    <tr>\n",
       "      <th>1746</th>\n",
       "      <td>PMCID: PMC3699707</td>\n",
       "      <td>Springer</td>\n",
       "      <td>diabetologia</td>\n",
       "      <td>Predicted impact of extending the screening in...</td>\n",
       "      <td>2998.6686</td>\n",
       "    </tr>\n",
       "    <tr>\n",
       "      <th>1747</th>\n",
       "      <td>PMC3737433</td>\n",
       "      <td>Springer</td>\n",
       "      <td>diabetologia</td>\n",
       "      <td>Improved genetic testing for monogenic diabete...</td>\n",
       "      <td>3033.6718</td>\n",
       "    </tr>\n",
       "    <tr>\n",
       "      <th>1778</th>\n",
       "      <td>PMC3777188</td>\n",
       "      <td>Springer</td>\n",
       "      <td>osteoporosis international</td>\n",
       "      <td>The anti-diabetic drug metformin does not affe...</td>\n",
       "      <td>2527.0293</td>\n",
       "    </tr>\n",
       "    <tr>\n",
       "      <th>1801</th>\n",
       "      <td>PMID: 23575945</td>\n",
       "      <td>Springer Verlag</td>\n",
       "      <td>journal of bioenergetics and biomembranes</td>\n",
       "      <td>AMPK modulates glucose-sensing in insulin-secr...</td>\n",
       "      <td>2964.1108</td>\n",
       "    </tr>\n",
       "    <tr>\n",
       "      <th>1846</th>\n",
       "      <td>PMCID: PMC3568261</td>\n",
       "      <td>The Endocrine Society</td>\n",
       "      <td>endocrinology</td>\n",
       "      <td>The programming of cardiac hypertrophy in the ...</td>\n",
       "      <td>2442.9666</td>\n",
       "    </tr>\n",
       "    <tr>\n",
       "      <th>1916</th>\n",
       "      <td>PMC3586655</td>\n",
       "      <td>Wiley</td>\n",
       "      <td>diabetic medicine</td>\n",
       "      <td>Sequencing PDX1 (insulin promoter factor 1) in...</td>\n",
       "      <td>3018.6461</td>\n",
       "    </tr>\n",
       "    <tr>\n",
       "      <th>1917</th>\n",
       "      <td>PMC3654556</td>\n",
       "      <td>Wiley</td>\n",
       "      <td>diabetic medicine</td>\n",
       "      <td>Biallelic PDX1 (insulin promoter factor 1) mut...</td>\n",
       "      <td>3027.3445</td>\n",
       "    </tr>\n",
       "    <tr>\n",
       "      <th>1918</th>\n",
       "      <td>-</td>\n",
       "      <td>Wiley</td>\n",
       "      <td>diabetic medicine</td>\n",
       "      <td>Urinary C-peptide Creatinine Ratio (UCPCR) det...</td>\n",
       "      <td>3123.1710</td>\n",
       "    </tr>\n",
       "    <tr>\n",
       "      <th>2067</th>\n",
       "      <td>PMID: 23398374 PMC3709123</td>\n",
       "      <td>Wiley-Blackwell</td>\n",
       "      <td>diabetic medicine</td>\n",
       "      <td>HLA class II gene associations in African Amer...</td>\n",
       "      <td>3114.7346</td>\n",
       "    </tr>\n",
       "  </tbody>\n",
       "</table>\n",
       "</div>"
      ],
      "text/plain": [
       "                            PMID                         Publisher  \\\n",
       "185                      3570299                    BioMed Central   \n",
       "262                   PMC3735389                               BMC   \n",
       "283                   PMC3657677                               BMJ   \n",
       "369                   PMC3458429        Cambridge University Press   \n",
       "831                   PMC3685808                         Elsevier    \n",
       "852               PMC3599069\\n\\n  European Society of Endocrinolog   \n",
       "1068  PMID: 23229735  PMC3734734           Nature Publishing Group   \n",
       "1341              PMC3457933\\n\\n         Public Library of Science   \n",
       "1353                         NaN         Public Library of Science   \n",
       "1503                PMC3547960\\n         Public Library of Science   \n",
       "1746           PMCID: PMC3699707                          Springer   \n",
       "1747                  PMC3737433                          Springer   \n",
       "1778                  PMC3777188                          Springer   \n",
       "1801              PMID: 23575945                   Springer Verlag   \n",
       "1846           PMCID: PMC3568261             The Endocrine Society   \n",
       "1916                  PMC3586655                             Wiley   \n",
       "1917                  PMC3654556                             Wiley   \n",
       "1918                           -                             Wiley   \n",
       "2067  PMID: 23398374 PMC3709123                    Wiley-Blackwell   \n",
       "\n",
       "                                        Journal  \\\n",
       "185                        bmc medical genetics   \n",
       "262                           bmc public health   \n",
       "283                                    bmj open   \n",
       "369                     public health nutrition   \n",
       "831                             cell metabolism   \n",
       "852           european journal of endocrinology   \n",
       "1068           international journal of obesity   \n",
       "1341                                    biology   \n",
       "1353                                       plos   \n",
       "1503                                       plos   \n",
       "1746                               diabetologia   \n",
       "1747                               diabetologia   \n",
       "1778                 osteoporosis international   \n",
       "1801  journal of bioenergetics and biomembranes   \n",
       "1846                              endocrinology   \n",
       "1916                          diabetic medicine   \n",
       "1917                          diabetic medicine   \n",
       "1918                          diabetic medicine   \n",
       "2067                          diabetic medicine   \n",
       "\n",
       "                                                  Title       Cost  \n",
       "185   Maternal and offspring fasting glucose and typ...  2012.1600  \n",
       "262   Association between legume intake and self-rep...  2012.1600  \n",
       "283   Development of an economic evaluation of diagn...  2122.2000  \n",
       "369   Prevalence and risk factors for self-reported ...  2664.5400  \n",
       "831   Improved insulin sensitivity despite increased...  5350.7081  \n",
       "852   Clinical and Molecular Characterisation of 300...  1886.4000  \n",
       "1068  Catch-up growth following intra-uterine growth...  3930.0000  \n",
       "1341  Independent Regulation of Basal Neurotransmitt...  2406.3521  \n",
       "1353  Sleep-wake sensitive mechanisms of adenosine r...  1325.4580  \n",
       "1503  Association study of 25 type 2 diabetes relate...  1102.5615  \n",
       "1746  Predicted impact of extending the screening in...  2998.6686  \n",
       "1747  Improved genetic testing for monogenic diabete...  3033.6718  \n",
       "1778  The anti-diabetic drug metformin does not affe...  2527.0293  \n",
       "1801  AMPK modulates glucose-sensing in insulin-secr...  2964.1108  \n",
       "1846  The programming of cardiac hypertrophy in the ...  2442.9666  \n",
       "1916  Sequencing PDX1 (insulin promoter factor 1) in...  3018.6461  \n",
       "1917  Biallelic PDX1 (insulin promoter factor 1) mut...  3027.3445  \n",
       "1918  Urinary C-peptide Creatinine Ratio (UCPCR) det...  3123.1710  \n",
       "2067  HLA class II gene associations in African Amer...  3114.7346  "
      ]
     },
     "execution_count": 160,
     "metadata": {},
     "output_type": "execute_result"
    }
   ],
   "source": [
    "WELL_C.loc[Diabetes.apply(lambda x: WELL_C['Title'].str.contains(x)).any()]"
   ]
  }
 ],
 "metadata": {
  "kernelspec": {
   "display_name": "Python 3",
   "language": "python",
   "name": "python3"
  },
  "language_info": {
   "codemirror_mode": {
    "name": "ipython",
    "version": 3
   },
   "file_extension": ".py",
   "mimetype": "text/x-python",
   "name": "python",
   "nbconvert_exporter": "python",
   "pygments_lexer": "ipython3",
   "version": "3.7.1"
  }
 },
 "nbformat": 4,
 "nbformat_minor": 2
}
